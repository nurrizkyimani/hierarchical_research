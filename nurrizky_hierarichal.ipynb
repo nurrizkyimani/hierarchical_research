{
  "nbformat": 4,
  "nbformat_minor": 0,
  "metadata": {
    "colab": {
      "name": "nurrizky_hierarichal.ipynb",
      "provenance": [],
      "collapsed_sections": [
        "3xbinH7VVYrH"
      ],
      "authorship_tag": "ABX9TyOKlBfee51xN4j63l48EM4s",
      "include_colab_link": true
    },
    "kernelspec": {
      "name": "python3",
      "display_name": "Python 3"
    },
    "language_info": {
      "name": "python"
    }
  },
  "cells": [
    {
      "cell_type": "markdown",
      "metadata": {
        "id": "view-in-github",
        "colab_type": "text"
      },
      "source": [
        "<a href=\"https://colab.research.google.com/github/nurrizkyimani/hierarchical_research/blob/main/nurrizky_hierarichal.ipynb\" target=\"_parent\"><img src=\"https://colab.research.google.com/assets/colab-badge.svg\" alt=\"Open In Colab\"/></a>"
      ]
    },
    {
      "cell_type": "markdown",
      "source": [
        "# Drive Run"
      ],
      "metadata": {
        "id": "dfYadMHR8ad5"
      }
    },
    {
      "cell_type": "code",
      "source": [
        "from google.colab import drive\n",
        "drive.mount(\"/content/drive/\")"
      ],
      "metadata": {
        "id": "BASeccfFEg_n",
        "colab": {
          "base_uri": "https://localhost:8080/"
        },
        "outputId": "1217e59c-dff8-405d-ce8f-6ca7fa96352f"
      },
      "execution_count": 2,
      "outputs": [
        {
          "output_type": "stream",
          "name": "stdout",
          "text": [
            "Mounted at /content/drive/\n"
          ]
        }
      ]
    },
    {
      "cell_type": "markdown",
      "source": [
        "# Import"
      ],
      "metadata": {
        "id": "3xbinH7VVYrH"
      }
    },
    {
      "cell_type": "code",
      "execution_count": 3,
      "metadata": {
        "id": "l5J9b8Fh9OKz"
      },
      "outputs": [],
      "source": [
        "import pandas as pd \n",
        "import numpy as np\n",
        "!pip install emoji"
      ]
    },
    {
      "cell_type": "markdown",
      "source": [
        "# Data preprocessing (add sentiment column)"
      ],
      "metadata": {
        "id": "z61p344iVQXz"
      }
    },
    {
      "cell_type": "code",
      "source": [
        "path = \"/content/drive/MyDrive/nlp_research/2022_research_hierarchical/\"\n",
        "twitter_dataset = path + \"Twitter_Emotion_Dataset.csv\"\n"
      ],
      "metadata": {
        "id": "AARtzAQXKAQ1"
      },
      "execution_count": null,
      "outputs": []
    },
    {
      "cell_type": "code",
      "source": [
        "twt_pd = pd.read_csv(twitter_dataset)"
      ],
      "metadata": {
        "id": "JJ6oMV1rKpc0"
      },
      "execution_count": null,
      "outputs": []
    },
    {
      "cell_type": "code",
      "source": [
        "twt_pd.head()"
      ],
      "metadata": {
        "colab": {
          "base_uri": "https://localhost:8080/",
          "height": 206
        },
        "id": "qLKZ3Y8AK86T",
        "outputId": "927fe44d-12ca-4337-fa27-22b068ec453c"
      },
      "execution_count": null,
      "outputs": [
        {
          "output_type": "execute_result",
          "data": {
            "text/plain": [
              "   label                                              tweet\n",
              "0  anger  Soal jln Jatibaru,polisi tdk bs GERTAK gubernu...\n",
              "1  anger  Sesama cewe lho (kayaknya), harusnya bisa lebi...\n",
              "2  happy  Kepingin gudeg mbarek Bu hj. Amad Foto dari go...\n",
              "3  anger  Jln Jatibaru,bagian dari wilayah Tn Abang.Peng...\n",
              "4  happy  Sharing pengalaman aja, kemarin jam 18.00 bata..."
            ],
            "text/html": [
              "\n",
              "  <div id=\"df-da99a5ad-206d-4f3e-a193-f1505dcab744\">\n",
              "    <div class=\"colab-df-container\">\n",
              "      <div>\n",
              "<style scoped>\n",
              "    .dataframe tbody tr th:only-of-type {\n",
              "        vertical-align: middle;\n",
              "    }\n",
              "\n",
              "    .dataframe tbody tr th {\n",
              "        vertical-align: top;\n",
              "    }\n",
              "\n",
              "    .dataframe thead th {\n",
              "        text-align: right;\n",
              "    }\n",
              "</style>\n",
              "<table border=\"1\" class=\"dataframe\">\n",
              "  <thead>\n",
              "    <tr style=\"text-align: right;\">\n",
              "      <th></th>\n",
              "      <th>label</th>\n",
              "      <th>tweet</th>\n",
              "    </tr>\n",
              "  </thead>\n",
              "  <tbody>\n",
              "    <tr>\n",
              "      <th>0</th>\n",
              "      <td>anger</td>\n",
              "      <td>Soal jln Jatibaru,polisi tdk bs GERTAK gubernu...</td>\n",
              "    </tr>\n",
              "    <tr>\n",
              "      <th>1</th>\n",
              "      <td>anger</td>\n",
              "      <td>Sesama cewe lho (kayaknya), harusnya bisa lebi...</td>\n",
              "    </tr>\n",
              "    <tr>\n",
              "      <th>2</th>\n",
              "      <td>happy</td>\n",
              "      <td>Kepingin gudeg mbarek Bu hj. Amad Foto dari go...</td>\n",
              "    </tr>\n",
              "    <tr>\n",
              "      <th>3</th>\n",
              "      <td>anger</td>\n",
              "      <td>Jln Jatibaru,bagian dari wilayah Tn Abang.Peng...</td>\n",
              "    </tr>\n",
              "    <tr>\n",
              "      <th>4</th>\n",
              "      <td>happy</td>\n",
              "      <td>Sharing pengalaman aja, kemarin jam 18.00 bata...</td>\n",
              "    </tr>\n",
              "  </tbody>\n",
              "</table>\n",
              "</div>\n",
              "      <button class=\"colab-df-convert\" onclick=\"convertToInteractive('df-da99a5ad-206d-4f3e-a193-f1505dcab744')\"\n",
              "              title=\"Convert this dataframe to an interactive table.\"\n",
              "              style=\"display:none;\">\n",
              "        \n",
              "  <svg xmlns=\"http://www.w3.org/2000/svg\" height=\"24px\"viewBox=\"0 0 24 24\"\n",
              "       width=\"24px\">\n",
              "    <path d=\"M0 0h24v24H0V0z\" fill=\"none\"/>\n",
              "    <path d=\"M18.56 5.44l.94 2.06.94-2.06 2.06-.94-2.06-.94-.94-2.06-.94 2.06-2.06.94zm-11 1L8.5 8.5l.94-2.06 2.06-.94-2.06-.94L8.5 2.5l-.94 2.06-2.06.94zm10 10l.94 2.06.94-2.06 2.06-.94-2.06-.94-.94-2.06-.94 2.06-2.06.94z\"/><path d=\"M17.41 7.96l-1.37-1.37c-.4-.4-.92-.59-1.43-.59-.52 0-1.04.2-1.43.59L10.3 9.45l-7.72 7.72c-.78.78-.78 2.05 0 2.83L4 21.41c.39.39.9.59 1.41.59.51 0 1.02-.2 1.41-.59l7.78-7.78 2.81-2.81c.8-.78.8-2.07 0-2.86zM5.41 20L4 18.59l7.72-7.72 1.47 1.35L5.41 20z\"/>\n",
              "  </svg>\n",
              "      </button>\n",
              "      \n",
              "  <style>\n",
              "    .colab-df-container {\n",
              "      display:flex;\n",
              "      flex-wrap:wrap;\n",
              "      gap: 12px;\n",
              "    }\n",
              "\n",
              "    .colab-df-convert {\n",
              "      background-color: #E8F0FE;\n",
              "      border: none;\n",
              "      border-radius: 50%;\n",
              "      cursor: pointer;\n",
              "      display: none;\n",
              "      fill: #1967D2;\n",
              "      height: 32px;\n",
              "      padding: 0 0 0 0;\n",
              "      width: 32px;\n",
              "    }\n",
              "\n",
              "    .colab-df-convert:hover {\n",
              "      background-color: #E2EBFA;\n",
              "      box-shadow: 0px 1px 2px rgba(60, 64, 67, 0.3), 0px 1px 3px 1px rgba(60, 64, 67, 0.15);\n",
              "      fill: #174EA6;\n",
              "    }\n",
              "\n",
              "    [theme=dark] .colab-df-convert {\n",
              "      background-color: #3B4455;\n",
              "      fill: #D2E3FC;\n",
              "    }\n",
              "\n",
              "    [theme=dark] .colab-df-convert:hover {\n",
              "      background-color: #434B5C;\n",
              "      box-shadow: 0px 1px 3px 1px rgba(0, 0, 0, 0.15);\n",
              "      filter: drop-shadow(0px 1px 2px rgba(0, 0, 0, 0.3));\n",
              "      fill: #FFFFFF;\n",
              "    }\n",
              "  </style>\n",
              "\n",
              "      <script>\n",
              "        const buttonEl =\n",
              "          document.querySelector('#df-da99a5ad-206d-4f3e-a193-f1505dcab744 button.colab-df-convert');\n",
              "        buttonEl.style.display =\n",
              "          google.colab.kernel.accessAllowed ? 'block' : 'none';\n",
              "\n",
              "        async function convertToInteractive(key) {\n",
              "          const element = document.querySelector('#df-da99a5ad-206d-4f3e-a193-f1505dcab744');\n",
              "          const dataTable =\n",
              "            await google.colab.kernel.invokeFunction('convertToInteractive',\n",
              "                                                     [key], {});\n",
              "          if (!dataTable) return;\n",
              "\n",
              "          const docLinkHtml = 'Like what you see? Visit the ' +\n",
              "            '<a target=\"_blank\" href=https://colab.research.google.com/notebooks/data_table.ipynb>data table notebook</a>'\n",
              "            + ' to learn more about interactive tables.';\n",
              "          element.innerHTML = '';\n",
              "          dataTable['output_type'] = 'display_data';\n",
              "          await google.colab.output.renderOutput(dataTable, element);\n",
              "          const docLink = document.createElement('div');\n",
              "          docLink.innerHTML = docLinkHtml;\n",
              "          element.appendChild(docLink);\n",
              "        }\n",
              "      </script>\n",
              "    </div>\n",
              "  </div>\n",
              "  "
            ]
          },
          "metadata": {},
          "execution_count": 17
        }
      ]
    },
    {
      "cell_type": "code",
      "source": [
        "twt_pd.info()"
      ],
      "metadata": {
        "colab": {
          "base_uri": "https://localhost:8080/"
        },
        "id": "OtELfXX6LKmo",
        "outputId": "21b559e0-3f60-464f-8c88-131e3e28f310"
      },
      "execution_count": null,
      "outputs": [
        {
          "output_type": "stream",
          "name": "stdout",
          "text": [
            "<class 'pandas.core.frame.DataFrame'>\n",
            "RangeIndex: 4401 entries, 0 to 4400\n",
            "Data columns (total 2 columns):\n",
            " #   Column  Non-Null Count  Dtype \n",
            "---  ------  --------------  ----- \n",
            " 0   label   4401 non-null   object\n",
            " 1   tweet   4401 non-null   object\n",
            "dtypes: object(2)\n",
            "memory usage: 68.9+ KB\n"
          ]
        }
      ]
    },
    {
      "cell_type": "code",
      "source": [
        "twt_pd['label'].value_counts()"
      ],
      "metadata": {
        "id": "fdIOLsXvLYx_",
        "colab": {
          "base_uri": "https://localhost:8080/"
        },
        "outputId": "cd7254a5-5248-426b-ee71-4eb5c13cfc0b"
      },
      "execution_count": null,
      "outputs": [
        {
          "output_type": "execute_result",
          "data": {
            "text/plain": [
              "anger      1101\n",
              "happy      1017\n",
              "sadness     997\n",
              "fear        649\n",
              "love        637\n",
              "Name: label, dtype: int64"
            ]
          },
          "metadata": {},
          "execution_count": 20
        }
      ]
    },
    {
      "cell_type": "code",
      "source": [
        "sentiment_neg = ['anger', 'sadness', 'fear']\n",
        "sentiment_pos = ['happy', 'love']\n",
        "\n",
        "twt_pd['sentiment'] = np.where(twt_pd[\"label\"].isin(sentiment_neg), 'negative', 'positive')"
      ],
      "metadata": {
        "id": "D2qkZdU9OCqt"
      },
      "execution_count": null,
      "outputs": []
    },
    {
      "cell_type": "code",
      "source": [
        "twt_pd.head()"
      ],
      "metadata": {
        "colab": {
          "base_uri": "https://localhost:8080/",
          "height": 206
        },
        "id": "ZKKDuF97UbIp",
        "outputId": "475c2858-da8a-444e-8cfe-eefcf5fb1ecd"
      },
      "execution_count": null,
      "outputs": [
        {
          "output_type": "execute_result",
          "data": {
            "text/plain": [
              "   label                                              tweet sentiment\n",
              "0  anger  Soal jln Jatibaru,polisi tdk bs GERTAK gubernu...  negative\n",
              "1  anger  Sesama cewe lho (kayaknya), harusnya bisa lebi...  negative\n",
              "2  happy  Kepingin gudeg mbarek Bu hj. Amad Foto dari go...  positive\n",
              "3  anger  Jln Jatibaru,bagian dari wilayah Tn Abang.Peng...  negative\n",
              "4  happy  Sharing pengalaman aja, kemarin jam 18.00 bata...  positive"
            ],
            "text/html": [
              "\n",
              "  <div id=\"df-c6602ad1-24ed-46fc-8854-52d19f561331\">\n",
              "    <div class=\"colab-df-container\">\n",
              "      <div>\n",
              "<style scoped>\n",
              "    .dataframe tbody tr th:only-of-type {\n",
              "        vertical-align: middle;\n",
              "    }\n",
              "\n",
              "    .dataframe tbody tr th {\n",
              "        vertical-align: top;\n",
              "    }\n",
              "\n",
              "    .dataframe thead th {\n",
              "        text-align: right;\n",
              "    }\n",
              "</style>\n",
              "<table border=\"1\" class=\"dataframe\">\n",
              "  <thead>\n",
              "    <tr style=\"text-align: right;\">\n",
              "      <th></th>\n",
              "      <th>label</th>\n",
              "      <th>tweet</th>\n",
              "      <th>sentiment</th>\n",
              "    </tr>\n",
              "  </thead>\n",
              "  <tbody>\n",
              "    <tr>\n",
              "      <th>0</th>\n",
              "      <td>anger</td>\n",
              "      <td>Soal jln Jatibaru,polisi tdk bs GERTAK gubernu...</td>\n",
              "      <td>negative</td>\n",
              "    </tr>\n",
              "    <tr>\n",
              "      <th>1</th>\n",
              "      <td>anger</td>\n",
              "      <td>Sesama cewe lho (kayaknya), harusnya bisa lebi...</td>\n",
              "      <td>negative</td>\n",
              "    </tr>\n",
              "    <tr>\n",
              "      <th>2</th>\n",
              "      <td>happy</td>\n",
              "      <td>Kepingin gudeg mbarek Bu hj. Amad Foto dari go...</td>\n",
              "      <td>positive</td>\n",
              "    </tr>\n",
              "    <tr>\n",
              "      <th>3</th>\n",
              "      <td>anger</td>\n",
              "      <td>Jln Jatibaru,bagian dari wilayah Tn Abang.Peng...</td>\n",
              "      <td>negative</td>\n",
              "    </tr>\n",
              "    <tr>\n",
              "      <th>4</th>\n",
              "      <td>happy</td>\n",
              "      <td>Sharing pengalaman aja, kemarin jam 18.00 bata...</td>\n",
              "      <td>positive</td>\n",
              "    </tr>\n",
              "  </tbody>\n",
              "</table>\n",
              "</div>\n",
              "      <button class=\"colab-df-convert\" onclick=\"convertToInteractive('df-c6602ad1-24ed-46fc-8854-52d19f561331')\"\n",
              "              title=\"Convert this dataframe to an interactive table.\"\n",
              "              style=\"display:none;\">\n",
              "        \n",
              "  <svg xmlns=\"http://www.w3.org/2000/svg\" height=\"24px\"viewBox=\"0 0 24 24\"\n",
              "       width=\"24px\">\n",
              "    <path d=\"M0 0h24v24H0V0z\" fill=\"none\"/>\n",
              "    <path d=\"M18.56 5.44l.94 2.06.94-2.06 2.06-.94-2.06-.94-.94-2.06-.94 2.06-2.06.94zm-11 1L8.5 8.5l.94-2.06 2.06-.94-2.06-.94L8.5 2.5l-.94 2.06-2.06.94zm10 10l.94 2.06.94-2.06 2.06-.94-2.06-.94-.94-2.06-.94 2.06-2.06.94z\"/><path d=\"M17.41 7.96l-1.37-1.37c-.4-.4-.92-.59-1.43-.59-.52 0-1.04.2-1.43.59L10.3 9.45l-7.72 7.72c-.78.78-.78 2.05 0 2.83L4 21.41c.39.39.9.59 1.41.59.51 0 1.02-.2 1.41-.59l7.78-7.78 2.81-2.81c.8-.78.8-2.07 0-2.86zM5.41 20L4 18.59l7.72-7.72 1.47 1.35L5.41 20z\"/>\n",
              "  </svg>\n",
              "      </button>\n",
              "      \n",
              "  <style>\n",
              "    .colab-df-container {\n",
              "      display:flex;\n",
              "      flex-wrap:wrap;\n",
              "      gap: 12px;\n",
              "    }\n",
              "\n",
              "    .colab-df-convert {\n",
              "      background-color: #E8F0FE;\n",
              "      border: none;\n",
              "      border-radius: 50%;\n",
              "      cursor: pointer;\n",
              "      display: none;\n",
              "      fill: #1967D2;\n",
              "      height: 32px;\n",
              "      padding: 0 0 0 0;\n",
              "      width: 32px;\n",
              "    }\n",
              "\n",
              "    .colab-df-convert:hover {\n",
              "      background-color: #E2EBFA;\n",
              "      box-shadow: 0px 1px 2px rgba(60, 64, 67, 0.3), 0px 1px 3px 1px rgba(60, 64, 67, 0.15);\n",
              "      fill: #174EA6;\n",
              "    }\n",
              "\n",
              "    [theme=dark] .colab-df-convert {\n",
              "      background-color: #3B4455;\n",
              "      fill: #D2E3FC;\n",
              "    }\n",
              "\n",
              "    [theme=dark] .colab-df-convert:hover {\n",
              "      background-color: #434B5C;\n",
              "      box-shadow: 0px 1px 3px 1px rgba(0, 0, 0, 0.15);\n",
              "      filter: drop-shadow(0px 1px 2px rgba(0, 0, 0, 0.3));\n",
              "      fill: #FFFFFF;\n",
              "    }\n",
              "  </style>\n",
              "\n",
              "      <script>\n",
              "        const buttonEl =\n",
              "          document.querySelector('#df-c6602ad1-24ed-46fc-8854-52d19f561331 button.colab-df-convert');\n",
              "        buttonEl.style.display =\n",
              "          google.colab.kernel.accessAllowed ? 'block' : 'none';\n",
              "\n",
              "        async function convertToInteractive(key) {\n",
              "          const element = document.querySelector('#df-c6602ad1-24ed-46fc-8854-52d19f561331');\n",
              "          const dataTable =\n",
              "            await google.colab.kernel.invokeFunction('convertToInteractive',\n",
              "                                                     [key], {});\n",
              "          if (!dataTable) return;\n",
              "\n",
              "          const docLinkHtml = 'Like what you see? Visit the ' +\n",
              "            '<a target=\"_blank\" href=https://colab.research.google.com/notebooks/data_table.ipynb>data table notebook</a>'\n",
              "            + ' to learn more about interactive tables.';\n",
              "          element.innerHTML = '';\n",
              "          dataTable['output_type'] = 'display_data';\n",
              "          await google.colab.output.renderOutput(dataTable, element);\n",
              "          const docLink = document.createElement('div');\n",
              "          docLink.innerHTML = docLinkHtml;\n",
              "          element.appendChild(docLink);\n",
              "        }\n",
              "      </script>\n",
              "    </div>\n",
              "  </div>\n",
              "  "
            ]
          },
          "metadata": {},
          "execution_count": 25
        }
      ]
    },
    {
      "cell_type": "code",
      "source": [
        "twt_pd.to_csv(path + 'twt_with_sentiment.csv')"
      ],
      "metadata": {
        "id": "riVlqRPoUmS8"
      },
      "execution_count": null,
      "outputs": []
    },
    {
      "cell_type": "code",
      "source": [
        ""
      ],
      "metadata": {
        "id": "Jb9YP_vIU-qL"
      },
      "execution_count": null,
      "outputs": []
    },
    {
      "cell_type": "markdown",
      "source": [
        "# Preprocess "
      ],
      "metadata": {
        "id": "pDpwoHhJ5fR0"
      }
    },
    {
      "cell_type": "code",
      "source": [
        "path = \"/content/drive/MyDrive/nlp_research/2022_research_hierarchical/\"\n",
        "file_name =  \"twt_with_sentiment.csv\"\n",
        "pre_twt_dataset = path + file_name"
      ],
      "metadata": {
        "id": "5xyN-9oP5hUc"
      },
      "execution_count": 4,
      "outputs": []
    },
    {
      "cell_type": "code",
      "source": [
        "twt_pd = pd.read_csv(pre_twt_dataset)"
      ],
      "metadata": {
        "id": "PSWoP1nc_qgB"
      },
      "execution_count": 5,
      "outputs": []
    },
    {
      "cell_type": "code",
      "source": [
        "twt_pd.head()"
      ],
      "metadata": {
        "colab": {
          "base_uri": "https://localhost:8080/",
          "height": 206
        },
        "id": "ZKy9hx1P_sIj",
        "outputId": "c42ec193-8d5e-4a85-cc63-daed83aeb7ea"
      },
      "execution_count": 6,
      "outputs": [
        {
          "output_type": "execute_result",
          "data": {
            "text/plain": [
              "   Unnamed: 0  label                                              tweet  \\\n",
              "0           0  anger  Soal jln Jatibaru,polisi tdk bs GERTAK gubernu...   \n",
              "1           1  anger  Sesama cewe lho (kayaknya), harusnya bisa lebi...   \n",
              "2           2  happy  Kepingin gudeg mbarek Bu hj. Amad Foto dari go...   \n",
              "3           3  anger  Jln Jatibaru,bagian dari wilayah Tn Abang.Peng...   \n",
              "4           4  happy  Sharing pengalaman aja, kemarin jam 18.00 bata...   \n",
              "\n",
              "  sentiment  \n",
              "0  negative  \n",
              "1  negative  \n",
              "2  positive  \n",
              "3  negative  \n",
              "4  positive  "
            ],
            "text/html": [
              "\n",
              "  <div id=\"df-a5297b96-ef4c-4879-88ac-c60ce1702006\">\n",
              "    <div class=\"colab-df-container\">\n",
              "      <div>\n",
              "<style scoped>\n",
              "    .dataframe tbody tr th:only-of-type {\n",
              "        vertical-align: middle;\n",
              "    }\n",
              "\n",
              "    .dataframe tbody tr th {\n",
              "        vertical-align: top;\n",
              "    }\n",
              "\n",
              "    .dataframe thead th {\n",
              "        text-align: right;\n",
              "    }\n",
              "</style>\n",
              "<table border=\"1\" class=\"dataframe\">\n",
              "  <thead>\n",
              "    <tr style=\"text-align: right;\">\n",
              "      <th></th>\n",
              "      <th>Unnamed: 0</th>\n",
              "      <th>label</th>\n",
              "      <th>tweet</th>\n",
              "      <th>sentiment</th>\n",
              "    </tr>\n",
              "  </thead>\n",
              "  <tbody>\n",
              "    <tr>\n",
              "      <th>0</th>\n",
              "      <td>0</td>\n",
              "      <td>anger</td>\n",
              "      <td>Soal jln Jatibaru,polisi tdk bs GERTAK gubernu...</td>\n",
              "      <td>negative</td>\n",
              "    </tr>\n",
              "    <tr>\n",
              "      <th>1</th>\n",
              "      <td>1</td>\n",
              "      <td>anger</td>\n",
              "      <td>Sesama cewe lho (kayaknya), harusnya bisa lebi...</td>\n",
              "      <td>negative</td>\n",
              "    </tr>\n",
              "    <tr>\n",
              "      <th>2</th>\n",
              "      <td>2</td>\n",
              "      <td>happy</td>\n",
              "      <td>Kepingin gudeg mbarek Bu hj. Amad Foto dari go...</td>\n",
              "      <td>positive</td>\n",
              "    </tr>\n",
              "    <tr>\n",
              "      <th>3</th>\n",
              "      <td>3</td>\n",
              "      <td>anger</td>\n",
              "      <td>Jln Jatibaru,bagian dari wilayah Tn Abang.Peng...</td>\n",
              "      <td>negative</td>\n",
              "    </tr>\n",
              "    <tr>\n",
              "      <th>4</th>\n",
              "      <td>4</td>\n",
              "      <td>happy</td>\n",
              "      <td>Sharing pengalaman aja, kemarin jam 18.00 bata...</td>\n",
              "      <td>positive</td>\n",
              "    </tr>\n",
              "  </tbody>\n",
              "</table>\n",
              "</div>\n",
              "      <button class=\"colab-df-convert\" onclick=\"convertToInteractive('df-a5297b96-ef4c-4879-88ac-c60ce1702006')\"\n",
              "              title=\"Convert this dataframe to an interactive table.\"\n",
              "              style=\"display:none;\">\n",
              "        \n",
              "  <svg xmlns=\"http://www.w3.org/2000/svg\" height=\"24px\"viewBox=\"0 0 24 24\"\n",
              "       width=\"24px\">\n",
              "    <path d=\"M0 0h24v24H0V0z\" fill=\"none\"/>\n",
              "    <path d=\"M18.56 5.44l.94 2.06.94-2.06 2.06-.94-2.06-.94-.94-2.06-.94 2.06-2.06.94zm-11 1L8.5 8.5l.94-2.06 2.06-.94-2.06-.94L8.5 2.5l-.94 2.06-2.06.94zm10 10l.94 2.06.94-2.06 2.06-.94-2.06-.94-.94-2.06-.94 2.06-2.06.94z\"/><path d=\"M17.41 7.96l-1.37-1.37c-.4-.4-.92-.59-1.43-.59-.52 0-1.04.2-1.43.59L10.3 9.45l-7.72 7.72c-.78.78-.78 2.05 0 2.83L4 21.41c.39.39.9.59 1.41.59.51 0 1.02-.2 1.41-.59l7.78-7.78 2.81-2.81c.8-.78.8-2.07 0-2.86zM5.41 20L4 18.59l7.72-7.72 1.47 1.35L5.41 20z\"/>\n",
              "  </svg>\n",
              "      </button>\n",
              "      \n",
              "  <style>\n",
              "    .colab-df-container {\n",
              "      display:flex;\n",
              "      flex-wrap:wrap;\n",
              "      gap: 12px;\n",
              "    }\n",
              "\n",
              "    .colab-df-convert {\n",
              "      background-color: #E8F0FE;\n",
              "      border: none;\n",
              "      border-radius: 50%;\n",
              "      cursor: pointer;\n",
              "      display: none;\n",
              "      fill: #1967D2;\n",
              "      height: 32px;\n",
              "      padding: 0 0 0 0;\n",
              "      width: 32px;\n",
              "    }\n",
              "\n",
              "    .colab-df-convert:hover {\n",
              "      background-color: #E2EBFA;\n",
              "      box-shadow: 0px 1px 2px rgba(60, 64, 67, 0.3), 0px 1px 3px 1px rgba(60, 64, 67, 0.15);\n",
              "      fill: #174EA6;\n",
              "    }\n",
              "\n",
              "    [theme=dark] .colab-df-convert {\n",
              "      background-color: #3B4455;\n",
              "      fill: #D2E3FC;\n",
              "    }\n",
              "\n",
              "    [theme=dark] .colab-df-convert:hover {\n",
              "      background-color: #434B5C;\n",
              "      box-shadow: 0px 1px 3px 1px rgba(0, 0, 0, 0.15);\n",
              "      filter: drop-shadow(0px 1px 2px rgba(0, 0, 0, 0.3));\n",
              "      fill: #FFFFFF;\n",
              "    }\n",
              "  </style>\n",
              "\n",
              "      <script>\n",
              "        const buttonEl =\n",
              "          document.querySelector('#df-a5297b96-ef4c-4879-88ac-c60ce1702006 button.colab-df-convert');\n",
              "        buttonEl.style.display =\n",
              "          google.colab.kernel.accessAllowed ? 'block' : 'none';\n",
              "\n",
              "        async function convertToInteractive(key) {\n",
              "          const element = document.querySelector('#df-a5297b96-ef4c-4879-88ac-c60ce1702006');\n",
              "          const dataTable =\n",
              "            await google.colab.kernel.invokeFunction('convertToInteractive',\n",
              "                                                     [key], {});\n",
              "          if (!dataTable) return;\n",
              "\n",
              "          const docLinkHtml = 'Like what you see? Visit the ' +\n",
              "            '<a target=\"_blank\" href=https://colab.research.google.com/notebooks/data_table.ipynb>data table notebook</a>'\n",
              "            + ' to learn more about interactive tables.';\n",
              "          element.innerHTML = '';\n",
              "          dataTable['output_type'] = 'display_data';\n",
              "          await google.colab.output.renderOutput(dataTable, element);\n",
              "          const docLink = document.createElement('div');\n",
              "          docLink.innerHTML = docLinkHtml;\n",
              "          element.appendChild(docLink);\n",
              "        }\n",
              "      </script>\n",
              "    </div>\n",
              "  </div>\n",
              "  "
            ]
          },
          "metadata": {},
          "execution_count": 6
        }
      ]
    },
    {
      "cell_type": "code",
      "source": [
        "col_to_remove = twt_pd.iloc[:, 1]\n",
        "\n",
        "twt_pd_no_one = twt_pd.drop(twt_pd.columns[0], axis=1)"
      ],
      "metadata": {
        "id": "DSSZ6d0iCCBC"
      },
      "execution_count": 20,
      "outputs": []
    },
    {
      "cell_type": "code",
      "source": [
        "twt_pd_no_one.head()"
      ],
      "metadata": {
        "colab": {
          "base_uri": "https://localhost:8080/",
          "height": 206
        },
        "id": "ciG3ACPNCIRG",
        "outputId": "433624c1-9432-46ce-f981-2f29f9d119d8"
      },
      "execution_count": 21,
      "outputs": [
        {
          "output_type": "execute_result",
          "data": {
            "text/plain": [
              "   label                                              tweet sentiment\n",
              "0  anger  Soal jln Jatibaru,polisi tdk bs GERTAK gubernu...  negative\n",
              "1  anger  Sesama cewe lho (kayaknya), harusnya bisa lebi...  negative\n",
              "2  happy  Kepingin gudeg mbarek Bu hj. Amad Foto dari go...  positive\n",
              "3  anger  Jln Jatibaru,bagian dari wilayah Tn Abang.Peng...  negative\n",
              "4  happy  Sharing pengalaman aja, kemarin jam 18.00 bata...  positive"
            ],
            "text/html": [
              "\n",
              "  <div id=\"df-a4560a67-e05f-4ad5-91ee-a4a61bc91d4b\">\n",
              "    <div class=\"colab-df-container\">\n",
              "      <div>\n",
              "<style scoped>\n",
              "    .dataframe tbody tr th:only-of-type {\n",
              "        vertical-align: middle;\n",
              "    }\n",
              "\n",
              "    .dataframe tbody tr th {\n",
              "        vertical-align: top;\n",
              "    }\n",
              "\n",
              "    .dataframe thead th {\n",
              "        text-align: right;\n",
              "    }\n",
              "</style>\n",
              "<table border=\"1\" class=\"dataframe\">\n",
              "  <thead>\n",
              "    <tr style=\"text-align: right;\">\n",
              "      <th></th>\n",
              "      <th>label</th>\n",
              "      <th>tweet</th>\n",
              "      <th>sentiment</th>\n",
              "    </tr>\n",
              "  </thead>\n",
              "  <tbody>\n",
              "    <tr>\n",
              "      <th>0</th>\n",
              "      <td>anger</td>\n",
              "      <td>Soal jln Jatibaru,polisi tdk bs GERTAK gubernu...</td>\n",
              "      <td>negative</td>\n",
              "    </tr>\n",
              "    <tr>\n",
              "      <th>1</th>\n",
              "      <td>anger</td>\n",
              "      <td>Sesama cewe lho (kayaknya), harusnya bisa lebi...</td>\n",
              "      <td>negative</td>\n",
              "    </tr>\n",
              "    <tr>\n",
              "      <th>2</th>\n",
              "      <td>happy</td>\n",
              "      <td>Kepingin gudeg mbarek Bu hj. Amad Foto dari go...</td>\n",
              "      <td>positive</td>\n",
              "    </tr>\n",
              "    <tr>\n",
              "      <th>3</th>\n",
              "      <td>anger</td>\n",
              "      <td>Jln Jatibaru,bagian dari wilayah Tn Abang.Peng...</td>\n",
              "      <td>negative</td>\n",
              "    </tr>\n",
              "    <tr>\n",
              "      <th>4</th>\n",
              "      <td>happy</td>\n",
              "      <td>Sharing pengalaman aja, kemarin jam 18.00 bata...</td>\n",
              "      <td>positive</td>\n",
              "    </tr>\n",
              "  </tbody>\n",
              "</table>\n",
              "</div>\n",
              "      <button class=\"colab-df-convert\" onclick=\"convertToInteractive('df-a4560a67-e05f-4ad5-91ee-a4a61bc91d4b')\"\n",
              "              title=\"Convert this dataframe to an interactive table.\"\n",
              "              style=\"display:none;\">\n",
              "        \n",
              "  <svg xmlns=\"http://www.w3.org/2000/svg\" height=\"24px\"viewBox=\"0 0 24 24\"\n",
              "       width=\"24px\">\n",
              "    <path d=\"M0 0h24v24H0V0z\" fill=\"none\"/>\n",
              "    <path d=\"M18.56 5.44l.94 2.06.94-2.06 2.06-.94-2.06-.94-.94-2.06-.94 2.06-2.06.94zm-11 1L8.5 8.5l.94-2.06 2.06-.94-2.06-.94L8.5 2.5l-.94 2.06-2.06.94zm10 10l.94 2.06.94-2.06 2.06-.94-2.06-.94-.94-2.06-.94 2.06-2.06.94z\"/><path d=\"M17.41 7.96l-1.37-1.37c-.4-.4-.92-.59-1.43-.59-.52 0-1.04.2-1.43.59L10.3 9.45l-7.72 7.72c-.78.78-.78 2.05 0 2.83L4 21.41c.39.39.9.59 1.41.59.51 0 1.02-.2 1.41-.59l7.78-7.78 2.81-2.81c.8-.78.8-2.07 0-2.86zM5.41 20L4 18.59l7.72-7.72 1.47 1.35L5.41 20z\"/>\n",
              "  </svg>\n",
              "      </button>\n",
              "      \n",
              "  <style>\n",
              "    .colab-df-container {\n",
              "      display:flex;\n",
              "      flex-wrap:wrap;\n",
              "      gap: 12px;\n",
              "    }\n",
              "\n",
              "    .colab-df-convert {\n",
              "      background-color: #E8F0FE;\n",
              "      border: none;\n",
              "      border-radius: 50%;\n",
              "      cursor: pointer;\n",
              "      display: none;\n",
              "      fill: #1967D2;\n",
              "      height: 32px;\n",
              "      padding: 0 0 0 0;\n",
              "      width: 32px;\n",
              "    }\n",
              "\n",
              "    .colab-df-convert:hover {\n",
              "      background-color: #E2EBFA;\n",
              "      box-shadow: 0px 1px 2px rgba(60, 64, 67, 0.3), 0px 1px 3px 1px rgba(60, 64, 67, 0.15);\n",
              "      fill: #174EA6;\n",
              "    }\n",
              "\n",
              "    [theme=dark] .colab-df-convert {\n",
              "      background-color: #3B4455;\n",
              "      fill: #D2E3FC;\n",
              "    }\n",
              "\n",
              "    [theme=dark] .colab-df-convert:hover {\n",
              "      background-color: #434B5C;\n",
              "      box-shadow: 0px 1px 3px 1px rgba(0, 0, 0, 0.15);\n",
              "      filter: drop-shadow(0px 1px 2px rgba(0, 0, 0, 0.3));\n",
              "      fill: #FFFFFF;\n",
              "    }\n",
              "  </style>\n",
              "\n",
              "      <script>\n",
              "        const buttonEl =\n",
              "          document.querySelector('#df-a4560a67-e05f-4ad5-91ee-a4a61bc91d4b button.colab-df-convert');\n",
              "        buttonEl.style.display =\n",
              "          google.colab.kernel.accessAllowed ? 'block' : 'none';\n",
              "\n",
              "        async function convertToInteractive(key) {\n",
              "          const element = document.querySelector('#df-a4560a67-e05f-4ad5-91ee-a4a61bc91d4b');\n",
              "          const dataTable =\n",
              "            await google.colab.kernel.invokeFunction('convertToInteractive',\n",
              "                                                     [key], {});\n",
              "          if (!dataTable) return;\n",
              "\n",
              "          const docLinkHtml = 'Like what you see? Visit the ' +\n",
              "            '<a target=\"_blank\" href=https://colab.research.google.com/notebooks/data_table.ipynb>data table notebook</a>'\n",
              "            + ' to learn more about interactive tables.';\n",
              "          element.innerHTML = '';\n",
              "          dataTable['output_type'] = 'display_data';\n",
              "          await google.colab.output.renderOutput(dataTable, element);\n",
              "          const docLink = document.createElement('div');\n",
              "          docLink.innerHTML = docLinkHtml;\n",
              "          element.appendChild(docLink);\n",
              "        }\n",
              "      </script>\n",
              "    </div>\n",
              "  </div>\n",
              "  "
            ]
          },
          "metadata": {},
          "execution_count": 21
        }
      ]
    },
    {
      "cell_type": "code",
      "source": [
        "#case folding\n",
        "\n",
        "twt_pd_noone_lower = twt_pd_no_one.copy()\n",
        "twt_pd_noone_lower['tweet'] = twt_pd_noone_lower['tweet'].str.lower()"
      ],
      "metadata": {
        "id": "hXgjBIS6DWA8"
      },
      "execution_count": 22,
      "outputs": []
    },
    {
      "cell_type": "code",
      "source": [
        "twt_pd_noone_lower.head()"
      ],
      "metadata": {
        "colab": {
          "base_uri": "https://localhost:8080/",
          "height": 206
        },
        "id": "8QtTaErLDqgU",
        "outputId": "f41777d8-10ea-4507-da0d-15379a491036"
      },
      "execution_count": 24,
      "outputs": [
        {
          "output_type": "execute_result",
          "data": {
            "text/plain": [
              "   label                                              tweet sentiment\n",
              "0  anger  soal jln jatibaru,polisi tdk bs gertak gubernu...  negative\n",
              "1  anger  sesama cewe lho (kayaknya), harusnya bisa lebi...  negative\n",
              "2  happy  kepingin gudeg mbarek bu hj. amad foto dari go...  positive\n",
              "3  anger  jln jatibaru,bagian dari wilayah tn abang.peng...  negative\n",
              "4  happy  sharing pengalaman aja, kemarin jam 18.00 bata...  positive"
            ],
            "text/html": [
              "\n",
              "  <div id=\"df-e0a0c9bc-8cfa-407f-a65e-4b81642ab353\">\n",
              "    <div class=\"colab-df-container\">\n",
              "      <div>\n",
              "<style scoped>\n",
              "    .dataframe tbody tr th:only-of-type {\n",
              "        vertical-align: middle;\n",
              "    }\n",
              "\n",
              "    .dataframe tbody tr th {\n",
              "        vertical-align: top;\n",
              "    }\n",
              "\n",
              "    .dataframe thead th {\n",
              "        text-align: right;\n",
              "    }\n",
              "</style>\n",
              "<table border=\"1\" class=\"dataframe\">\n",
              "  <thead>\n",
              "    <tr style=\"text-align: right;\">\n",
              "      <th></th>\n",
              "      <th>label</th>\n",
              "      <th>tweet</th>\n",
              "      <th>sentiment</th>\n",
              "    </tr>\n",
              "  </thead>\n",
              "  <tbody>\n",
              "    <tr>\n",
              "      <th>0</th>\n",
              "      <td>anger</td>\n",
              "      <td>soal jln jatibaru,polisi tdk bs gertak gubernu...</td>\n",
              "      <td>negative</td>\n",
              "    </tr>\n",
              "    <tr>\n",
              "      <th>1</th>\n",
              "      <td>anger</td>\n",
              "      <td>sesama cewe lho (kayaknya), harusnya bisa lebi...</td>\n",
              "      <td>negative</td>\n",
              "    </tr>\n",
              "    <tr>\n",
              "      <th>2</th>\n",
              "      <td>happy</td>\n",
              "      <td>kepingin gudeg mbarek bu hj. amad foto dari go...</td>\n",
              "      <td>positive</td>\n",
              "    </tr>\n",
              "    <tr>\n",
              "      <th>3</th>\n",
              "      <td>anger</td>\n",
              "      <td>jln jatibaru,bagian dari wilayah tn abang.peng...</td>\n",
              "      <td>negative</td>\n",
              "    </tr>\n",
              "    <tr>\n",
              "      <th>4</th>\n",
              "      <td>happy</td>\n",
              "      <td>sharing pengalaman aja, kemarin jam 18.00 bata...</td>\n",
              "      <td>positive</td>\n",
              "    </tr>\n",
              "  </tbody>\n",
              "</table>\n",
              "</div>\n",
              "      <button class=\"colab-df-convert\" onclick=\"convertToInteractive('df-e0a0c9bc-8cfa-407f-a65e-4b81642ab353')\"\n",
              "              title=\"Convert this dataframe to an interactive table.\"\n",
              "              style=\"display:none;\">\n",
              "        \n",
              "  <svg xmlns=\"http://www.w3.org/2000/svg\" height=\"24px\"viewBox=\"0 0 24 24\"\n",
              "       width=\"24px\">\n",
              "    <path d=\"M0 0h24v24H0V0z\" fill=\"none\"/>\n",
              "    <path d=\"M18.56 5.44l.94 2.06.94-2.06 2.06-.94-2.06-.94-.94-2.06-.94 2.06-2.06.94zm-11 1L8.5 8.5l.94-2.06 2.06-.94-2.06-.94L8.5 2.5l-.94 2.06-2.06.94zm10 10l.94 2.06.94-2.06 2.06-.94-2.06-.94-.94-2.06-.94 2.06-2.06.94z\"/><path d=\"M17.41 7.96l-1.37-1.37c-.4-.4-.92-.59-1.43-.59-.52 0-1.04.2-1.43.59L10.3 9.45l-7.72 7.72c-.78.78-.78 2.05 0 2.83L4 21.41c.39.39.9.59 1.41.59.51 0 1.02-.2 1.41-.59l7.78-7.78 2.81-2.81c.8-.78.8-2.07 0-2.86zM5.41 20L4 18.59l7.72-7.72 1.47 1.35L5.41 20z\"/>\n",
              "  </svg>\n",
              "      </button>\n",
              "      \n",
              "  <style>\n",
              "    .colab-df-container {\n",
              "      display:flex;\n",
              "      flex-wrap:wrap;\n",
              "      gap: 12px;\n",
              "    }\n",
              "\n",
              "    .colab-df-convert {\n",
              "      background-color: #E8F0FE;\n",
              "      border: none;\n",
              "      border-radius: 50%;\n",
              "      cursor: pointer;\n",
              "      display: none;\n",
              "      fill: #1967D2;\n",
              "      height: 32px;\n",
              "      padding: 0 0 0 0;\n",
              "      width: 32px;\n",
              "    }\n",
              "\n",
              "    .colab-df-convert:hover {\n",
              "      background-color: #E2EBFA;\n",
              "      box-shadow: 0px 1px 2px rgba(60, 64, 67, 0.3), 0px 1px 3px 1px rgba(60, 64, 67, 0.15);\n",
              "      fill: #174EA6;\n",
              "    }\n",
              "\n",
              "    [theme=dark] .colab-df-convert {\n",
              "      background-color: #3B4455;\n",
              "      fill: #D2E3FC;\n",
              "    }\n",
              "\n",
              "    [theme=dark] .colab-df-convert:hover {\n",
              "      background-color: #434B5C;\n",
              "      box-shadow: 0px 1px 3px 1px rgba(0, 0, 0, 0.15);\n",
              "      filter: drop-shadow(0px 1px 2px rgba(0, 0, 0, 0.3));\n",
              "      fill: #FFFFFF;\n",
              "    }\n",
              "  </style>\n",
              "\n",
              "      <script>\n",
              "        const buttonEl =\n",
              "          document.querySelector('#df-e0a0c9bc-8cfa-407f-a65e-4b81642ab353 button.colab-df-convert');\n",
              "        buttonEl.style.display =\n",
              "          google.colab.kernel.accessAllowed ? 'block' : 'none';\n",
              "\n",
              "        async function convertToInteractive(key) {\n",
              "          const element = document.querySelector('#df-e0a0c9bc-8cfa-407f-a65e-4b81642ab353');\n",
              "          const dataTable =\n",
              "            await google.colab.kernel.invokeFunction('convertToInteractive',\n",
              "                                                     [key], {});\n",
              "          if (!dataTable) return;\n",
              "\n",
              "          const docLinkHtml = 'Like what you see? Visit the ' +\n",
              "            '<a target=\"_blank\" href=https://colab.research.google.com/notebooks/data_table.ipynb>data table notebook</a>'\n",
              "            + ' to learn more about interactive tables.';\n",
              "          element.innerHTML = '';\n",
              "          dataTable['output_type'] = 'display_data';\n",
              "          await google.colab.output.renderOutput(dataTable, element);\n",
              "          const docLink = document.createElement('div');\n",
              "          docLink.innerHTML = docLinkHtml;\n",
              "          element.appendChild(docLink);\n",
              "        }\n",
              "      </script>\n",
              "    </div>\n",
              "  </div>\n",
              "  "
            ]
          },
          "metadata": {},
          "execution_count": 24
        }
      ]
    },
    {
      "cell_type": "code",
      "source": [
        "# remove time \n",
        "# regex = \"([01]?[0-9]|2[0-3]).[0-5][0-9]\";\n",
        "reg_time = \"([01]\\d|2[0-3]).([0-5]\\d)\"\n",
        "\n",
        "tst = twt_pd_noone_lower['tweet'].str.findall(reg_time)"
      ],
      "metadata": {
        "id": "-f8N9WjtMPNr"
      },
      "execution_count": 53,
      "outputs": []
    },
    {
      "cell_type": "code",
      "source": [
        "twt_pd_noone_lower['tweet'][4397]"
      ],
      "metadata": {
        "colab": {
          "base_uri": "https://localhost:8080/",
          "height": 52
        },
        "id": "4A-CmmQSRuIm",
        "outputId": "d232f25f-5862-4dcb-d2fa-231a7e21ff3b"
      },
      "execution_count": 43,
      "outputs": [
        {
          "output_type": "execute_result",
          "data": {
            "text/plain": [
              "'sulitnya menetapkan calon wapresnya jokowi di pilpres 2019 salah satunya disebabkan gemuknya partai koalisi yang mengusung petahana. sehingga sikap kehati-hatian agar tidak ada yang terluka dari partai pengusung harus tetap dijaga #pilpres2019 #pilpres #jokowi #parpol'"
            ],
            "application/vnd.google.colaboratory.intrinsic+json": {
              "type": "string"
            }
          },
          "metadata": {},
          "execution_count": 43
        }
      ]
    },
    {
      "cell_type": "code",
      "source": [
        "# remove time ; \n",
        "\n",
        "twt_lower = twt_pd_noone_lower.copy()\n",
        "twt_lower['tweet']  = twt_lower['tweet'].str.replace(r\"([01]\\d|2[0-3]).([0-5]\\d)\",\" \")"
      ],
      "metadata": {
        "colab": {
          "base_uri": "https://localhost:8080/"
        },
        "id": "hdjJfqvhSMjZ",
        "outputId": "05b1a354-38dd-468b-9915-e083f7873de9"
      },
      "execution_count": 83,
      "outputs": [
        {
          "output_type": "stream",
          "name": "stderr",
          "text": [
            "/usr/local/lib/python3.7/dist-packages/ipykernel_launcher.py:4: FutureWarning: The default value of regex will change from True to False in a future version.\n",
            "  after removing the cwd from sys.path.\n"
          ]
        }
      ]
    },
    {
      "cell_type": "code",
      "source": [
        "# remove hashtag; \n",
        "\n",
        "\n",
        "twt_hastag = twt_lower.copy()\n",
        "\n",
        "trt = twt_hastag['tweet'].str.findall(r'\\B#\\w*[a-zA-Z]+\\w*')\n",
        "\n",
        "ht_list = []\n",
        "\n",
        "for tok, val in trt.iteritems():\n",
        "  for v in val:\n",
        "    ht_list.append(v)\n",
        "\n",
        "twt_hastag['tweet']  = twt_hastag['tweet'].str.replace(\"#\", \"\")"
      ],
      "metadata": {
        "id": "HIEKZ7n8c6AP"
      },
      "execution_count": 85,
      "outputs": []
    },
    {
      "cell_type": "code",
      "source": [
        "twt_hastag['tweet'][4397]"
      ],
      "metadata": {
        "colab": {
          "base_uri": "https://localhost:8080/",
          "height": 52
        },
        "id": "SX5iCnr4orXb",
        "outputId": "9f2a6e3c-e1a7-4243-d0f8-82e14358d650"
      },
      "execution_count": 86,
      "outputs": [
        {
          "output_type": "execute_result",
          "data": {
            "text/plain": [
              "'sulitnya menetapkan calon wapresnya jokowi di pilpres 2019 salah satunya disebabkan gemuknya partai koalisi yang mengusung petahana. sehingga sikap kehati-hatian agar tidak ada yang terluka dari partai pengusung harus tetap dijaga pilpres2019 pilpres jokowi parpol'"
            ],
            "application/vnd.google.colaboratory.intrinsic+json": {
              "type": "string"
            }
          },
          "metadata": {},
          "execution_count": 86
        }
      ]
    },
    {
      "cell_type": "code",
      "source": [
        "print(ht_list)"
      ],
      "metadata": {
        "colab": {
          "base_uri": "https://localhost:8080/"
        },
        "id": "_IXu_GqBsXif",
        "outputId": "ab8590fa-0e9e-4be2-ba16-c84b5e79dae5"
      },
      "execution_count": 88,
      "outputs": [
        {
          "output_type": "stream",
          "name": "stdout",
          "text": [
            "['#tni', '#bulanbungkarno', '#junibulanbungkarno', '#penyambunglidahrakyatindonesia', '#nomor2untukjatim', '#jatimpilihgusipulputi', '#kabehsedulurkabehmakmur', '#6nov', '#31months', '#begoloe', '#hadiahperasaan', '#sajete', '#wani', '#kecewa', '#salamsatunyalilari', '#bonekjancuk', '#belanjaitugakribet', '#menurutguesih', '#menurutkusih', '#jadilebihbaik', '#generasiantikorupsi', '#iyainajabiarcepet', '#heartofalio', '#hilihkinthil', '#iniserius', '#seriuscumatulisan', '#tulisandarilubuhhati', '#hatiyangcukupdalam', '#tapigakdalamdalambanget', '#islamselamatkannegeri', '#sedihrasanya', '#bukugariswaktu', '#fiersabesari', '#janganpilihpartaioposan', '#sexualharassment', '#saveviavallen', '#oldmoney', '#mobilelegendsbangbangid', '#recehkantwitter', '#recehkantwitter', '#karenasampahjakartabedasampahjerman', '#oldmoneygakngerasain', '#oldmoneygakngerasain', '#oldmoneygakngerasain', '#oldmoneygakngerasain', '#recehkantwitter', '#ramadhan', '#fiestamaksimum', '#2019gantipresiden', '#pantangmunsur', '#jakmania', '#persijaselamanya', '#2019gantipresiden', '#oldmoneygakngerasain', '#testiq', '#armyselcaday', '#oldmoneygakngerasain', '#yha', '#workshopcerpenkompas2014', '#tsygmc', '#menjauhdarijanji', '#workshopcerpenkompas2015', '#tsygmc', '#tsygmc', '#workshopcerpenkompas2014', '#curcol', '#surabaya', '#surabayamacet', '#tsygmc', '#bacabuku', '#workshopcerpenkompas2014', '#sedooooottt', '#wannaone', '#nowplaying', '#oldmoneygakngerasain', '#skripsibaper', '#kapanmarineeeeeeeeyaallah', '#rolandgarros18', '#ldrkronis', '#rolandgarros18', '#recehkantwitter', '#udahgituaja', '#lagidanlagi', '#andraandthebackbone', '#peak212', '#halah', '#baperlevelcupu', '#ngayalbabu', '#anakperantauan', '#anakkost', '#maklumlahyo', '#happy25', '#thanksfam', '#thanksdear', '#oldmoneygakngerasain', '#recehkantwitter', '#goindonesia', '#twittmalam', '#twittrindu', '#inisahurtiketcomharike20', '#netmediatama', '#inisahurtiketcomharike20', '#oldmoneygakngerasain', '#friendster', '#thankyoutwitter', '#harijaditwittersaya', '#oldmoneygangerasain', '#gituajaterus', '#mikir', '#oldmoneygakngerasain', '#oldmoneygakngerasain', '#pekaitupenting', '#mytwitteranniversary', '#ceritahariini', '#ceritakemarinsore', '#spoiler', '#telkom', '#oldmoneygakngerasain', '#bijakberplastik', '#mbuh', '#ilcbpip', '#persibday', '#relationshit', '#kai', '#kaioninstagram', '#ilcbpip', '#nasib', '#alhamdulillah', '#pakan', '#budidaya', '#kulinertradisional', '#kulinerbanyuwangi', '#bakulkuliner', '#warunglya', '#ahlanwasahlanpildun', '#bonekselamanyajancok', '#viavallen', '#justkidding', '#viavallen', '#sajak', '#poem', '#hujan', '#senja', '#rindu', '#pertemuan', '#efekkebanyaknbacanovel', '#ripkate', '#lyfe', '#pacaranjamandulu', '#masihtentangjuni', '#ceritakaa', '#masihtentangjuni', '#ceritakaa', '#ajaib', '#savewoman', '#saveviavallen', '#speakup', '#timesup', '#rabumenggebu', '#ozmatasapi', '#barunikah', '#batalin2periode', '#pasta', '#piza', '#kiscorp', '#sukseskanasiangames2018', '#timviavallen', '#semangatpuasa', '#misezbogoronramadhan', '#petuahpuasa', '#fiersabesari', '#latepost', '#jadilebihbaik', '#bukber', '#sukseskanseagames', '#curvanordpersija', '#curvasudpersija', '#rojali', '#asukabeh', '#oldmoneygakngerasain', '#worldcup', '#temanantaraterfavorit', '#workshopcerpenkompas2015', '#tsygmc', '#maritertiblantas', '#oldmoneygakngerasain', '#oldmoneygakngerasain', '#oldmoneygakngerasain', '#mudikbarengguyubrukun2018', '#kawulamoda', '#lebaran2018', '#kangentingting', '#aslipati', '#nguri2', '#armyselcaday', '#pembisnismuda', '#inisahurtiketcomharike20', '#inisahurtiketcomharike20', '#inisahurtiketcomharike20', '#oldmoneygakngerasain', '#oldmoneygangerasain', '#tolakhoax', '#lawanhoax', '#pilkadadamai2018', '#kawalkreasi', '#recehkantwitter', '#oldmoneygakngerasain', '#aksibelavia', '#bukbermendesa', '#ramadan', '#tgbharapan2019', '#ilcbpip', '#bedahrumahibuiriyani', '#quotesoftheday', '#sukseskanasiangames2018', '#keluhanborjuis', '#forgiveme', '#saveviavallen', '#lifeatapril', '#selamatpagi', '#gunungkidul', '#harilingkunganhidupsedunia', '#worldenviromentday2018', '#andrebarabere', '#juliaperrez', '#juliaperez', '#jupenizer', '#lll', '#lfl', '#tflers', '#likeforlike', '#sick', '#jupe', '#meninggal', '#rip', '#ripjupe', '#cecepy', '#cirebon', '#exo', '#exoplanet', '#theelyxion_dot', '#exo_comingsoon', '#weareoneexo', '#nomation', '#cakilrakyat', '#tegaklurus', '#satukomando', '#exoplanet', '#exo', '#exo_comingsoon', '#theelyxion_dot', '#weareoneexo', '#rakyat', '#penentu', '#indonesia', '#elit', '#parpol', '#2019bubarkanpks', '#throwback', '#nadyaandriwedding', '#tak8erbatas', '#dgitm', '#virtualrunid', '#dukungbersama', '#asiangames2018', '#fitmom', '#runninggirl', '#runningmom', '#runningjourney', '#waterfalls', '#tgb', '#hrs', '#sby', '#pmarahanarab', '#akugppkok', '#tsahhhh', '#holiday', '#breakfast', '#syantik', '#pizzahut', '#juanda', '#jakarta', '#indonesia', '#tuesday', '#sekitarkudus', '#infosekitarkudus', '#kudus', '#riprahtawu', '#bersepeda', '#bandungbersepeda', '#bandung', '#bandungnightride', '#indonesiabersepeda', '#parangtritis', '#beach', '#yogyakarta', '#tgb', '#cegahstunting', '#berigizicukup', '#sayanganak', '#seminarpanji', '#sastra', '#anakkodok', '#jadibisa', '#rameinbola', '#hellomellopoppunk', '#hellomello', '#poppunk', '#subang', '#recording', '#bukber', '#reuni', '#sokonandi', '#returnofthelittleprince', '#happyheechulday', '#jadibisa', '#rameinbola', '#touringertigamania', '#ermanjatim', '#halalbihalal2018', '#sahabat', '#janganlupabersyukur', '#alwayssayalhamdulillah', '#akurapopo', '#8monthdedek', '#nazhiaputriadhitya', '#sehatterussayang', '#cintaudek', '#thaicaverescue', '#pakarkomunikasi', '#explorebanten', '#exploreindonesia', '#pandeglang', '#mountain', '#pulosari', '#tibatibacinta', '#tibatibakangensuami', '#tibatiba', '#cerita', '#orangyangkucintai', '#hazeeek', '#ayomembaca', '#satuharisatubab', '#catatanperjalanan', '#suryakencana', '#gununggede', '#returnofthelittleprince', '#nonelse', '#happy', '#happytuesday', '#jokowisekalilagi', '#jokowi2periode', '#streetcubeastborneo', '#streetcubbalikpapan', '#janganlupabahagia', '#streetcubkaltim', '#streetcubfans', '#streetcub_bpp', '#streetcub', '#jokowi2periode', '#guitarforlife', '#honorindonesia', '#allhamdulilah', '#honorindonesia', '#kapanliburanlagi', '#kerjateruss', '#honorindonesia', '#honor7s', '#honorindonesia', '#honor7s', '#supir', '#segera', '#2019tetapjokowi', '#jokowi_2_periode', '#jokowibersamarakyat', '#mohonantri', '#kopi_nusantara', '#kopiindonesia', '#arabika', '#arabica', '#mandheling', '#mandailingcoffee', '#mandailing', '#sumateracoffee', '#kintamani', '#photography', '#savana', '#vsco', '#balicili', '#balitrip', '#baligasm', '#bali', '#travelling', '#happybirthday', '#mybaby', '#vitaminsea', '#nu', '#majelisnuruddin8642', '#satrionkri', '#ngaji', '#seriustanya', '#bazarpesonamudiklebaran', '#staywithmetodaytomorrowforever', '#bazarpesonamudiklebaran', '#genpitng', '#dududududu', '#harijaditwittersaya', '#frn', '#tumblr', '#wisngonowae', '#maafefekstress', '#efekldr', '#efeklaparjuga', '#exo_comingsoon', '#exo', '#exoplanet', '#weareoneexo', '#tipssore', '#salamsaum', '#sobatani', '#petanikita', '#janganbullyaku', '#temanbukanpacarbukan', '#baladaanakdaerah', '#inisahurtiketcomharike20', '#harilingkunganhidupsedunia', '#prayforlombok', '#cmiiw', '#viwihotdealsformiddleeast', '#pwbanget', '#harianaknasional', '#bts', '#inisahurtiketcomharike20', '#semen', '#2019tetapjokowi', '#2019tetapjokowi', '#2019tetapjokowi', '#2019tetapjokowi', '#2019tetapjokowi', '#2019tetapjokowi', '#recehkantwitter', '#teenchoice', '#choicefandom', '#btsarmy', '#gantipresiden2019', '#jumatberkah', '#padatkaryatunai', '#tppilumajang', '#thaicaverescue', '#recehkantwitter', '#memberantaskemiskinan', '#kreasitiadahenti', '#semuademibeas', '#motorcycle', '#kustomkulture', '#jokowisekalilagi', '#celotehreceh', '#happyjendeukieday', '#calonpenghunineraka', '#has', '#pesonaramadan2018', '#pesonaramadan4juni2018', '#jokowisekalilagi', '#sajak_detik', '#sajakrindu', '#diam', '#tanyajawab', '#janganpergi', '#bni46', '#rakyatindonesia', '#savenkri', '#oldmoneygakngerasain', '#oldmoneygakngerasain', '#kknlyfe', '#2019tetapjokowi', '#jokowi_2_periode', '#jokowimembangunindonesia', '#solo', '#dapetin', '#sisasemalam', '#dibuangsayang', '#withgadis', '#22menit', '#ansormajusatubarisan', '#parkir', '#ilcbpip', '#2019gantipresiden', '#happy_baekho_day', '#jayalahnu', '#jokowisekalilagi', '#hentikanacarapembodohan', '#savetelevisiindonesia', '#kpi', '#grabtakesyouthere', '#idolbyopera', '#idolshowcase1', '#dontforget', '#ya', '#eonnie', '#semangat', '#sizzyharuskuat', '#friendzoned', '#temanbukanpacarbukan', '#kulinertradisional', '#kulinerbanyuwangi', '#bakulkuliner', '#warunglya', '#panoramacantik', '#inisahurtiketcomharike20', '#cinta', '#kiddos', '#play', '#games', '#oldmoneygakngerasain', '#deteksidinihepatitis', '#celotehreceh', '#recehkantwitter', '#kapangemuk', '#jatengdaruratkorupsi', '#jatengdaruratkorupsi', '#jatengdaruratkorupsi', '#jatengdaruratkorupsi', '#jatengdaruratkorupsi', '#jatengdaruratkorupsi', '#jatengdaruratkorupsi', '#jatengdaruratkorupsi', '#jatengdaruratkorupsi', '#jatengdaruratkorupsi', '#teenchoice', '#choicefandom', '#btsarmy', '#mr21', '#olahraga', '#sepakbola', '#penerusbangsa', '#indonesia', '#atlite', '#olahragawan', '#adidas', '#nike', '#puma', '#specs', '#anakbola', '#timnasindonesia', '#sukses', '#2pm', '#hottest', '#indonesia', '#puisimalam', '#islahdiri', '#darencintafeyca', '#inisahurtiketcomharike20', '#kotamalang', '#savejalanraya', '#malang', '#momnjogadingserpong', '#giftawayforcustomer', '#kopi', '#thanks', '#halalbihalal', '#jatimotoblog', '#blitar', '#sugimasihada', '#blogger', '#rider', '#touring', '#oldmoneygakngerasain', '#happy_baekho_day', '#roomtoread', '#viwihotdealsformiddleeast', '#ramadan', '#recehkantwiter', '#freepalestine', '#deenassalam', '#us', '#recehkantwitter', '#keluargabaru', '#viwihotdealsformiddleeast', '#thinkifyouhavebrain', '#hamilsamasetan', '#falsong', '#memetwit', '#ygl', '#pappa33yearsold', '#viwihotdealsformiddleeast', '#prayforlombok', '#nahdlatululama', '#jokowisekalilagi', '#inisahurtiketcomharike20', '#temankobong', '#pagingopi', '#ramadan', '#kapanliburanlagi', '#recehkantwiter', '#recehkanpssi', '#recehkansepakbola', '#masakecilkuasik', '#jadilebihbaik', '#mesra', '#presidenterhebat', '#iriana', '#firstladyindonesia', '#trans7rumahuya2507', '#rumahuya2507', '#muktamar18imm', '#jokowisekalilagi', '#dailysinthaa', '#prayforlombok', '#goldreinvented', '#antamlogammulia', '#pssday', '#islahdiri', '#simplylife', '#persibday', '#pucuk', '#juara', '#awaydays', '#bantul', '#bobotohsaalamdunya', '#banggamengawalmu', '#oldmoneygakngerasain', '#recehkantwitter', '#recehkantwiter', '#recehkantwitter', '#bali', '#instabali', '#kangenbali', '#jelajahdesa2018', '#mohonditindaklanjut', '#2019istiqomahjokowi', '#salamsaum', '#bandung', '#cikutra', '#ensenangbandung', '#payingrespect', '#jokowi2periode', '#siap2', '#waspadamerapi', '#protesdewe', '#getwellsoonleeteuk', '#razannajjar', '#palestina', '#myfaceismyproblemnotyours', '#dibikinasikaja', '#familytime', '#qualitytime', '#unitedindonesia', '#unitedtogether', '#uici', '#unitedindramayu', '#unitedindonesiachapterindramayu', '#ayoramaikantengananfestival', '#politiksubjektif', '#dinnerdate', '#jokowi2periode', '#kosanlyfe', '#internationalgamelanfestival2018', '#keseleocinta', '#efekgabisatidur', '#nanyaserius', '#maukerja', '#aquietplace', '#hereditary', '#bahasaarab', '#oldmoneygakngerasain', '#nasehat', '#eaaaaaaa', '#bondonekat', '#mydiary', '#humancapitallife', '#terjemahanbebas', '#jadigalau', '#workshop', '#wedding', '#weddingparty', '#weddingtradisional', '#adatjawa', '#menyedihkan', '#friendship_goals', '#happy3thanniversary', '#trans7rumahuya2507', '#rumahuya2507', '#faktaatauhoax', '#jatengsaruratkorupsi', '#jatengsaruratkorupsi', '#jatengsaruratkorupsi', '#jatengsaruratkorupsi', '#jatengsaruratkorupsi', '#jatengsaruratkorupsi', '#jatengsaruratkorupsi', '#jatengsaruratkorupsi', '#jatengsaruratkorupsi', '#jatengsaruratkorupsi', '#aqilah', '#calonpenghunineraka', '#psim', '#psimday', '#cinta', '#kasih', '#sayang', '#jokowi2periode', '#lestactindonesia', '#putrikedatonspa', '#ct', '#persibday', '#persibsalawasna', '#persiblive', '#psmsvprsb', '#liga1kitasatu', '#2019gantipresiden', '#pilpres2019', '#pilpres', '#jokowi', '#parpol', '#dontdateadancer']\n"
          ]
        }
      ]
    },
    {
      "cell_type": "code",
      "source": [
        "# remove punctuation\n",
        "twt_puc = twt_hastag.copy()\n",
        "twt_puc['tweet'] = twt_puc['tweet'].str.replace(r'[^\\w\\s]+', '')\n",
        "twt_puc['tweet'][4397]"
      ],
      "metadata": {
        "colab": {
          "base_uri": "https://localhost:8080/",
          "height": 87
        },
        "id": "xBpOkQm6kAZp",
        "outputId": "316b93dd-a875-4f2d-ecec-c0c1e0fc5495"
      },
      "execution_count": 90,
      "outputs": [
        {
          "output_type": "stream",
          "name": "stderr",
          "text": [
            "/usr/local/lib/python3.7/dist-packages/ipykernel_launcher.py:3: FutureWarning: The default value of regex will change from True to False in a future version.\n",
            "  This is separate from the ipykernel package so we can avoid doing imports until\n"
          ]
        },
        {
          "output_type": "execute_result",
          "data": {
            "text/plain": [
              "'sulitnya menetapkan calon wapresnya jokowi di pilpres 2019 salah satunya disebabkan gemuknya partai koalisi yang mengusung petahana sehingga sikap kehatihatian agar tidak ada yang terluka dari partai pengusung harus tetap dijaga pilpres2019 pilpres jokowi parpol'"
            ],
            "application/vnd.google.colaboratory.intrinsic+json": {
              "type": "string"
            }
          },
          "metadata": {},
          "execution_count": 90
        }
      ]
    },
    {
      "cell_type": "code",
      "source": [
        "# change emoji; \n",
        "twt_emoji = twt_puc.copy()\n",
        "\n",
        "trt = twt_emoji['tweet'].str.findall(r'[^\\w\\s,]')\n",
        "\n",
        "emolist = []\n",
        "\n",
        "for tok, val in trt.iteritems():\n",
        "  for v in val:\n",
        "    emolist.append(v)\n",
        "\n",
        "print(emolist)\n",
        "\n",
        "\n",
        "import emoji\n",
        "\n",
        "def extract_emojis(s):\n",
        "  return ''.join(c for c in s if c in emoji.UNICODE_EMOJI['en'])\n",
        "\n",
        "for index, row in twt_emoji.iterrows():\n",
        "    emo = extract_emojis(row)\n",
        "    if emo: \n",
        "      emolist.append(emo)\n",
        "\n",
        "print(emolist)\n",
        "\n",
        "#no emoji"
      ],
      "metadata": {
        "colab": {
          "base_uri": "https://localhost:8080/"
        },
        "id": "oy6Yf_bUbwZL",
        "outputId": "068ef5db-4135-4d49-b66d-ceb80833c6cf"
      },
      "execution_count": 98,
      "outputs": [
        {
          "output_type": "stream",
          "name": "stdout",
          "text": [
            "[]\n",
            "[]\n"
          ]
        }
      ]
    },
    {
      "cell_type": "code",
      "source": [
        "!pip install PySastrawi"
      ],
      "metadata": {
        "colab": {
          "base_uri": "https://localhost:8080/"
        },
        "id": "HVB2X3YGx6yo",
        "outputId": "31f8f80d-1e6a-4fe0-f4fd-df69bab3efc8"
      },
      "execution_count": 100,
      "outputs": [
        {
          "output_type": "stream",
          "name": "stdout",
          "text": [
            "Looking in indexes: https://pypi.org/simple, https://us-python.pkg.dev/colab-wheels/public/simple/\n",
            "Collecting PySastrawi\n",
            "  Downloading PySastrawi-1.2.0-py2.py3-none-any.whl (210 kB)\n",
            "\u001b[K     |████████████████████████████████| 210 kB 4.3 MB/s \n",
            "\u001b[?25hInstalling collected packages: PySastrawi\n",
            "Successfully installed PySastrawi-1.2.0\n"
          ]
        }
      ]
    },
    {
      "cell_type": "code",
      "source": [
        "# stemming \n",
        "from Sastrawi.Stemmer.StemmerFactory import StemmerFactory\n",
        "\n",
        "# create stemmer\n",
        "factory = StemmerFactory()\n",
        "stemmer = factory.create_stemmer()\n",
        "\n",
        "# stemming process\n",
        "sentence = 'Perekonomian Indonesia sedang dalam pertumbuhan yang membanggakan'\n",
        "output   = stemmer.stem(sentence)\n",
        "\n",
        "print(output)\n",
        "# ekonomi indonesia sedang dalam tumbuh yang bangga\n",
        "\n",
        "print(stemmer.stem('Mereka meniru-nirukannya'))\n",
        "\n",
        "twt_stem = twt_emoji.copy()\n",
        "\n",
        "twt_stem['tweet'] = twt_stem['tweet'].apply(lambda x: stemmer.stem(x))"
      ],
      "metadata": {
        "colab": {
          "base_uri": "https://localhost:8080/"
        },
        "id": "8dAX5Ezwxu34",
        "outputId": "28d4852a-1525-421b-dcdc-3e47916d5dbb"
      },
      "execution_count": 101,
      "outputs": [
        {
          "output_type": "stream",
          "name": "stdout",
          "text": [
            "ekonomi indonesia sedang dalam tumbuh yang bangga\n",
            "mereka tiru\n"
          ]
        }
      ]
    },
    {
      "cell_type": "code",
      "source": [
        "twt_stem['tweet'][4398]"
      ],
      "metadata": {
        "colab": {
          "base_uri": "https://localhost:8080/",
          "height": 35
        },
        "id": "0nvLA_wJzlTY",
        "outputId": "c6232875-609b-4ee3-bc97-3181dd5cea1a"
      },
      "execution_count": 103,
      "outputs": [
        {
          "output_type": "execute_result",
          "data": {
            "text/plain": [
              "'5 masa depan nggak jelas lha iya gimana mau jelas coba lulus seni bisa cuma nari mau kerja apa narinari doang berapa sih hasil tari kerja juga gak tetap dontdateadancer'"
            ],
            "application/vnd.google.colaboratory.intrinsic+json": {
              "type": "string"
            }
          },
          "metadata": {},
          "execution_count": 103
        }
      ]
    },
    {
      "cell_type": "code",
      "source": [
        "import re\n",
        "twt_pd_space = twt_pd_noone_lower.copy()\n",
        "\n",
        "twt_pd_space['tweet'] = twt_pd_space['tweet'].apply(lambda y: \" \".join((re.sub(r'([+/-;\\';.,\\-()])', lambda x: ' ' + x.group()+' ' , y)).split()) , 1)"
      ],
      "metadata": {
        "id": "t6HF85mkDr9K"
      },
      "execution_count": 32,
      "outputs": []
    },
    {
      "cell_type": "code",
      "source": [
        "twt_pd_space.head(10)"
      ],
      "metadata": {
        "colab": {
          "base_uri": "https://localhost:8080/",
          "height": 363
        },
        "id": "LfVc2yCVK8uW",
        "outputId": "c920b4a6-abe7-4f6b-8080-82784d36953a"
      },
      "execution_count": 33,
      "outputs": [
        {
          "output_type": "execute_result",
          "data": {
            "text/plain": [
              "     label                                              tweet sentiment\n",
              "0    anger  soal jln jatibaru , polisi tdk bs gertak guber...  negative\n",
              "1    anger  sesama cewe lho ( kayaknya ) , harusnya bisa l...  negative\n",
              "2    happy  kepingin gudeg mbarek bu hj . amad foto dari g...  positive\n",
              "3    anger  jln jatibaru , bagian dari wilayah tn abang . ...  negative\n",
              "4    happy  sharing pengalaman aja , kemarin jam 1 8 . 0 0...  positive\n",
              "5    anger  dari sekian banyak thread yang aku baca , thre...  negative\n",
              "6    happy  sharing sama temen tuh emg guna bgt . disaat l...  positive\n",
              "7  sadness  orang lain kalau pake ponco itu buat jas hujan...  negative\n",
              "8    anger  contoh mereka yg gemar menyudutkan , teriak pa...  negative\n",
              "9  sadness  pulang udah h - 4 lebaran dilema sekali . sepe...  negative"
            ],
            "text/html": [
              "\n",
              "  <div id=\"df-f759d2aa-df55-4b44-bcc2-3239241e4ded\">\n",
              "    <div class=\"colab-df-container\">\n",
              "      <div>\n",
              "<style scoped>\n",
              "    .dataframe tbody tr th:only-of-type {\n",
              "        vertical-align: middle;\n",
              "    }\n",
              "\n",
              "    .dataframe tbody tr th {\n",
              "        vertical-align: top;\n",
              "    }\n",
              "\n",
              "    .dataframe thead th {\n",
              "        text-align: right;\n",
              "    }\n",
              "</style>\n",
              "<table border=\"1\" class=\"dataframe\">\n",
              "  <thead>\n",
              "    <tr style=\"text-align: right;\">\n",
              "      <th></th>\n",
              "      <th>label</th>\n",
              "      <th>tweet</th>\n",
              "      <th>sentiment</th>\n",
              "    </tr>\n",
              "  </thead>\n",
              "  <tbody>\n",
              "    <tr>\n",
              "      <th>0</th>\n",
              "      <td>anger</td>\n",
              "      <td>soal jln jatibaru , polisi tdk bs gertak guber...</td>\n",
              "      <td>negative</td>\n",
              "    </tr>\n",
              "    <tr>\n",
              "      <th>1</th>\n",
              "      <td>anger</td>\n",
              "      <td>sesama cewe lho ( kayaknya ) , harusnya bisa l...</td>\n",
              "      <td>negative</td>\n",
              "    </tr>\n",
              "    <tr>\n",
              "      <th>2</th>\n",
              "      <td>happy</td>\n",
              "      <td>kepingin gudeg mbarek bu hj . amad foto dari g...</td>\n",
              "      <td>positive</td>\n",
              "    </tr>\n",
              "    <tr>\n",
              "      <th>3</th>\n",
              "      <td>anger</td>\n",
              "      <td>jln jatibaru , bagian dari wilayah tn abang . ...</td>\n",
              "      <td>negative</td>\n",
              "    </tr>\n",
              "    <tr>\n",
              "      <th>4</th>\n",
              "      <td>happy</td>\n",
              "      <td>sharing pengalaman aja , kemarin jam 1 8 . 0 0...</td>\n",
              "      <td>positive</td>\n",
              "    </tr>\n",
              "    <tr>\n",
              "      <th>5</th>\n",
              "      <td>anger</td>\n",
              "      <td>dari sekian banyak thread yang aku baca , thre...</td>\n",
              "      <td>negative</td>\n",
              "    </tr>\n",
              "    <tr>\n",
              "      <th>6</th>\n",
              "      <td>happy</td>\n",
              "      <td>sharing sama temen tuh emg guna bgt . disaat l...</td>\n",
              "      <td>positive</td>\n",
              "    </tr>\n",
              "    <tr>\n",
              "      <th>7</th>\n",
              "      <td>sadness</td>\n",
              "      <td>orang lain kalau pake ponco itu buat jas hujan...</td>\n",
              "      <td>negative</td>\n",
              "    </tr>\n",
              "    <tr>\n",
              "      <th>8</th>\n",
              "      <td>anger</td>\n",
              "      <td>contoh mereka yg gemar menyudutkan , teriak pa...</td>\n",
              "      <td>negative</td>\n",
              "    </tr>\n",
              "    <tr>\n",
              "      <th>9</th>\n",
              "      <td>sadness</td>\n",
              "      <td>pulang udah h - 4 lebaran dilema sekali . sepe...</td>\n",
              "      <td>negative</td>\n",
              "    </tr>\n",
              "  </tbody>\n",
              "</table>\n",
              "</div>\n",
              "      <button class=\"colab-df-convert\" onclick=\"convertToInteractive('df-f759d2aa-df55-4b44-bcc2-3239241e4ded')\"\n",
              "              title=\"Convert this dataframe to an interactive table.\"\n",
              "              style=\"display:none;\">\n",
              "        \n",
              "  <svg xmlns=\"http://www.w3.org/2000/svg\" height=\"24px\"viewBox=\"0 0 24 24\"\n",
              "       width=\"24px\">\n",
              "    <path d=\"M0 0h24v24H0V0z\" fill=\"none\"/>\n",
              "    <path d=\"M18.56 5.44l.94 2.06.94-2.06 2.06-.94-2.06-.94-.94-2.06-.94 2.06-2.06.94zm-11 1L8.5 8.5l.94-2.06 2.06-.94-2.06-.94L8.5 2.5l-.94 2.06-2.06.94zm10 10l.94 2.06.94-2.06 2.06-.94-2.06-.94-.94-2.06-.94 2.06-2.06.94z\"/><path d=\"M17.41 7.96l-1.37-1.37c-.4-.4-.92-.59-1.43-.59-.52 0-1.04.2-1.43.59L10.3 9.45l-7.72 7.72c-.78.78-.78 2.05 0 2.83L4 21.41c.39.39.9.59 1.41.59.51 0 1.02-.2 1.41-.59l7.78-7.78 2.81-2.81c.8-.78.8-2.07 0-2.86zM5.41 20L4 18.59l7.72-7.72 1.47 1.35L5.41 20z\"/>\n",
              "  </svg>\n",
              "      </button>\n",
              "      \n",
              "  <style>\n",
              "    .colab-df-container {\n",
              "      display:flex;\n",
              "      flex-wrap:wrap;\n",
              "      gap: 12px;\n",
              "    }\n",
              "\n",
              "    .colab-df-convert {\n",
              "      background-color: #E8F0FE;\n",
              "      border: none;\n",
              "      border-radius: 50%;\n",
              "      cursor: pointer;\n",
              "      display: none;\n",
              "      fill: #1967D2;\n",
              "      height: 32px;\n",
              "      padding: 0 0 0 0;\n",
              "      width: 32px;\n",
              "    }\n",
              "\n",
              "    .colab-df-convert:hover {\n",
              "      background-color: #E2EBFA;\n",
              "      box-shadow: 0px 1px 2px rgba(60, 64, 67, 0.3), 0px 1px 3px 1px rgba(60, 64, 67, 0.15);\n",
              "      fill: #174EA6;\n",
              "    }\n",
              "\n",
              "    [theme=dark] .colab-df-convert {\n",
              "      background-color: #3B4455;\n",
              "      fill: #D2E3FC;\n",
              "    }\n",
              "\n",
              "    [theme=dark] .colab-df-convert:hover {\n",
              "      background-color: #434B5C;\n",
              "      box-shadow: 0px 1px 3px 1px rgba(0, 0, 0, 0.15);\n",
              "      filter: drop-shadow(0px 1px 2px rgba(0, 0, 0, 0.3));\n",
              "      fill: #FFFFFF;\n",
              "    }\n",
              "  </style>\n",
              "\n",
              "      <script>\n",
              "        const buttonEl =\n",
              "          document.querySelector('#df-f759d2aa-df55-4b44-bcc2-3239241e4ded button.colab-df-convert');\n",
              "        buttonEl.style.display =\n",
              "          google.colab.kernel.accessAllowed ? 'block' : 'none';\n",
              "\n",
              "        async function convertToInteractive(key) {\n",
              "          const element = document.querySelector('#df-f759d2aa-df55-4b44-bcc2-3239241e4ded');\n",
              "          const dataTable =\n",
              "            await google.colab.kernel.invokeFunction('convertToInteractive',\n",
              "                                                     [key], {});\n",
              "          if (!dataTable) return;\n",
              "\n",
              "          const docLinkHtml = 'Like what you see? Visit the ' +\n",
              "            '<a target=\"_blank\" href=https://colab.research.google.com/notebooks/data_table.ipynb>data table notebook</a>'\n",
              "            + ' to learn more about interactive tables.';\n",
              "          element.innerHTML = '';\n",
              "          dataTable['output_type'] = 'display_data';\n",
              "          await google.colab.output.renderOutput(dataTable, element);\n",
              "          const docLink = document.createElement('div');\n",
              "          docLink.innerHTML = docLinkHtml;\n",
              "          element.appendChild(docLink);\n",
              "        }\n",
              "      </script>\n",
              "    </div>\n",
              "  </div>\n",
              "  "
            ]
          },
          "metadata": {},
          "execution_count": 33
        }
      ]
    },
    {
      "cell_type": "code",
      "source": [
        ""
      ],
      "metadata": {
        "id": "2lfJgQzaLFoC"
      },
      "execution_count": null,
      "outputs": []
    }
  ]
}