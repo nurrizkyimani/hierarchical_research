{
  "nbformat": 4,
  "nbformat_minor": 0,
  "metadata": {
    "colab": {
      "name": "Nurrizky_COPY_linus_hierarchical_model.ipynb",
      "provenance": [],
      "collapsed_sections": [
        "awNfPj8B_WYZ",
        "iO3hXrWXAisS",
        "giusMp7V41in",
        "_-JEQDKE99Vl"
      ],
      "include_colab_link": true
    },
    "kernelspec": {
      "name": "python3",
      "display_name": "Python 3"
    },
    "language_info": {
      "name": "python"
    }
  },
  "cells": [
    {
      "cell_type": "markdown",
      "metadata": {
        "id": "view-in-github",
        "colab_type": "text"
      },
      "source": [
        "<a href=\"https://colab.research.google.com/github/nurrizkyimani/hierarchical_research/blob/main/Nurrizky_COPY_linus_hierarchical_model.ipynb\" target=\"_parent\"><img src=\"https://colab.research.google.com/assets/colab-badge.svg\" alt=\"Open In Colab\"/></a>"
      ]
    },
    {
      "cell_type": "markdown",
      "source": [
        "# Imports"
      ],
      "metadata": {
        "id": "awNfPj8B_WYZ"
      }
    },
    {
      "cell_type": "code",
      "source": [
        "from google.colab import drive\n",
        "drive.mount('/content/drive')"
      ],
      "metadata": {
        "colab": {
          "base_uri": "https://localhost:8080/"
        },
        "id": "8hO_zQZf5kpQ",
        "outputId": "47501ff1-5187-4836-bfcc-f7e41af94e4d"
      },
      "execution_count": 2,
      "outputs": [
        {
          "output_type": "stream",
          "name": "stdout",
          "text": [
            "Drive already mounted at /content/drive; to attempt to forcibly remount, call drive.mount(\"/content/drive\", force_remount=True).\n"
          ]
        }
      ]
    },
    {
      "cell_type": "code",
      "source": [
        "!pip install --upgrade gensim"
      ],
      "metadata": {
        "colab": {
          "base_uri": "https://localhost:8080/"
        },
        "id": "H2Qrs18W_NuV",
        "outputId": "b3ddb86b-6e3b-45c7-e71f-81e46f2ad3a2"
      },
      "execution_count": 3,
      "outputs": [
        {
          "output_type": "stream",
          "name": "stdout",
          "text": [
            "Looking in indexes: https://pypi.org/simple, https://us-python.pkg.dev/colab-wheels/public/simple/\n",
            "Requirement already satisfied: gensim in /usr/local/lib/python3.7/dist-packages (3.6.0)\n",
            "Collecting gensim\n",
            "  Downloading gensim-4.2.0-cp37-cp37m-manylinux_2_12_x86_64.manylinux2010_x86_64.whl (24.1 MB)\n",
            "\u001b[K     |████████████████████████████████| 24.1 MB 68.2 MB/s \n",
            "\u001b[?25hRequirement already satisfied: smart-open>=1.8.1 in /usr/local/lib/python3.7/dist-packages (from gensim) (6.0.0)\n",
            "Requirement already satisfied: scipy>=0.18.1 in /usr/local/lib/python3.7/dist-packages (from gensim) (1.4.1)\n",
            "Requirement already satisfied: numpy>=1.17.0 in /usr/local/lib/python3.7/dist-packages (from gensim) (1.21.6)\n",
            "Installing collected packages: gensim\n",
            "  Attempting uninstall: gensim\n",
            "    Found existing installation: gensim 3.6.0\n",
            "    Uninstalling gensim-3.6.0:\n",
            "      Successfully uninstalled gensim-3.6.0\n",
            "Successfully installed gensim-4.2.0\n"
          ]
        }
      ]
    },
    {
      "cell_type": "code",
      "execution_count": 4,
      "metadata": {
        "id": "aP7Dw-6P4N7E"
      },
      "outputs": [],
      "source": [
        "#general\n",
        "import pandas as pd\n",
        "import numpy as np\n",
        "import string\n",
        "import math\n",
        "import re\n",
        "from tqdm import tqdm\n",
        "import matplotlib.pyplot as plt\n",
        "import seaborn as sns\n",
        "tqdm.pandas()\n",
        "\n",
        "#keras, tf, torch\n",
        "import tensorflow as tf\n",
        "from tensorflow import keras\n",
        "import torch\n",
        "from keras.preprocessing.text import Tokenizer\n",
        "from keras.preprocessing.sequence import pad_sequences\n",
        "from keras.models import Sequential\n",
        "from keras.models import *\n",
        "from keras.layers import *\n",
        "from keras.callbacks import EarlyStopping\n",
        "from keras.callbacks import LearningRateScheduler\n",
        "from keras.layers import Dropout\n",
        "from keras import regularizers\n",
        "from keras import backend as K"
      ]
    },
    {
      "cell_type": "code",
      "source": [
        "np.random.seed(2022)"
      ],
      "metadata": {
        "id": "W1zeaq90-s0m"
      },
      "execution_count": 5,
      "outputs": []
    },
    {
      "cell_type": "code",
      "source": [
        "path = '/content/drive/MyDrive/nlp_research/2022_research_hierarchical/'\n",
        "current_dataset = 'linus_final_df_1.csv'\n",
        "\n",
        "#df = pd.read_csv(path + 'twt_preprocessed_stop.csv', index_col=0).reset_index(drop=True)\n",
        "df = pd.read_csv(path + current_dataset, index_col=0).reset_index(drop=True)"
      ],
      "metadata": {
        "id": "m10iQ9n64bUm"
      },
      "execution_count": 7,
      "outputs": []
    },
    {
      "cell_type": "markdown",
      "source": [
        "# Split Sentiment"
      ],
      "metadata": {
        "id": "RsVZpf7_9DnC"
      }
    },
    {
      "cell_type": "code",
      "source": [
        "df"
      ],
      "metadata": {
        "colab": {
          "base_uri": "https://localhost:8080/",
          "height": 424
        },
        "id": "kZ1pnqTt-wtb",
        "outputId": "41611189-2bec-4d61-88f5-c89cf78afc93"
      },
      "execution_count": 8,
      "outputs": [
        {
          "output_type": "execute_result",
          "data": {
            "text/plain": [
              "        label                                              tweet sentiment\n",
              "0       anger  jln jatibarupolisi tdk bs gertak gubernur eman...  negative\n",
              "1       anger  cewe lho kayak rasain sibuk jaga rasain sakit ...  negative\n",
              "2       happy  kepingin gudeg mbarek bu hj amad foto google s...  positive\n",
              "3       anger  jln jatibarubagian wilayah tn abangpengaturan ...  negative\n",
              "4       happy  sharing alam kemarin jam batalin tiket stasiun...  positive\n",
              "...       ...                                                ...       ...\n",
              "4368     love  papa mejam tahan gejolak batin papa tapu lagil...  positive\n",
              "4369     fear  sulit calon wapresnya jokowi pilpres salah gem...  negative\n",
              "4370    anger  nggak lha iya gimana coba lulus seni nari nari...  negative\n",
              "4371    happy  beneran mahasiswa teknik ui nembak pacar pas s...  positive\n",
              "4372  sadness               allah engkau sakit hati sembuh allah  negative\n",
              "\n",
              "[4373 rows x 3 columns]"
            ],
            "text/html": [
              "\n",
              "  <div id=\"df-2c853e6c-92aa-44f4-a960-efdba50a0c32\">\n",
              "    <div class=\"colab-df-container\">\n",
              "      <div>\n",
              "<style scoped>\n",
              "    .dataframe tbody tr th:only-of-type {\n",
              "        vertical-align: middle;\n",
              "    }\n",
              "\n",
              "    .dataframe tbody tr th {\n",
              "        vertical-align: top;\n",
              "    }\n",
              "\n",
              "    .dataframe thead th {\n",
              "        text-align: right;\n",
              "    }\n",
              "</style>\n",
              "<table border=\"1\" class=\"dataframe\">\n",
              "  <thead>\n",
              "    <tr style=\"text-align: right;\">\n",
              "      <th></th>\n",
              "      <th>label</th>\n",
              "      <th>tweet</th>\n",
              "      <th>sentiment</th>\n",
              "    </tr>\n",
              "  </thead>\n",
              "  <tbody>\n",
              "    <tr>\n",
              "      <th>0</th>\n",
              "      <td>anger</td>\n",
              "      <td>jln jatibarupolisi tdk bs gertak gubernur eman...</td>\n",
              "      <td>negative</td>\n",
              "    </tr>\n",
              "    <tr>\n",
              "      <th>1</th>\n",
              "      <td>anger</td>\n",
              "      <td>cewe lho kayak rasain sibuk jaga rasain sakit ...</td>\n",
              "      <td>negative</td>\n",
              "    </tr>\n",
              "    <tr>\n",
              "      <th>2</th>\n",
              "      <td>happy</td>\n",
              "      <td>kepingin gudeg mbarek bu hj amad foto google s...</td>\n",
              "      <td>positive</td>\n",
              "    </tr>\n",
              "    <tr>\n",
              "      <th>3</th>\n",
              "      <td>anger</td>\n",
              "      <td>jln jatibarubagian wilayah tn abangpengaturan ...</td>\n",
              "      <td>negative</td>\n",
              "    </tr>\n",
              "    <tr>\n",
              "      <th>4</th>\n",
              "      <td>happy</td>\n",
              "      <td>sharing alam kemarin jam batalin tiket stasiun...</td>\n",
              "      <td>positive</td>\n",
              "    </tr>\n",
              "    <tr>\n",
              "      <th>...</th>\n",
              "      <td>...</td>\n",
              "      <td>...</td>\n",
              "      <td>...</td>\n",
              "    </tr>\n",
              "    <tr>\n",
              "      <th>4368</th>\n",
              "      <td>love</td>\n",
              "      <td>papa mejam tahan gejolak batin papa tapu lagil...</td>\n",
              "      <td>positive</td>\n",
              "    </tr>\n",
              "    <tr>\n",
              "      <th>4369</th>\n",
              "      <td>fear</td>\n",
              "      <td>sulit calon wapresnya jokowi pilpres salah gem...</td>\n",
              "      <td>negative</td>\n",
              "    </tr>\n",
              "    <tr>\n",
              "      <th>4370</th>\n",
              "      <td>anger</td>\n",
              "      <td>nggak lha iya gimana coba lulus seni nari nari...</td>\n",
              "      <td>negative</td>\n",
              "    </tr>\n",
              "    <tr>\n",
              "      <th>4371</th>\n",
              "      <td>happy</td>\n",
              "      <td>beneran mahasiswa teknik ui nembak pacar pas s...</td>\n",
              "      <td>positive</td>\n",
              "    </tr>\n",
              "    <tr>\n",
              "      <th>4372</th>\n",
              "      <td>sadness</td>\n",
              "      <td>allah engkau sakit hati sembuh allah</td>\n",
              "      <td>negative</td>\n",
              "    </tr>\n",
              "  </tbody>\n",
              "</table>\n",
              "<p>4373 rows × 3 columns</p>\n",
              "</div>\n",
              "      <button class=\"colab-df-convert\" onclick=\"convertToInteractive('df-2c853e6c-92aa-44f4-a960-efdba50a0c32')\"\n",
              "              title=\"Convert this dataframe to an interactive table.\"\n",
              "              style=\"display:none;\">\n",
              "        \n",
              "  <svg xmlns=\"http://www.w3.org/2000/svg\" height=\"24px\"viewBox=\"0 0 24 24\"\n",
              "       width=\"24px\">\n",
              "    <path d=\"M0 0h24v24H0V0z\" fill=\"none\"/>\n",
              "    <path d=\"M18.56 5.44l.94 2.06.94-2.06 2.06-.94-2.06-.94-.94-2.06-.94 2.06-2.06.94zm-11 1L8.5 8.5l.94-2.06 2.06-.94-2.06-.94L8.5 2.5l-.94 2.06-2.06.94zm10 10l.94 2.06.94-2.06 2.06-.94-2.06-.94-.94-2.06-.94 2.06-2.06.94z\"/><path d=\"M17.41 7.96l-1.37-1.37c-.4-.4-.92-.59-1.43-.59-.52 0-1.04.2-1.43.59L10.3 9.45l-7.72 7.72c-.78.78-.78 2.05 0 2.83L4 21.41c.39.39.9.59 1.41.59.51 0 1.02-.2 1.41-.59l7.78-7.78 2.81-2.81c.8-.78.8-2.07 0-2.86zM5.41 20L4 18.59l7.72-7.72 1.47 1.35L5.41 20z\"/>\n",
              "  </svg>\n",
              "      </button>\n",
              "      \n",
              "  <style>\n",
              "    .colab-df-container {\n",
              "      display:flex;\n",
              "      flex-wrap:wrap;\n",
              "      gap: 12px;\n",
              "    }\n",
              "\n",
              "    .colab-df-convert {\n",
              "      background-color: #E8F0FE;\n",
              "      border: none;\n",
              "      border-radius: 50%;\n",
              "      cursor: pointer;\n",
              "      display: none;\n",
              "      fill: #1967D2;\n",
              "      height: 32px;\n",
              "      padding: 0 0 0 0;\n",
              "      width: 32px;\n",
              "    }\n",
              "\n",
              "    .colab-df-convert:hover {\n",
              "      background-color: #E2EBFA;\n",
              "      box-shadow: 0px 1px 2px rgba(60, 64, 67, 0.3), 0px 1px 3px 1px rgba(60, 64, 67, 0.15);\n",
              "      fill: #174EA6;\n",
              "    }\n",
              "\n",
              "    [theme=dark] .colab-df-convert {\n",
              "      background-color: #3B4455;\n",
              "      fill: #D2E3FC;\n",
              "    }\n",
              "\n",
              "    [theme=dark] .colab-df-convert:hover {\n",
              "      background-color: #434B5C;\n",
              "      box-shadow: 0px 1px 3px 1px rgba(0, 0, 0, 0.15);\n",
              "      filter: drop-shadow(0px 1px 2px rgba(0, 0, 0, 0.3));\n",
              "      fill: #FFFFFF;\n",
              "    }\n",
              "  </style>\n",
              "\n",
              "      <script>\n",
              "        const buttonEl =\n",
              "          document.querySelector('#df-2c853e6c-92aa-44f4-a960-efdba50a0c32 button.colab-df-convert');\n",
              "        buttonEl.style.display =\n",
              "          google.colab.kernel.accessAllowed ? 'block' : 'none';\n",
              "\n",
              "        async function convertToInteractive(key) {\n",
              "          const element = document.querySelector('#df-2c853e6c-92aa-44f4-a960-efdba50a0c32');\n",
              "          const dataTable =\n",
              "            await google.colab.kernel.invokeFunction('convertToInteractive',\n",
              "                                                     [key], {});\n",
              "          if (!dataTable) return;\n",
              "\n",
              "          const docLinkHtml = 'Like what you see? Visit the ' +\n",
              "            '<a target=\"_blank\" href=https://colab.research.google.com/notebooks/data_table.ipynb>data table notebook</a>'\n",
              "            + ' to learn more about interactive tables.';\n",
              "          element.innerHTML = '';\n",
              "          dataTable['output_type'] = 'display_data';\n",
              "          await google.colab.output.renderOutput(dataTable, element);\n",
              "          const docLink = document.createElement('div');\n",
              "          docLink.innerHTML = docLinkHtml;\n",
              "          element.appendChild(docLink);\n",
              "        }\n",
              "      </script>\n",
              "    </div>\n",
              "  </div>\n",
              "  "
            ]
          },
          "metadata": {},
          "execution_count": 8
        }
      ]
    },
    {
      "cell_type": "code",
      "source": [
        "from sklearn import preprocessing\n",
        "le = preprocessing.LabelEncoder()"
      ],
      "metadata": {
        "id": "2YPF6W1hAU5K"
      },
      "execution_count": 9,
      "outputs": []
    },
    {
      "cell_type": "code",
      "source": [
        "X = df['tweet']\n",
        "y = le.fit_transform(df['sentiment'])\n",
        "\n",
        "from sklearn.model_selection import train_test_split\n",
        "X_train, X_test, y_train, y_test = train_test_split(X, y, stratify=y, test_size=0.2, random_state=2022)\n",
        "X_val, X_test, y_val, y_test = train_test_split(X_test, y_test, stratify=y_test, test_size=0.5, random_state=2022)"
      ],
      "metadata": {
        "id": "6kQODKqL-Dtl"
      },
      "execution_count": 10,
      "outputs": []
    },
    {
      "cell_type": "code",
      "source": [
        "X_train"
      ],
      "metadata": {
        "colab": {
          "base_uri": "https://localhost:8080/"
        },
        "id": "ZKppnGakAIFz",
        "outputId": "ada759cd-8b00-4cca-e6af-17fec2730832"
      },
      "execution_count": 11,
      "outputs": [
        {
          "output_type": "execute_result",
          "data": {
            "text/plain": [
              "3431    lg ngobrol kiya dek doain mamah dek blablabla ...\n",
              "1908    alhamdulillahatas percaya klien psikotes calon...\n",
              "2367    guru gw gin nih sampe nyumpahin gw dapet udah ...\n",
              "3188                                               sayang\n",
              "2197    sebenernya nggak isi medsosku from time to tim...\n",
              "                              ...                        \n",
              "1179    lagu kayak hits sih ensenang just give me reas...\n",
              "1938    revisi revisi allah mantap sekaliiii emang dig...\n",
              "3122    acara asik acara asikahan anak inisahurtiketco...\n",
              "4301                                          gerah jalan\n",
              "2273    happy mensive my love makasih udh nemenin udh ...\n",
              "Name: tweet, Length: 3498, dtype: object"
            ]
          },
          "metadata": {},
          "execution_count": 11
        }
      ]
    },
    {
      "cell_type": "code",
      "source": [
        "X_val"
      ],
      "metadata": {
        "colab": {
          "base_uri": "https://localhost:8080/"
        },
        "id": "Dkx3CAvSStXS",
        "outputId": "73d81c0d-1bb7-4175-ec65-9ae536fa0332"
      },
      "execution_count": 12,
      "outputs": [
        {
          "output_type": "execute_result",
          "data": {
            "text/plain": [
              "935     marah lampias hati ku hati kecewa moshing suru...\n",
              "489     neng banget refreshing neng banget gitu cari u...\n",
              "3016    sop dr bank bang sasar gak org langgan bank in...\n",
              "2502    pengin bilang heiiii lo tuh nyaplok duit hak l...\n",
              "3661    beli mobil harga sampe juta doi ganti head uni...\n",
              "                              ...                        \n",
              "1260    bodo bonek the jak gak akur kalo model jijik k...\n",
              "653     elah gw jg kog hidup tngh kelilingin sodara ma...\n",
              "1286    lepas krim dokter alias krim klinik alhamdulil...\n",
              "2249    bundling tawar weekdays momentum hargaharga ho...\n",
              "1906                yo yo wes sampean bener gak awas kalo\n",
              "Name: tweet, Length: 437, dtype: object"
            ]
          },
          "metadata": {},
          "execution_count": 12
        }
      ]
    },
    {
      "cell_type": "code",
      "source": [
        "X_test"
      ],
      "metadata": {
        "colab": {
          "base_uri": "https://localhost:8080/"
        },
        "id": "x5A6XaPXSzGt",
        "outputId": "dd5622e1-20be-40e4-d5d0-cb95095e5d29"
      },
      "execution_count": 13,
      "outputs": [
        {
          "output_type": "execute_result",
          "data": {
            "text/plain": [
              "1243                            kasihan nungu yah resulta\n",
              "3154    berani lakilaki berani rumah gadis suka duduk ...\n",
              "4323    malam pojok pilih jalan dapet dm kalo udah nia...\n",
              "3864                           parah wonhee cantik banget\n",
              "28      gimana nilai dr jilbabsyaringgak kadang gemez ...\n",
              "                              ...                        \n",
              "1761    gw sh sbnrnya susah banget nih lepas dr sedot ...\n",
              "32      sungguh cinta berat pisah hadiahperasaan bikin...\n",
              "3894    giat kantor pusat rencana tgl pulang tiket pul...\n",
              "218     terima kasih tertawa moga amal soleh mulia ham...\n",
              "3555    kadang suka gak terima kalo liat hidup we gak ...\n",
              "Name: tweet, Length: 438, dtype: object"
            ]
          },
          "metadata": {},
          "execution_count": 13
        }
      ]
    },
    {
      "cell_type": "markdown",
      "source": [
        "# ((LSTM Sentiment))"
      ],
      "metadata": {
        "id": "tyrJZMNSH9Yt"
      }
    },
    {
      "cell_type": "markdown",
      "source": [
        "## 1.LSTM (embedding, lstm, flatten, dense)"
      ],
      "metadata": {
        "id": "eOZwGFkR6E_h"
      }
    },
    {
      "cell_type": "code",
      "execution_count": 101,
      "metadata": {
        "id": "F-4oxdQaF53s"
      },
      "outputs": [],
      "source": [
        "MAX_SEQUENCE_LENGTH = 150\n",
        "MAX_NB_WORDS = 2000\n",
        "EMBEDDING_DIM=300\n",
        "\n",
        "tokenizer = Tokenizer(num_words=MAX_NB_WORDS)\n",
        "tokenizer.fit_on_texts(X_train)\n",
        "sequences = tokenizer.texts_to_sequences(X_train)"
      ]
    },
    {
      "cell_type": "code",
      "execution_count": 102,
      "metadata": {
        "colab": {
          "base_uri": "https://localhost:8080/"
        },
        "outputId": "9c069792-0bc3-42e7-aeb2-9b09721c6a09",
        "id": "5ZMrW2_tF53s"
      },
      "outputs": [
        {
          "output_type": "stream",
          "name": "stdout",
          "text": [
            "Found 12701 unique tokens.\n",
            "Shape of data tensor: (3498, 150)\n",
            "Shape of label tensor: (3498,)\n"
          ]
        }
      ],
      "source": [
        "word_index = tokenizer.word_index\n",
        "print('Found %s unique tokens.' % len(word_index))\n",
        "X = pad_sequences(sequences, maxlen=MAX_SEQUENCE_LENGTH)\n",
        "y = np.asarray(y_train)\n",
        "print('Shape of data tensor:', X.shape)\n",
        "print('Shape of label tensor:', y.shape)"
      ]
    },
    {
      "cell_type": "code",
      "source": [
        "X_val"
      ],
      "metadata": {
        "colab": {
          "base_uri": "https://localhost:8080/"
        },
        "id": "remIy1mLSqlF",
        "outputId": "091ca35d-83f1-4a7e-c074-2e2bc4fc1246"
      },
      "execution_count": 103,
      "outputs": [
        {
          "output_type": "execute_result",
          "data": {
            "text/plain": [
              "935     marah lampias hati ku hati kecewa moshing suru...\n",
              "489     neng banget refreshing neng banget gitu cari u...\n",
              "3016    sop dr bank bang sasar gak org langgan bank in...\n",
              "2502    pengin bilang heiiii lo tuh nyaplok duit hak l...\n",
              "3661    beli mobil harga sampe juta doi ganti head uni...\n",
              "                              ...                        \n",
              "1260    bodo bonek the jak gak akur kalo model jijik k...\n",
              "653     elah gw jg kog hidup tngh kelilingin sodara ma...\n",
              "1286    lepas krim dokter alias krim klinik alhamdulil...\n",
              "2249    bundling tawar weekdays momentum hargaharga ho...\n",
              "1906                yo yo wes sampean bener gak awas kalo\n",
              "Name: tweet, Length: 437, dtype: object"
            ]
          },
          "metadata": {},
          "execution_count": 103
        }
      ]
    },
    {
      "cell_type": "code",
      "source": [
        "tokenizer = Tokenizer(num_words=MAX_NB_WORDS)\n",
        "tokenizer.fit_on_texts(X_val)\n",
        "sequences = tokenizer.texts_to_sequences(X_val)"
      ],
      "metadata": {
        "id": "l4cOZOABR_IT"
      },
      "execution_count": 104,
      "outputs": []
    },
    {
      "cell_type": "code",
      "source": [
        "word_index = tokenizer.word_index\n",
        "print('Found %s unique tokens.' % len(word_index))\n",
        "X_val_seq = pad_sequences(sequences, maxlen=MAX_SEQUENCE_LENGTH)\n",
        "y_val_seq = np.asarray(y_val)\n",
        "print('Shape of data tensor:', X_val_seq.shape)\n",
        "print('Shape of label tensor:', y_val_seq.shape)"
      ],
      "metadata": {
        "colab": {
          "base_uri": "https://localhost:8080/"
        },
        "id": "GxDLi6B8R_ik",
        "outputId": "7771d99a-2e8c-4b67-e763-92404de62e23"
      },
      "execution_count": 105,
      "outputs": [
        {
          "output_type": "stream",
          "name": "stdout",
          "text": [
            "Found 3213 unique tokens.\n",
            "Shape of data tensor: (437, 150)\n",
            "Shape of label tensor: (437,)\n"
          ]
        }
      ]
    },
    {
      "cell_type": "code",
      "execution_count": null,
      "metadata": {
        "id": "73A5PHSmF53s"
      },
      "outputs": [],
      "source": [
        "from gensim.models.fasttext import load_facebook_model\n",
        "\n",
        "ft = load_facebook_model(path + 'pretrained_word_embedding/fastext_model_tweet.bin')"
      ]
    },
    {
      "cell_type": "code",
      "source": [
        "ft.vector_size"
      ],
      "metadata": {
        "colab": {
          "base_uri": "https://localhost:8080/"
        },
        "id": "XciAxqH7B8Bs",
        "outputId": "4a4c672d-0192-42e6-fde2-44812c566672"
      },
      "execution_count": 107,
      "outputs": [
        {
          "output_type": "execute_result",
          "data": {
            "text/plain": [
              "100"
            ]
          },
          "metadata": {},
          "execution_count": 107
        }
      ]
    },
    {
      "cell_type": "code",
      "execution_count": 108,
      "metadata": {
        "id": "TWeaMLMRF53s"
      },
      "outputs": [],
      "source": [
        "embedding_matrix_ft = np.random.random((len(tokenizer.word_index) + 1, ft.vector_size))"
      ]
    },
    {
      "cell_type": "code",
      "execution_count": 109,
      "metadata": {
        "id": "TU1TpERLF53s"
      },
      "outputs": [],
      "source": [
        "for word,i in tokenizer.word_index.items():\n",
        "    try:\n",
        "        embedding_matrix_ft[i] = ft.wv[word]\n",
        "    except:\n",
        "        pass"
      ]
    },
    {
      "cell_type": "code",
      "source": [
        "X"
      ],
      "metadata": {
        "colab": {
          "base_uri": "https://localhost:8080/"
        },
        "id": "-z5LQSDkDK4e",
        "outputId": "5bc6036b-bd2b-4343-bafa-5071d20c63ac"
      },
      "execution_count": 110,
      "outputs": [
        {
          "output_type": "execute_result",
          "data": {
            "text/plain": [
              "array([[   0,    0,    0, ...,  458,   83,  273],\n",
              "       [   0,    0,    0, ...,   22,  416, 1027],\n",
              "       [   0,    0,    0, ...,  537,    4,   87],\n",
              "       ...,\n",
              "       [   0,    0,    0, ...,  472,   13,  975],\n",
              "       [   0,    0,    0, ...,    0,    0,   22],\n",
              "       [   0,    0,    0, ...,  106,  650,    4]], dtype=int32)"
            ]
          },
          "metadata": {},
          "execution_count": 110
        }
      ]
    },
    {
      "cell_type": "code",
      "source": [
        "initial_lr = 0.001\n",
        "epochs = 100\n",
        "decay = initial_lr/epochs\n",
        "batch_size = 32"
      ],
      "metadata": {
        "id": "7LbON_qx8Tgg"
      },
      "execution_count": 111,
      "outputs": []
    },
    {
      "cell_type": "code",
      "source": [
        "# text_seq_input = Input(shape=(MAX_SENT_LEN,), dtype='int32')\n",
        "# text_embedding = Embedding(vocab_size, WORD_EMB_SIZE, input_length=MAX_SENT_LEN,\n",
        "                            # weights=[trained_embeddings], trainable=True)(text_seq_input)\n",
        "\n",
        "MAX_SENT_LEN=X.shape[1]\n",
        "\n",
        "# text_seq_input = Input(shape=(MAX_SENT_LEN,), dtype='int32')\n",
        "# text_embedding = (Embedding(len(tokenizer.word_index)+1, ft.vector_size, weights=[embedding_matrix_ft], input_length=MAX_SENT_LEN))(text_seq_input)                            \n",
        "\n",
        "model = Sequential([\n",
        "    Embedding(len(tokenizer.word_index)+1, ft.vector_size, weights=[embedding_matrix_ft], input_length=MAX_SENT_LEN),\n",
        "    LSTM(32, return_sequences=True),\n",
        "    Flatten(),\n",
        "    Dense(9, activation='softmax')\n",
        "])\n",
        "\n",
        "opt = tf.keras.optimizers.Adam(clipvalue=1.0)\n",
        "\n",
        "model.compile(loss='categorical_crossentropy', optimizer=opt, metrics=['categorical_accuracy'])\n",
        "# dis_model_1.summary()\n",
        "\n",
        "\n",
        "model = Sequential()\n",
        "#model.add(Embedding(MAX_NB_WORDS, EMBEDDING_DIM, input_length=X.shape[1]))\n",
        "model.add(Embedding(len(tokenizer.word_index)+1, ft.vector_size, weights=[embedding_matrix_ft], input_length=X.shape[1]))\n",
        "#model.add(LSTM(128, dropout=0.2, recurrent_dropout=0.2, return_sequences=False))\n",
        "model.add(LSTM(64, \n",
        "               dropout=0.2, \n",
        "               recurrent_dropout=0.2,\n",
        "               #kernel_initializer = 'glorot_uniform',\n",
        "               #kernel_regularizer = regularizers.l2(0.001),\n",
        "               #bias_regularizer = regularizers.l2(0.001),\n",
        "               #recurrent_regularizer = regularizers.l2(0.001), \n",
        "               return_sequences = True))\n",
        "#model.add(BatchNormalization())\n",
        "#model.add(LSTM(128, dropout=0.2, recurrent_dropout=0.2))\n",
        "model.add(GlobalMaxPool1D())\n",
        "model.add(Dense(32, activation='relu'))\n",
        "model.add(Dropout(0.2))\n",
        "#model.add(Flatten())\n",
        "model.add(Dense(1, activation='sigmoid'))\n",
        "#opt = tf.keras.optimizers.Adam(clipvalue=1.0)\n",
        "opt = tf.keras.optimizers.RMSprop(lr=initial_lr, clipvalue=1.0)\n",
        "#opt = tf.keras.optimizers.SGD(lr=initial_lr, momentum=0.9, clipvalue=1.0)\n",
        "model.compile(loss='binary_crossentropy', optimizer=opt, metrics=['accuracy'])"
      ],
      "metadata": {
        "id": "g3Auva23F53t",
        "colab": {
          "base_uri": "https://localhost:8080/"
        },
        "outputId": "b2f2b632-5438-4c01-f625-46a534c84acc"
      },
      "execution_count": 112,
      "outputs": [
        {
          "output_type": "stream",
          "name": "stderr",
          "text": [
            "/usr/local/lib/python3.7/dist-packages/keras/optimizer_v2/rmsprop.py:130: UserWarning: The `lr` argument is deprecated, use `learning_rate` instead.\n",
            "  super(RMSprop, self).__init__(name, **kwargs)\n"
          ]
        }
      ]
    },
    {
      "cell_type": "code",
      "execution_count": 113,
      "metadata": {
        "colab": {
          "base_uri": "https://localhost:8080/"
        },
        "outputId": "d60008ec-5f16-439b-8d4f-5a659899db31",
        "id": "f2uUWknUF53t"
      },
      "outputs": [
        {
          "output_type": "stream",
          "name": "stdout",
          "text": [
            "Model: \"sequential_7\"\n",
            "_________________________________________________________________\n",
            " Layer (type)                Output Shape              Param #   \n",
            "=================================================================\n",
            " embedding_13 (Embedding)    (None, 150, 100)          321400    \n",
            "                                                                 \n",
            " lstm_7 (LSTM)               (None, 150, 64)           42240     \n",
            "                                                                 \n",
            " global_max_pooling1d_2 (Glo  (None, 64)               0         \n",
            " balMaxPooling1D)                                                \n",
            "                                                                 \n",
            " dense_17 (Dense)            (None, 32)                2080      \n",
            "                                                                 \n",
            " dropout_2 (Dropout)         (None, 32)                0         \n",
            "                                                                 \n",
            " dense_18 (Dense)            (None, 1)                 33        \n",
            "                                                                 \n",
            "=================================================================\n",
            "Total params: 365,753\n",
            "Trainable params: 365,753\n",
            "Non-trainable params: 0\n",
            "_________________________________________________________________\n"
          ]
        }
      ],
      "source": [
        "model.summary()"
      ]
    },
    {
      "cell_type": "code",
      "execution_count": 114,
      "metadata": {
        "id": "e418c7ed"
      },
      "outputs": [],
      "source": [
        "def lr_time_based_decay(epoch, lr):\n",
        "            return lr * 1 / (1 + decay * epoch)"
      ]
    },
    {
      "cell_type": "code",
      "execution_count": 115,
      "metadata": {
        "id": "98679101"
      },
      "outputs": [],
      "source": [
        "es = EarlyStopping(monitor = 'val_loss', mode = \"auto\", patience = 10, restore_best_weights = True)"
      ]
    },
    {
      "cell_type": "code",
      "source": [
        "#history = model.fit(X, y, epochs=epochs, validation_data = (X_val_seq, y_val_seq), batch_size=batch_size, callbacks = es)\n",
        "history = model.fit(X, y, epochs=epochs, validation_data = (X_val_seq, y_val_seq), batch_size=batch_size, callbacks = [LearningRateScheduler(lr_time_based_decay, verbose = 1), es])"
      ],
      "metadata": {
        "colab": {
          "base_uri": "https://localhost:8080/"
        },
        "id": "YlfL9G4s_5fh",
        "outputId": "e396c846-148e-40b5-b193-dadd8100b7ce"
      },
      "execution_count": null,
      "outputs": [
        {
          "output_type": "stream",
          "name": "stdout",
          "text": [
            "\n",
            "Epoch 1: LearningRateScheduler setting learning rate to 0.0010000000474974513.\n",
            "Epoch 1/100\n",
            "110/110 [==============================] - 59s 235ms/step - loss: 0.6545 - accuracy: 0.6266 - val_loss: 0.6609 - val_accuracy: 0.6339 - lr: 0.0010\n",
            "\n",
            "Epoch 2: LearningRateScheduler setting learning rate to 0.0009999900475969753.\n",
            "Epoch 2/100\n",
            "110/110 [==============================] - 23s 213ms/step - loss: 0.5773 - accuracy: 0.7095 - val_loss: 0.7809 - val_accuracy: 0.6430 - lr: 9.9999e-04\n",
            "\n",
            "Epoch 3: LearningRateScheduler setting learning rate to 0.0009999700363790467.\n",
            "Epoch 3/100\n",
            " 83/110 [=====================>........] - ETA: 5s - loss: 0.4958 - accuracy: 0.7692"
          ]
        }
      ]
    },
    {
      "cell_type": "code",
      "source": [
        "plt.title('Loss')\n",
        "plt.plot(history.history['loss'], label='train')\n",
        "plt.plot(history.history['val_loss'], label='test')\n",
        "plt.legend()\n",
        "plt.show()"
      ],
      "metadata": {
        "id": "M0MlKlFWxJUz"
      },
      "execution_count": null,
      "outputs": []
    },
    {
      "cell_type": "code",
      "source": [
        "plt.title('Accuracy')\n",
        "plt.plot(history.history['accuracy'], label='train')\n",
        "plt.plot(history.history['val_accuracy'], label='test')\n",
        "plt.legend()\n",
        "plt.show()"
      ],
      "metadata": {
        "id": "gwhI5TOdxJU0"
      },
      "execution_count": null,
      "outputs": []
    },
    {
      "cell_type": "code",
      "source": [
        "X_test"
      ],
      "metadata": {
        "id": "P4bHGChqaDso"
      },
      "execution_count": null,
      "outputs": []
    },
    {
      "cell_type": "code",
      "source": [
        "X_test.to_list()[0]"
      ],
      "metadata": {
        "id": "BxCbvJS3xJU0"
      },
      "execution_count": null,
      "outputs": []
    },
    {
      "cell_type": "code",
      "source": [
        "new_tweet = X_test.to_list()\n",
        "seq = tokenizer.texts_to_sequences(new_tweet)\n",
        "padded = pad_sequences(seq, maxlen=MAX_SEQUENCE_LENGTH)\n",
        "pred = model.predict(padded)\n",
        "labels = ['sentiment']"
      ],
      "metadata": {
        "id": "nhI8R-7exJU0"
      },
      "execution_count": null,
      "outputs": []
    },
    {
      "cell_type": "code",
      "source": [
        "pred.shape"
      ],
      "metadata": {
        "id": "YCwu8XaAaSsB"
      },
      "execution_count": null,
      "outputs": []
    },
    {
      "cell_type": "code",
      "source": [
        "for i, j in enumerate(pred):\n",
        "  pred[i] = np.rint(j)\n",
        "y_test_pred = pred.astype(int)"
      ],
      "metadata": {
        "id": "8iGlugEVaU-w"
      },
      "execution_count": null,
      "outputs": []
    },
    {
      "cell_type": "code",
      "source": [
        "y_test"
      ],
      "metadata": {
        "id": "-IaO7rg6ahNQ"
      },
      "execution_count": null,
      "outputs": []
    },
    {
      "cell_type": "code",
      "source": [
        ""
      ],
      "metadata": {
        "id": "VJjl6mNbAiZV"
      },
      "execution_count": null,
      "outputs": []
    },
    {
      "cell_type": "markdown",
      "source": [
        "## 2.BiLSTM GlobalMaxPool"
      ],
      "metadata": {
        "id": "iO3hXrWXAisS"
      }
    },
    {
      "cell_type": "code",
      "execution_count": null,
      "metadata": {
        "id": "D4BhG9tBAisT"
      },
      "outputs": [],
      "source": [
        "MAX_SEQUENCE_LENGTH = 150\n",
        "MAX_NB_WORDS = 2000\n",
        "EMBEDDING_DIM=300\n",
        "\n",
        "tokenizer = Tokenizer(num_words=MAX_NB_WORDS)\n",
        "tokenizer.fit_on_texts(X_train)\n",
        "sequences = tokenizer.texts_to_sequences(X_train)"
      ]
    },
    {
      "cell_type": "code",
      "execution_count": null,
      "metadata": {
        "colab": {
          "base_uri": "https://localhost:8080/"
        },
        "outputId": "5d4f0889-0d27-4216-acd1-57643bb92006",
        "id": "Hu0Kz-boAisT"
      },
      "outputs": [
        {
          "output_type": "stream",
          "name": "stdout",
          "text": [
            "Found 12701 unique tokens.\n",
            "Shape of data tensor: (3498, 150)\n",
            "Shape of label tensor: (3498,)\n"
          ]
        }
      ],
      "source": [
        "word_index = tokenizer.word_index\n",
        "print('Found %s unique tokens.' % len(word_index))\n",
        "X = pad_sequences(sequences, maxlen=MAX_SEQUENCE_LENGTH)\n",
        "y = np.asarray(y_train)\n",
        "print('Shape of data tensor:', X.shape)\n",
        "print('Shape of label tensor:', y.shape)"
      ]
    },
    {
      "cell_type": "code",
      "source": [
        "X_val"
      ],
      "metadata": {
        "colab": {
          "base_uri": "https://localhost:8080/"
        },
        "outputId": "5969734b-dc62-4527-f2b5-2c2afa1b688c",
        "id": "aMroWlcyAisT"
      },
      "execution_count": null,
      "outputs": [
        {
          "output_type": "execute_result",
          "data": {
            "text/plain": [
              "935     marah lampias hati ku hati kecewa moshing suru...\n",
              "489     neng banget refreshing neng banget gitu cari u...\n",
              "3016    sop dr bank bang sasar gak org langgan bank in...\n",
              "2502    pengin bilang heiiii lo tuh nyaplok duit hak l...\n",
              "3661    beli mobil harga sampe juta doi ganti head uni...\n",
              "                              ...                        \n",
              "1260    bodo bonek the jak gak akur kalo model jijik k...\n",
              "653     elah gw jg kog hidup tngh kelilingin sodara ma...\n",
              "1286    lepas krim dokter alias krim klinik alhamdulil...\n",
              "2249    bundling tawar weekdays momentum hargaharga ho...\n",
              "1906                yo yo wes sampean bener gak awas kalo\n",
              "Name: tweet, Length: 437, dtype: object"
            ]
          },
          "metadata": {},
          "execution_count": 155
        }
      ]
    },
    {
      "cell_type": "code",
      "source": [
        "tokenizer = Tokenizer(num_words=MAX_NB_WORDS)\n",
        "tokenizer.fit_on_texts(X_val)\n",
        "sequences = tokenizer.texts_to_sequences(X_val)"
      ],
      "metadata": {
        "id": "DrC4lYJTAisT"
      },
      "execution_count": null,
      "outputs": []
    },
    {
      "cell_type": "code",
      "source": [
        "word_index = tokenizer.word_index\n",
        "print('Found %s unique tokens.' % len(word_index))\n",
        "X_val_seq = pad_sequences(sequences, maxlen=MAX_SEQUENCE_LENGTH)\n",
        "y_val_seq = np.asarray(y_val)\n",
        "print('Shape of data tensor:', X_val_seq.shape)\n",
        "print('Shape of label tensor:', y_val_seq.shape)"
      ],
      "metadata": {
        "colab": {
          "base_uri": "https://localhost:8080/"
        },
        "outputId": "0d9c47c5-fe49-4242-ddf0-fce4b20c0b7f",
        "id": "YH7zy1KaAisT"
      },
      "execution_count": null,
      "outputs": [
        {
          "output_type": "stream",
          "name": "stdout",
          "text": [
            "Found 3213 unique tokens.\n",
            "Shape of data tensor: (437, 150)\n",
            "Shape of label tensor: (437,)\n"
          ]
        }
      ]
    },
    {
      "cell_type": "code",
      "execution_count": null,
      "metadata": {
        "id": "_JDY8pvCAisT"
      },
      "outputs": [],
      "source": [
        "from gensim.models.fasttext import load_facebook_model\n",
        "\n",
        "ft = load_facebook_model(path + 'pretrained_word_embedding/fastext_model_tweet.bin')"
      ]
    },
    {
      "cell_type": "code",
      "source": [
        "ft.vector_size"
      ],
      "metadata": {
        "colab": {
          "base_uri": "https://localhost:8080/"
        },
        "outputId": "ba902eaa-7fb1-4331-e77e-7c82a2d7a061",
        "id": "qINHXvRzAisU"
      },
      "execution_count": null,
      "outputs": [
        {
          "output_type": "execute_result",
          "data": {
            "text/plain": [
              "100"
            ]
          },
          "metadata": {},
          "execution_count": 159
        }
      ]
    },
    {
      "cell_type": "code",
      "execution_count": null,
      "metadata": {
        "id": "dDMPjkI4AisU"
      },
      "outputs": [],
      "source": [
        "embedding_matrix_ft = np.random.random((len(tokenizer.word_index) + 1, ft.vector_size))"
      ]
    },
    {
      "cell_type": "code",
      "execution_count": null,
      "metadata": {
        "id": "t5nquviOAisU"
      },
      "outputs": [],
      "source": [
        "for word,i in tokenizer.word_index.items():\n",
        "    try:\n",
        "        embedding_matrix_ft[i] = ft.wv[word]\n",
        "    except:\n",
        "        pass"
      ]
    },
    {
      "cell_type": "code",
      "source": [
        "X"
      ],
      "metadata": {
        "colab": {
          "base_uri": "https://localhost:8080/"
        },
        "outputId": "f3b66d68-a71b-453f-886b-a20c8f81ac78",
        "id": "7637sg4VAisU"
      },
      "execution_count": null,
      "outputs": [
        {
          "output_type": "execute_result",
          "data": {
            "text/plain": [
              "array([[   0,    0,    0, ...,  458,   83,  273],\n",
              "       [   0,    0,    0, ...,   22,  416, 1027],\n",
              "       [   0,    0,    0, ...,  537,    4,   87],\n",
              "       ...,\n",
              "       [   0,    0,    0, ...,  472,   13,  975],\n",
              "       [   0,    0,    0, ...,    0,    0,   22],\n",
              "       [   0,    0,    0, ...,  106,  650,    4]], dtype=int32)"
            ]
          },
          "metadata": {},
          "execution_count": 162
        }
      ]
    },
    {
      "cell_type": "code",
      "execution_count": null,
      "metadata": {
        "id": "MbFEQ1IqAisU"
      },
      "outputs": [],
      "source": [
        "initial_lr = 0.001\n",
        "epochs = 100\n",
        "decay = initial_lr/epochs\n",
        "batch_size = 32"
      ]
    },
    {
      "cell_type": "code",
      "source": [
        "model = Sequential()\n",
        "#model.add(Embedding(MAX_NB_WORDS, EMBEDDING_DIM, input_length=X.shape[1]))\n",
        "model.add(Embedding(len(tokenizer.word_index)+1, ft.vector_size, weights=[embedding_matrix_ft], input_length=X.shape[1]))\n",
        "#model.add(LSTM(128, dropout=0.2, recurrent_dropout=0.2, return_sequences=False))\n",
        "model.add(Bidirectional(LSTM(256, \n",
        "               dropout=0.2, \n",
        "               recurrent_dropout=0.2, \n",
        "               return_sequences = True)))\n",
        "#model.add(BatchNormalization())\n",
        "#model.add(LSTM(128, dropout=0.2, recurrent_dropout=0.2))\n",
        "model.add(GlobalMaxPool1D())\n",
        "model.add(Dense(128, activation='relu'))\n",
        "model.add(Dropout(0.2))\n",
        "#model.add(Flatten())\n",
        "model.add(Dense(1, activation='sigmoid'))\n",
        "opt = tf.keras.optimizers.Adam(clipvalue=1.0)\n",
        "#opt = tf.keras.optimizers.SGD(lr=0.01, momentum=0.9, clipvalue=1.0)\n",
        "model.compile(loss='binary_crossentropy', optimizer=opt, metrics=['accuracy'])"
      ],
      "metadata": {
        "id": "uAT4PHeXAisU"
      },
      "execution_count": null,
      "outputs": []
    },
    {
      "cell_type": "code",
      "execution_count": null,
      "metadata": {
        "colab": {
          "base_uri": "https://localhost:8080/"
        },
        "outputId": "0f206c66-c231-421d-f360-838d5a8c2144",
        "id": "t69MIVj8AisU"
      },
      "outputs": [
        {
          "output_type": "stream",
          "name": "stdout",
          "text": [
            "Model: \"sequential_12\"\n",
            "_________________________________________________________________\n",
            " Layer (type)                Output Shape              Param #   \n",
            "=================================================================\n",
            " embedding_12 (Embedding)    (None, 150, 100)          321400    \n",
            "                                                                 \n",
            " bidirectional (Bidirectiona  (None, 150, 512)         731136    \n",
            " l)                                                              \n",
            "                                                                 \n",
            " global_max_pooling1d_3 (Glo  (None, 512)              0         \n",
            " balMaxPooling1D)                                                \n",
            "                                                                 \n",
            " dense_8 (Dense)             (None, 128)               65664     \n",
            "                                                                 \n",
            " dropout_8 (Dropout)         (None, 128)               0         \n",
            "                                                                 \n",
            " dense_9 (Dense)             (None, 1)                 129       \n",
            "                                                                 \n",
            "=================================================================\n",
            "Total params: 1,118,329\n",
            "Trainable params: 1,118,329\n",
            "Non-trainable params: 0\n",
            "_________________________________________________________________\n"
          ]
        }
      ],
      "source": [
        "model.summary()"
      ]
    },
    {
      "cell_type": "code",
      "execution_count": null,
      "metadata": {
        "id": "ADXlRpuRAisU"
      },
      "outputs": [],
      "source": [
        "def lr_time_based_decay(epoch, lr):\n",
        "            return lr * 1 / (1 + decay * epoch)"
      ]
    },
    {
      "cell_type": "code",
      "execution_count": null,
      "metadata": {
        "id": "vU1sGYakAisV"
      },
      "outputs": [],
      "source": [
        "es = EarlyStopping(monitor = 'val_loss', mode = 'auto', patience = 10, restore_best_weights = True)"
      ]
    },
    {
      "cell_type": "code",
      "source": [
        "history = model.fit(X, y, epochs=epochs, validation_data = (X_val_seq, y_val_seq), batch_size=batch_size, callbacks = es)"
      ],
      "metadata": {
        "colab": {
          "base_uri": "https://localhost:8080/"
        },
        "outputId": "8a0ba984-c67b-4a06-8666-ee9febb2937b",
        "id": "tmFbZPGAAisV"
      },
      "execution_count": null,
      "outputs": [
        {
          "output_type": "stream",
          "name": "stdout",
          "text": [
            "Epoch 1/100\n",
            "110/110 [==============================] - 288s 3s/step - loss: 0.6471 - accuracy: 0.6346 - val_loss: 0.6817 - val_accuracy: 0.6430\n",
            "Epoch 2/100\n",
            "110/110 [==============================] - 269s 2s/step - loss: 0.5121 - accuracy: 0.7553 - val_loss: 0.8312 - val_accuracy: 0.5446\n",
            "Epoch 3/100\n",
            "110/110 [==============================] - 274s 2s/step - loss: 0.3732 - accuracy: 0.8422 - val_loss: 0.9785 - val_accuracy: 0.5904\n",
            "Epoch 4/100\n",
            "110/110 [==============================] - 279s 3s/step - loss: 0.2934 - accuracy: 0.8811 - val_loss: 1.2122 - val_accuracy: 0.5378\n",
            "Epoch 5/100\n",
            "110/110 [==============================] - 265s 2s/step - loss: 0.2487 - accuracy: 0.8988 - val_loss: 1.1665 - val_accuracy: 0.5721\n",
            "Epoch 6/100\n",
            "110/110 [==============================] - 278s 3s/step - loss: 0.2106 - accuracy: 0.9214 - val_loss: 1.2721 - val_accuracy: 0.5973\n",
            "Epoch 7/100\n",
            "110/110 [==============================] - 260s 2s/step - loss: 0.1727 - accuracy: 0.9362 - val_loss: 1.4553 - val_accuracy: 0.5904\n",
            "Epoch 8/100\n",
            "110/110 [==============================] - 260s 2s/step - loss: 0.1439 - accuracy: 0.9497 - val_loss: 1.8209 - val_accuracy: 0.5721\n",
            "Epoch 9/100\n",
            "110/110 [==============================] - 253s 2s/step - loss: 0.1268 - accuracy: 0.9563 - val_loss: 1.8186 - val_accuracy: 0.6316\n",
            "Epoch 10/100\n",
            "110/110 [==============================] - 252s 2s/step - loss: 0.1061 - accuracy: 0.9668 - val_loss: 2.0337 - val_accuracy: 0.5858\n",
            "Epoch 11/100\n",
            "110/110 [==============================] - 255s 2s/step - loss: 0.0832 - accuracy: 0.9728 - val_loss: 2.2967 - val_accuracy: 0.5606\n"
          ]
        }
      ]
    },
    {
      "cell_type": "code",
      "source": [
        "plt.title('Loss')\n",
        "plt.plot(history.history['loss'], label='train')\n",
        "plt.plot(history.history['val_loss'], label='test')\n",
        "plt.legend()\n",
        "plt.show()"
      ],
      "metadata": {
        "colab": {
          "base_uri": "https://localhost:8080/",
          "height": 281
        },
        "outputId": "7bacbcc4-c1da-43c9-a63c-e61b447f9fdf",
        "id": "zMWgop1yAisV"
      },
      "execution_count": null,
      "outputs": [
        {
          "output_type": "display_data",
          "data": {
            "text/plain": [
              "<Figure size 432x288 with 1 Axes>"
            ],
            "image/png": "[encoded data removed]"
          },
          "metadata": {
            "needs_background": "light"
          }
        }
      ]
    },
    {
      "cell_type": "code",
      "source": [
        "plt.title('Accuracy')\n",
        "plt.plot(history.history['accuracy'], label='train')\n",
        "plt.plot(history.history['val_accuracy'], label='test')\n",
        "plt.legend()\n",
        "plt.show()"
      ],
      "metadata": {
        "colab": {
          "base_uri": "https://localhost:8080/",
          "height": 281
        },
        "outputId": "c40970c8-3b9f-48a1-93fa-1115351bd9ca",
        "id": "XoYCwG7lAisV"
      },
      "execution_count": null,
      "outputs": [
        {
          "output_type": "display_data",
          "data": {
            "text/plain": [
              "<Figure size 432x288 with 1 Axes>"
            ],
            "image/png": "[encoded data removed]"
          },
          "metadata": {
            "needs_background": "light"
          }
        }
      ]
    },
    {
      "cell_type": "code",
      "source": [
        "X_test"
      ],
      "metadata": {
        "colab": {
          "base_uri": "https://localhost:8080/"
        },
        "outputId": "08723b52-ca7d-4fda-d176-6c705ca08b8e",
        "id": "OfMTBnKtAisV"
      },
      "execution_count": null,
      "outputs": [
        {
          "output_type": "execute_result",
          "data": {
            "text/plain": [
              "1243                            kasihan nungu yah resulta\n",
              "3154    berani lakilaki berani rumah gadis suka duduk ...\n",
              "4323    malam pojok pilih jalan dapet dm kalo udah nia...\n",
              "3864                           parah wonhee cantik banget\n",
              "28      gimana nilai dr jilbabsyaringgak kadang gemez ...\n",
              "                              ...                        \n",
              "1761    gw sh sbnrnya susah banget nih lepas dr sedot ...\n",
              "32      sungguh cinta berat pisah hadiahperasaan bikin...\n",
              "3894    giat kantor pusat rencana tgl pulang tiket pul...\n",
              "218     terima kasih tertawa moga amal soleh mulia ham...\n",
              "3555    kadang suka gak terima kalo liat hidup we gak ...\n",
              "Name: tweet, Length: 438, dtype: object"
            ]
          },
          "metadata": {},
          "execution_count": 172
        }
      ]
    },
    {
      "cell_type": "code",
      "source": [
        "X_test.to_list()[0]"
      ],
      "metadata": {
        "colab": {
          "base_uri": "https://localhost:8080/",
          "height": 35
        },
        "outputId": "527794a5-7ab2-4690-e0e3-1a10140d301b",
        "id": "aPt8PMxJAisV"
      },
      "execution_count": null,
      "outputs": [
        {
          "output_type": "execute_result",
          "data": {
            "text/plain": [
              "'kasihan nungu yah resulta'"
            ],
            "application/vnd.google.colaboratory.intrinsic+json": {
              "type": "string"
            }
          },
          "metadata": {},
          "execution_count": 173
        }
      ]
    },
    {
      "cell_type": "code",
      "source": [
        "new_tweet = X_test.to_list()\n",
        "seq = tokenizer.texts_to_sequences(new_tweet)\n",
        "padded = pad_sequences(seq, maxlen=MAX_SEQUENCE_LENGTH)\n",
        "pred = model.predict(padded)\n",
        "labels = ['sentiment']"
      ],
      "metadata": {
        "id": "qLozR08SAisV"
      },
      "execution_count": null,
      "outputs": []
    },
    {
      "cell_type": "code",
      "source": [
        "pred.shape"
      ],
      "metadata": {
        "colab": {
          "base_uri": "https://localhost:8080/"
        },
        "outputId": "d2d81bfc-dfdc-4f79-87c3-f78ee6399324",
        "id": "dKofN__aAisV"
      },
      "execution_count": null,
      "outputs": [
        {
          "output_type": "execute_result",
          "data": {
            "text/plain": [
              "(438, 1)"
            ]
          },
          "metadata": {},
          "execution_count": 175
        }
      ]
    },
    {
      "cell_type": "code",
      "source": [
        "for i, j in enumerate(pred):\n",
        "  pred[i] = np.rint(j)\n",
        "y_test_pred = pred.astype(int)"
      ],
      "metadata": {
        "id": "QwxTz54AAisW"
      },
      "execution_count": null,
      "outputs": []
    },
    {
      "cell_type": "code",
      "source": [
        "y_test"
      ],
      "metadata": {
        "colab": {
          "base_uri": "https://localhost:8080/"
        },
        "outputId": "0c65613b-a501-448b-cd09-40a4aee5c284",
        "id": "KBLRj_DpAisW"
      },
      "execution_count": null,
      "outputs": [
        {
          "output_type": "execute_result",
          "data": {
            "text/plain": [
              "array([0, 1, 0, 1, 0, 0, 0, 1, 0, 1, 1, 0, 1, 0, 0, 1, 0, 1, 0, 0, 0, 1,\n",
              "       1, 0, 1, 1, 0, 0, 0, 1, 1, 0, 0, 0, 0, 0, 0, 0, 0, 1, 0, 1, 1, 0,\n",
              "       0, 0, 1, 0, 0, 0, 1, 1, 1, 0, 0, 0, 0, 1, 1, 0, 0, 1, 0, 1, 0, 0,\n",
              "       1, 1, 0, 0, 0, 0, 0, 0, 0, 0, 0, 1, 1, 1, 1, 0, 1, 0, 1, 0, 0, 1,\n",
              "       0, 0, 0, 1, 0, 0, 1, 0, 1, 0, 0, 0, 1, 0, 1, 0, 1, 1, 1, 0, 0, 0,\n",
              "       1, 1, 0, 0, 0, 0, 0, 1, 1, 0, 1, 0, 0, 0, 0, 0, 0, 1, 0, 0, 1, 0,\n",
              "       1, 0, 0, 1, 0, 0, 1, 0, 1, 0, 0, 0, 0, 0, 0, 1, 1, 1, 0, 0, 0, 0,\n",
              "       0, 0, 0, 0, 1, 0, 1, 1, 0, 1, 0, 0, 0, 0, 0, 0, 1, 1, 0, 0, 0, 0,\n",
              "       0, 1, 0, 0, 0, 0, 0, 1, 0, 1, 1, 1, 1, 0, 0, 1, 0, 0, 0, 0, 1, 0,\n",
              "       1, 1, 0, 0, 0, 0, 0, 0, 1, 1, 0, 0, 0, 0, 0, 0, 0, 0, 0, 0, 1, 0,\n",
              "       0, 0, 1, 1, 0, 0, 1, 1, 0, 1, 1, 0, 0, 0, 0, 0, 0, 0, 1, 0, 1, 0,\n",
              "       1, 0, 0, 1, 0, 1, 0, 1, 1, 1, 0, 0, 0, 1, 1, 0, 0, 1, 1, 1, 0, 0,\n",
              "       0, 0, 1, 0, 0, 0, 0, 0, 1, 0, 0, 0, 1, 1, 1, 0, 0, 1, 1, 0, 0, 1,\n",
              "       0, 1, 0, 1, 0, 1, 1, 1, 0, 0, 1, 0, 0, 1, 0, 0, 0, 0, 0, 1, 0, 1,\n",
              "       1, 0, 1, 0, 0, 1, 0, 0, 1, 0, 0, 1, 0, 0, 0, 1, 1, 0, 1, 1, 1, 0,\n",
              "       1, 1, 1, 1, 1, 1, 0, 0, 0, 0, 0, 1, 1, 0, 0, 1, 1, 1, 0, 0, 0, 1,\n",
              "       0, 0, 0, 0, 0, 0, 0, 0, 1, 1, 0, 1, 0, 0, 0, 0, 1, 1, 1, 0, 1, 1,\n",
              "       0, 1, 0, 0, 0, 1, 0, 0, 0, 0, 0, 0, 0, 0, 1, 0, 0, 0, 0, 0, 1, 0,\n",
              "       1, 1, 0, 0, 0, 0, 0, 0, 0, 1, 1, 0, 0, 1, 1, 1, 1, 0, 0, 1, 1, 0,\n",
              "       1, 0, 0, 1, 0, 1, 1, 1, 0, 0, 1, 0, 1, 0, 1, 0, 0, 1, 1, 0])"
            ]
          },
          "metadata": {},
          "execution_count": 177
        }
      ]
    },
    {
      "cell_type": "code",
      "source": [
        "y_test_pred"
      ],
      "metadata": {
        "colab": {
          "base_uri": "https://localhost:8080/"
        },
        "outputId": "c8ccf1ef-7424-4a88-96a5-b6552a89613c",
        "id": "HDRWZrW_AisW"
      },
      "execution_count": null,
      "outputs": [
        {
          "output_type": "execute_result",
          "data": {
            "text/plain": [
              "array([[1],\n",
              "       [0],\n",
              "       [0],\n",
              "       [0],\n",
              "       [0],\n",
              "       [0],\n",
              "       [0],\n",
              "       [1],\n",
              "       [0],\n",
              "       [0],\n",
              "       [0],\n",
              "       [0],\n",
              "       [0],\n",
              "       [0],\n",
              "       [0],\n",
              "       [0],\n",
              "       [0],\n",
              "       [0],\n",
              "       [0],\n",
              "       [0],\n",
              "       [0],\n",
              "       [0],\n",
              "       [0],\n",
              "       [0],\n",
              "       [0],\n",
              "       [1],\n",
              "       [0],\n",
              "       [0],\n",
              "       [0],\n",
              "       [0],\n",
              "       [0],\n",
              "       [0],\n",
              "       [0],\n",
              "       [0],\n",
              "       [0],\n",
              "       [0],\n",
              "       [0],\n",
              "       [0],\n",
              "       [0],\n",
              "       [0],\n",
              "       [0],\n",
              "       [0],\n",
              "       [0],\n",
              "       [0],\n",
              "       [0],\n",
              "       [0],\n",
              "       [0],\n",
              "       [0],\n",
              "       [0],\n",
              "       [0],\n",
              "       [0],\n",
              "       [0],\n",
              "       [0],\n",
              "       [0],\n",
              "       [0],\n",
              "       [0],\n",
              "       [0],\n",
              "       [1],\n",
              "       [0],\n",
              "       [0],\n",
              "       [1],\n",
              "       [0],\n",
              "       [0],\n",
              "       [0],\n",
              "       [0],\n",
              "       [0],\n",
              "       [0],\n",
              "       [0],\n",
              "       [0],\n",
              "       [0],\n",
              "       [0],\n",
              "       [0],\n",
              "       [0],\n",
              "       [0],\n",
              "       [0],\n",
              "       [0],\n",
              "       [0],\n",
              "       [0],\n",
              "       [0],\n",
              "       [0],\n",
              "       [0],\n",
              "       [1],\n",
              "       [0],\n",
              "       [1],\n",
              "       [0],\n",
              "       [0],\n",
              "       [0],\n",
              "       [0],\n",
              "       [0],\n",
              "       [1],\n",
              "       [1],\n",
              "       [0],\n",
              "       [0],\n",
              "       [0],\n",
              "       [1],\n",
              "       [0],\n",
              "       [0],\n",
              "       [0],\n",
              "       [0],\n",
              "       [0],\n",
              "       [0],\n",
              "       [0],\n",
              "       [0],\n",
              "       [0],\n",
              "       [1],\n",
              "       [0],\n",
              "       [0],\n",
              "       [0],\n",
              "       [0],\n",
              "       [0],\n",
              "       [0],\n",
              "       [0],\n",
              "       [0],\n",
              "       [0],\n",
              "       [0],\n",
              "       [1],\n",
              "       [0],\n",
              "       [0],\n",
              "       [0],\n",
              "       [0],\n",
              "       [0],\n",
              "       [1],\n",
              "       [0],\n",
              "       [0],\n",
              "       [0],\n",
              "       [0],\n",
              "       [0],\n",
              "       [0],\n",
              "       [0],\n",
              "       [0],\n",
              "       [0],\n",
              "       [0],\n",
              "       [0],\n",
              "       [1],\n",
              "       [0],\n",
              "       [1],\n",
              "       [0],\n",
              "       [0],\n",
              "       [0],\n",
              "       [0],\n",
              "       [0],\n",
              "       [0],\n",
              "       [0],\n",
              "       [1],\n",
              "       [0],\n",
              "       [0],\n",
              "       [0],\n",
              "       [1],\n",
              "       [0],\n",
              "       [0],\n",
              "       [0],\n",
              "       [0],\n",
              "       [0],\n",
              "       [0],\n",
              "       [0],\n",
              "       [0],\n",
              "       [0],\n",
              "       [0],\n",
              "       [0],\n",
              "       [0],\n",
              "       [0],\n",
              "       [0],\n",
              "       [0],\n",
              "       [0],\n",
              "       [0],\n",
              "       [0],\n",
              "       [0],\n",
              "       [0],\n",
              "       [0],\n",
              "       [0],\n",
              "       [0],\n",
              "       [0],\n",
              "       [0],\n",
              "       [0],\n",
              "       [0],\n",
              "       [0],\n",
              "       [1],\n",
              "       [0],\n",
              "       [0],\n",
              "       [0],\n",
              "       [0],\n",
              "       [0],\n",
              "       [1],\n",
              "       [0],\n",
              "       [0],\n",
              "       [1],\n",
              "       [1],\n",
              "       [0],\n",
              "       [0],\n",
              "       [0],\n",
              "       [0],\n",
              "       [0],\n",
              "       [0],\n",
              "       [0],\n",
              "       [0],\n",
              "       [0],\n",
              "       [0],\n",
              "       [0],\n",
              "       [0],\n",
              "       [0],\n",
              "       [0],\n",
              "       [0],\n",
              "       [0],\n",
              "       [0],\n",
              "       [0],\n",
              "       [0],\n",
              "       [0],\n",
              "       [0],\n",
              "       [0],\n",
              "       [0],\n",
              "       [0],\n",
              "       [0],\n",
              "       [0],\n",
              "       [0],\n",
              "       [1],\n",
              "       [0],\n",
              "       [0],\n",
              "       [0],\n",
              "       [0],\n",
              "       [0],\n",
              "       [0],\n",
              "       [0],\n",
              "       [0],\n",
              "       [1],\n",
              "       [0],\n",
              "       [1],\n",
              "       [0],\n",
              "       [0],\n",
              "       [0],\n",
              "       [0],\n",
              "       [0],\n",
              "       [0],\n",
              "       [0],\n",
              "       [0],\n",
              "       [0],\n",
              "       [0],\n",
              "       [0],\n",
              "       [0],\n",
              "       [0],\n",
              "       [0],\n",
              "       [0],\n",
              "       [1],\n",
              "       [0],\n",
              "       [0],\n",
              "       [0],\n",
              "       [0],\n",
              "       [1],\n",
              "       [0],\n",
              "       [1],\n",
              "       [0],\n",
              "       [0],\n",
              "       [0],\n",
              "       [0],\n",
              "       [0],\n",
              "       [0],\n",
              "       [0],\n",
              "       [0],\n",
              "       [0],\n",
              "       [0],\n",
              "       [0],\n",
              "       [1],\n",
              "       [0],\n",
              "       [0],\n",
              "       [0],\n",
              "       [0],\n",
              "       [0],\n",
              "       [0],\n",
              "       [0],\n",
              "       [0],\n",
              "       [0],\n",
              "       [0],\n",
              "       [0],\n",
              "       [0],\n",
              "       [0],\n",
              "       [0],\n",
              "       [0],\n",
              "       [1],\n",
              "       [0],\n",
              "       [0],\n",
              "       [0],\n",
              "       [0],\n",
              "       [0],\n",
              "       [0],\n",
              "       [0],\n",
              "       [0],\n",
              "       [0],\n",
              "       [0],\n",
              "       [0],\n",
              "       [1],\n",
              "       [0],\n",
              "       [0],\n",
              "       [0],\n",
              "       [0],\n",
              "       [0],\n",
              "       [0],\n",
              "       [0],\n",
              "       [0],\n",
              "       [0],\n",
              "       [0],\n",
              "       [0],\n",
              "       [0],\n",
              "       [0],\n",
              "       [0],\n",
              "       [0],\n",
              "       [0],\n",
              "       [1],\n",
              "       [0],\n",
              "       [0],\n",
              "       [0],\n",
              "       [0],\n",
              "       [0],\n",
              "       [0],\n",
              "       [0],\n",
              "       [0],\n",
              "       [0],\n",
              "       [0],\n",
              "       [0],\n",
              "       [0],\n",
              "       [0],\n",
              "       [0],\n",
              "       [0],\n",
              "       [0],\n",
              "       [0],\n",
              "       [0],\n",
              "       [0],\n",
              "       [0],\n",
              "       [0],\n",
              "       [0],\n",
              "       [0],\n",
              "       [0],\n",
              "       [0],\n",
              "       [0],\n",
              "       [0],\n",
              "       [0],\n",
              "       [0],\n",
              "       [0],\n",
              "       [0],\n",
              "       [1],\n",
              "       [0],\n",
              "       [0],\n",
              "       [0],\n",
              "       [0],\n",
              "       [0],\n",
              "       [0],\n",
              "       [1],\n",
              "       [0],\n",
              "       [0],\n",
              "       [1],\n",
              "       [0],\n",
              "       [1],\n",
              "       [0],\n",
              "       [1],\n",
              "       [0],\n",
              "       [0],\n",
              "       [0],\n",
              "       [0],\n",
              "       [0],\n",
              "       [0],\n",
              "       [0],\n",
              "       [0],\n",
              "       [0],\n",
              "       [0],\n",
              "       [0],\n",
              "       [0],\n",
              "       [0],\n",
              "       [0],\n",
              "       [0],\n",
              "       [0],\n",
              "       [0],\n",
              "       [0],\n",
              "       [0],\n",
              "       [0],\n",
              "       [0],\n",
              "       [0],\n",
              "       [1],\n",
              "       [1],\n",
              "       [1],\n",
              "       [0],\n",
              "       [0],\n",
              "       [0],\n",
              "       [0],\n",
              "       [0],\n",
              "       [0],\n",
              "       [0],\n",
              "       [0],\n",
              "       [0],\n",
              "       [1],\n",
              "       [0],\n",
              "       [0],\n",
              "       [0],\n",
              "       [0],\n",
              "       [0],\n",
              "       [0],\n",
              "       [0],\n",
              "       [0],\n",
              "       [0],\n",
              "       [0],\n",
              "       [1],\n",
              "       [0],\n",
              "       [0],\n",
              "       [0],\n",
              "       [0],\n",
              "       [0],\n",
              "       [0],\n",
              "       [0],\n",
              "       [0],\n",
              "       [0],\n",
              "       [0],\n",
              "       [0],\n",
              "       [0],\n",
              "       [0],\n",
              "       [0],\n",
              "       [0],\n",
              "       [0],\n",
              "       [0],\n",
              "       [0],\n",
              "       [0],\n",
              "       [0],\n",
              "       [1],\n",
              "       [0],\n",
              "       [0],\n",
              "       [0],\n",
              "       [0],\n",
              "       [0],\n",
              "       [0],\n",
              "       [1],\n",
              "       [0],\n",
              "       [0],\n",
              "       [0],\n",
              "       [0],\n",
              "       [0],\n",
              "       [0],\n",
              "       [0],\n",
              "       [0],\n",
              "       [0],\n",
              "       [0],\n",
              "       [0],\n",
              "       [0]])"
            ]
          },
          "metadata": {},
          "execution_count": 178
        }
      ]
    },
    {
      "cell_type": "markdown",
      "source": [
        "# ((CNN Sentiment))"
      ],
      "metadata": {
        "id": "ShfvS65DIEaL"
      }
    },
    {
      "cell_type": "markdown",
      "source": [
        "## 1.CNN Conv-Pool ( convolutional→ maxpol  ) * 3 → Dense. "
      ],
      "metadata": {
        "id": "_-JEQDKE99Vl"
      }
    },
    {
      "cell_type": "code",
      "execution_count": 39,
      "metadata": {
        "id": "I1YpS1o899Vr"
      },
      "outputs": [],
      "source": [
        "MAX_SEQUENCE_LENGTH = 150\n",
        "MAX_NB_WORDS = 2000\n",
        "EMBEDDING_DIM=300\n",
        "\n",
        "tokenizer = Tokenizer(num_words=MAX_NB_WORDS)\n",
        "tokenizer.fit_on_texts(X_train)\n",
        "sequences = tokenizer.texts_to_sequences(X_train)"
      ]
    },
    {
      "cell_type": "code",
      "execution_count": 40,
      "metadata": {
        "colab": {
          "base_uri": "https://localhost:8080/"
        },
        "outputId": "dbaed1b1-3bc3-49ab-947a-fb22fc2c75c0",
        "id": "hqPBOhTU99Vs"
      },
      "outputs": [
        {
          "output_type": "stream",
          "name": "stdout",
          "text": [
            "Found 12701 unique tokens.\n",
            "Shape of data tensor: (3498, 150)\n",
            "Shape of label tensor: (3498,)\n"
          ]
        }
      ],
      "source": [
        "word_index = tokenizer.word_index\n",
        "print('Found %s unique tokens.' % len(word_index))\n",
        "X = pad_sequences(sequences, maxlen=MAX_SEQUENCE_LENGTH)\n",
        "y = np.asarray(y_train)\n",
        "print('Shape of data tensor:', X.shape)\n",
        "print('Shape of label tensor:', y.shape)"
      ]
    },
    {
      "cell_type": "code",
      "source": [
        "X_val"
      ],
      "metadata": {
        "colab": {
          "base_uri": "https://localhost:8080/"
        },
        "outputId": "5bcc4ac4-36f8-4f5f-a8f6-3dda0452119d",
        "id": "gYkTORFz99Vs"
      },
      "execution_count": 41,
      "outputs": [
        {
          "output_type": "execute_result",
          "data": {
            "text/plain": [
              "935     marah lampias hati ku hati kecewa moshing suru...\n",
              "489     neng banget refreshing neng banget gitu cari u...\n",
              "3016    sop dr bank bang sasar gak org langgan bank in...\n",
              "2502    pengin bilang heiiii lo tuh nyaplok duit hak l...\n",
              "3661    beli mobil harga sampe juta doi ganti head uni...\n",
              "                              ...                        \n",
              "1260    bodo bonek the jak gak akur kalo model jijik k...\n",
              "653     elah gw jg kog hidup tngh kelilingin sodara ma...\n",
              "1286    lepas krim dokter alias krim klinik alhamdulil...\n",
              "2249    bundling tawar weekdays momentum hargaharga ho...\n",
              "1906                yo yo wes sampean bener gak awas kalo\n",
              "Name: tweet, Length: 437, dtype: object"
            ]
          },
          "metadata": {},
          "execution_count": 41
        }
      ]
    },
    {
      "cell_type": "code",
      "source": [
        "tokenizer = Tokenizer(num_words=MAX_NB_WORDS)\n",
        "tokenizer.fit_on_texts(X_val)\n",
        "sequences = tokenizer.texts_to_sequences(X_val)"
      ],
      "metadata": {
        "id": "j0ve6BiD99Vs"
      },
      "execution_count": 42,
      "outputs": []
    },
    {
      "cell_type": "code",
      "source": [
        "word_index = tokenizer.word_index\n",
        "print('Found %s unique tokens.' % len(word_index))\n",
        "X_val_seq = pad_sequences(sequences, maxlen=MAX_SEQUENCE_LENGTH)\n",
        "y_val_seq = np.asarray(y_val)\n",
        "print('Shape of data tensor:', X_val_seq.shape)\n",
        "print('Shape of label tensor:', y_val_seq.shape)"
      ],
      "metadata": {
        "colab": {
          "base_uri": "https://localhost:8080/"
        },
        "outputId": "f1decfa7-f466-46aa-8061-9ce9f8dff24a",
        "id": "YOqUSg-x99Vs"
      },
      "execution_count": 43,
      "outputs": [
        {
          "output_type": "stream",
          "name": "stdout",
          "text": [
            "Found 3213 unique tokens.\n",
            "Shape of data tensor: (437, 150)\n",
            "Shape of label tensor: (437,)\n"
          ]
        }
      ]
    },
    {
      "cell_type": "code",
      "execution_count": 44,
      "metadata": {
        "id": "XshbgOeN99Vs"
      },
      "outputs": [],
      "source": [
        "from gensim.models.fasttext import load_facebook_model\n",
        "\n",
        "ft = load_facebook_model(path + 'pretrained_word_embedding/fastext_model_tweet.bin')"
      ]
    },
    {
      "cell_type": "code",
      "source": [
        "ft.vector_size"
      ],
      "metadata": {
        "colab": {
          "base_uri": "https://localhost:8080/"
        },
        "outputId": "54cecaa6-6e68-4efa-ffc4-27e5b46ecff1",
        "id": "mpt7t4Cp99Vs"
      },
      "execution_count": 45,
      "outputs": [
        {
          "output_type": "execute_result",
          "data": {
            "text/plain": [
              "100"
            ]
          },
          "metadata": {},
          "execution_count": 45
        }
      ]
    },
    {
      "cell_type": "code",
      "execution_count": 46,
      "metadata": {
        "id": "5hXDYyIo99Vs"
      },
      "outputs": [],
      "source": [
        "embedding_matrix_ft = np.random.random((len(tokenizer.word_index) + 1, ft.vector_size))"
      ]
    },
    {
      "cell_type": "code",
      "execution_count": 47,
      "metadata": {
        "id": "T-CQUwJ199Vt"
      },
      "outputs": [],
      "source": [
        "for word,i in tokenizer.word_index.items():\n",
        "    try:\n",
        "        embedding_matrix_ft[i] = ft.wv[word]\n",
        "    except:\n",
        "        pass"
      ]
    },
    {
      "cell_type": "code",
      "source": [
        "X"
      ],
      "metadata": {
        "colab": {
          "base_uri": "https://localhost:8080/"
        },
        "outputId": "822151e0-1130-48a9-ca41-b88068a5e0cd",
        "id": "VNbnxaHn99Vt"
      },
      "execution_count": 48,
      "outputs": [
        {
          "output_type": "execute_result",
          "data": {
            "text/plain": [
              "array([[   0,    0,    0, ...,  458,   83,  273],\n",
              "       [   0,    0,    0, ...,   22,  416, 1027],\n",
              "       [   0,    0,    0, ...,  537,    4,   87],\n",
              "       ...,\n",
              "       [   0,    0,    0, ...,  472,   13,  975],\n",
              "       [   0,    0,    0, ...,    0,    0,   22],\n",
              "       [   0,    0,    0, ...,  106,  650,    4]], dtype=int32)"
            ]
          },
          "metadata": {},
          "execution_count": 48
        }
      ]
    },
    {
      "cell_type": "code",
      "execution_count": 49,
      "metadata": {
        "id": "MxZjzsuq99Vt"
      },
      "outputs": [],
      "source": [
        "initial_lr = 0.001\n",
        "epochs = 100\n",
        "decay = initial_lr/epochs\n",
        "batch_size = 32"
      ]
    },
    {
      "cell_type": "code",
      "source": [
        "\n",
        "MAX_TEXT_LEN = X.shape[1]\n",
        "\n",
        "text_seq_input = Input(shape=(MAX_TEXT_LEN,), dtype='int32')\n",
        "text_embedding = Embedding(len(tokenizer.word_index)+1, ft.vector_size, weights=[embedding_matrix_ft], input_length=X.shape[1])(text_seq_input)\n",
        "\n",
        "filter_sizes = [3,4,5]\n",
        "convs = []\n",
        "for filter_size in filter_sizes:\n",
        "    l_conv = Conv1D(filters=128, kernel_size=filter_size, padding='same', activation='relu')(text_embedding)\n",
        "    l_pool = MaxPool1D(filter_size)(l_conv)\n",
        "    convs.append(l_pool)\n",
        "\n",
        "\n",
        "l_merge = Concatenate(axis=1)(convs)\n",
        "l_cov1= Conv1D(128, 5, activation='relu')(l_merge)\n",
        "l_pool1 = MaxPool1D(100)(l_cov1)\n",
        "l_flat = Flatten()(l_pool1)\n",
        "l_dense = Dense(128, activation='relu')(l_flat)\n",
        "l_out = Dense(9, activation='softmax')(l_dense)\n",
        "model_1 = Model(inputs=[text_seq_input], outputs=l_out)\n",
        "\n",
        "opt = tf.keras.optimizers.Adam(clipvalue=1.0)\n",
        "\n",
        "model_1.compile(loss='categorical_crossentropy', optimizer=opt, metrics=['categorical_accuracy'])\n"
      ],
      "metadata": {
        "id": "rmVE65Lp99Vt"
      },
      "execution_count": 50,
      "outputs": []
    },
    {
      "cell_type": "code",
      "execution_count": 51,
      "metadata": {
        "colab": {
          "base_uri": "https://localhost:8080/"
        },
        "outputId": "3915ca9a-289d-4226-cf5f-2b915ab55e8e",
        "id": "c14jlQ3e99Vt"
      },
      "outputs": [
        {
          "output_type": "stream",
          "name": "stdout",
          "text": [
            "Model: \"sequential\"\n",
            "_________________________________________________________________\n",
            " Layer (type)                Output Shape              Param #   \n",
            "=================================================================\n",
            " embedding (Embedding)       (None, 150, 100)          321400    \n",
            "                                                                 \n",
            " lstm (LSTM)                 (None, 150, 64)           42240     \n",
            "                                                                 \n",
            " global_max_pooling1d (Globa  (None, 64)               0         \n",
            " lMaxPooling1D)                                                  \n",
            "                                                                 \n",
            " dense (Dense)               (None, 32)                2080      \n",
            "                                                                 \n",
            " dropout (Dropout)           (None, 32)                0         \n",
            "                                                                 \n",
            " dense_1 (Dense)             (None, 1)                 33        \n",
            "                                                                 \n",
            "=================================================================\n",
            "Total params: 365,753\n",
            "Trainable params: 365,753\n",
            "Non-trainable params: 0\n",
            "_________________________________________________________________\n"
          ]
        }
      ],
      "source": [
        "model.summary()"
      ]
    },
    {
      "cell_type": "code",
      "execution_count": 52,
      "metadata": {
        "id": "T4USntfE99Vt"
      },
      "outputs": [],
      "source": [
        "def lr_time_based_decay(epoch, lr):\n",
        "            return lr * 1 / (1 + decay * epoch)"
      ]
    },
    {
      "cell_type": "code",
      "execution_count": 53,
      "metadata": {
        "id": "9A6klmfh99Vt"
      },
      "outputs": [],
      "source": [
        "es = EarlyStopping(monitor = 'val_loss', mode = \"auto\", patience = 10, restore_best_weights = True)"
      ]
    },
    {
      "cell_type": "code",
      "source": [
        "history = model.fit(X, y, epochs=epochs, validation_data = (X_val_seq, y_val_seq), batch_size=batch_size, callbacks = es)"
      ],
      "metadata": {
        "colab": {
          "base_uri": "https://localhost:8080/"
        },
        "outputId": "bd4a1621-752e-4d0a-ed5f-df002fbd45fa",
        "id": "88vvZFab99Vt"
      },
      "execution_count": 54,
      "outputs": [
        {
          "output_type": "stream",
          "name": "stdout",
          "text": [
            "Epoch 1/100\n",
            "110/110 [==============================] - 24s 220ms/step - loss: 0.2864 - accuracy: 0.8839 - val_loss: 1.1224 - val_accuracy: 0.5904\n",
            "Epoch 2/100\n",
            "110/110 [==============================] - 24s 218ms/step - loss: 0.2608 - accuracy: 0.8959 - val_loss: 1.1137 - val_accuracy: 0.5561\n",
            "Epoch 3/100\n",
            "110/110 [==============================] - 23s 214ms/step - loss: 0.2402 - accuracy: 0.9085 - val_loss: 1.2029 - val_accuracy: 0.5973\n",
            "Epoch 4/100\n",
            "110/110 [==============================] - 23s 213ms/step - loss: 0.2200 - accuracy: 0.9174 - val_loss: 1.2672 - val_accuracy: 0.6156\n",
            "Epoch 5/100\n",
            "110/110 [==============================] - 23s 211ms/step - loss: 0.2111 - accuracy: 0.9211 - val_loss: 1.1988 - val_accuracy: 0.5881\n",
            "Epoch 6/100\n",
            "110/110 [==============================] - 23s 214ms/step - loss: 0.1882 - accuracy: 0.9288 - val_loss: 1.4263 - val_accuracy: 0.6156\n",
            "Epoch 7/100\n",
            "110/110 [==============================] - 23s 213ms/step - loss: 0.1669 - accuracy: 0.9414 - val_loss: 1.4944 - val_accuracy: 0.5515\n",
            "Epoch 8/100\n",
            "110/110 [==============================] - 23s 213ms/step - loss: 0.1594 - accuracy: 0.9448 - val_loss: 1.4880 - val_accuracy: 0.5881\n",
            "Epoch 9/100\n",
            "110/110 [==============================] - 23s 213ms/step - loss: 0.1379 - accuracy: 0.9511 - val_loss: 1.6636 - val_accuracy: 0.5378\n",
            "Epoch 10/100\n",
            "110/110 [==============================] - 24s 219ms/step - loss: 0.1240 - accuracy: 0.9574 - val_loss: 1.8033 - val_accuracy: 0.6270\n",
            "Epoch 11/100\n",
            "110/110 [==============================] - 29s 267ms/step - loss: 0.1161 - accuracy: 0.9583 - val_loss: 1.8655 - val_accuracy: 0.6018\n",
            "Epoch 12/100\n",
            "110/110 [==============================] - 30s 271ms/step - loss: 0.1043 - accuracy: 0.9660 - val_loss: 1.8814 - val_accuracy: 0.6270\n"
          ]
        }
      ]
    },
    {
      "cell_type": "code",
      "source": [
        "plt.title('Loss')\n",
        "plt.plot(history.history['loss'], label='train')\n",
        "plt.plot(history.history['val_loss'], label='test')\n",
        "plt.legend()\n",
        "plt.show()"
      ],
      "metadata": {
        "colab": {
          "base_uri": "https://localhost:8080/",
          "height": 281
        },
        "outputId": "4f6e3ee3-3f81-485d-cfa4-dc5493b7cbd7",
        "id": "7GQ5cC4g99Vt"
      },
      "execution_count": 55,
      "outputs": [
        {
          "output_type": "display_data",
          "data": {
            "text/plain": [
              "<Figure size 432x288 with 1 Axes>"
            ],
            "image/png": "[encoded data removed]"
          },
          "metadata": {
            "needs_background": "light"
          }
        }
      ]
    },
    {
      "cell_type": "code",
      "source": [
        "plt.title('Accuracy')\n",
        "plt.plot(history.history['accuracy'], label='train')\n",
        "plt.plot(history.history['val_accuracy'], label='test')\n",
        "plt.legend()\n",
        "plt.show()"
      ],
      "metadata": {
        "colab": {
          "base_uri": "https://localhost:8080/",
          "height": 281
        },
        "outputId": "55c86629-80fd-4793-d4b2-181d0ef02172",
        "id": "YbVDsEvC99Vu"
      },
      "execution_count": 56,
      "outputs": [
        {
          "output_type": "display_data",
          "data": {
            "text/plain": [
              "<Figure size 432x288 with 1 Axes>"
            ],
            "image/png": "[encoded data removed]"
          },
          "metadata": {
            "needs_background": "light"
          }
        }
      ]
    },
    {
      "cell_type": "code",
      "source": [
        "X_test"
      ],
      "metadata": {
        "colab": {
          "base_uri": "https://localhost:8080/"
        },
        "outputId": "e5b2a38a-2c7a-4549-b548-123cc3abaf34",
        "id": "XcLne6SS99Vu"
      },
      "execution_count": 57,
      "outputs": [
        {
          "output_type": "execute_result",
          "data": {
            "text/plain": [
              "1243                            kasihan nungu yah resulta\n",
              "3154    berani lakilaki berani rumah gadis suka duduk ...\n",
              "4323    malam pojok pilih jalan dapet dm kalo udah nia...\n",
              "3864                           parah wonhee cantik banget\n",
              "28      gimana nilai dr jilbabsyaringgak kadang gemez ...\n",
              "                              ...                        \n",
              "1761    gw sh sbnrnya susah banget nih lepas dr sedot ...\n",
              "32      sungguh cinta berat pisah hadiahperasaan bikin...\n",
              "3894    giat kantor pusat rencana tgl pulang tiket pul...\n",
              "218     terima kasih tertawa moga amal soleh mulia ham...\n",
              "3555    kadang suka gak terima kalo liat hidup we gak ...\n",
              "Name: tweet, Length: 438, dtype: object"
            ]
          },
          "metadata": {},
          "execution_count": 57
        }
      ]
    },
    {
      "cell_type": "code",
      "source": [
        "X_test.to_list()[0]"
      ],
      "metadata": {
        "colab": {
          "base_uri": "https://localhost:8080/",
          "height": 35
        },
        "outputId": "1783d17e-4710-4f23-b7a3-8626c4625fc9",
        "id": "Qgo51OdS99Vu"
      },
      "execution_count": 58,
      "outputs": [
        {
          "output_type": "execute_result",
          "data": {
            "text/plain": [
              "'kasihan nungu yah resulta'"
            ],
            "application/vnd.google.colaboratory.intrinsic+json": {
              "type": "string"
            }
          },
          "metadata": {},
          "execution_count": 58
        }
      ]
    },
    {
      "cell_type": "code",
      "source": [
        "new_tweet = X_test.to_list()\n",
        "seq = tokenizer.texts_to_sequences(new_tweet)\n",
        "padded = pad_sequences(seq, maxlen=MAX_SEQUENCE_LENGTH)\n",
        "pred = model.predict(padded)\n",
        "labels = ['sentiment']"
      ],
      "metadata": {
        "id": "vzdd64cF99Vu"
      },
      "execution_count": 59,
      "outputs": []
    },
    {
      "cell_type": "code",
      "source": [
        "pred.shape"
      ],
      "metadata": {
        "colab": {
          "base_uri": "https://localhost:8080/"
        },
        "outputId": "bf27b74f-efc2-4f02-fb56-36f14e4c9601",
        "id": "j8FUkTft99Vu"
      },
      "execution_count": 60,
      "outputs": [
        {
          "output_type": "execute_result",
          "data": {
            "text/plain": [
              "(438, 1)"
            ]
          },
          "metadata": {},
          "execution_count": 60
        }
      ]
    },
    {
      "cell_type": "code",
      "source": [
        "for i, j in enumerate(pred):\n",
        "  pred[i] = np.rint(j)\n",
        "y_test_pred = pred.astype(int)"
      ],
      "metadata": {
        "id": "KXGTmueW99Vu"
      },
      "execution_count": 61,
      "outputs": []
    },
    {
      "cell_type": "code",
      "source": [
        "y_test"
      ],
      "metadata": {
        "colab": {
          "base_uri": "https://localhost:8080/"
        },
        "outputId": "627cad5e-572f-4d4d-ca43-02e83ac2f08a",
        "id": "UkjuM5Dn99Vu"
      },
      "execution_count": 62,
      "outputs": [
        {
          "output_type": "execute_result",
          "data": {
            "text/plain": [
              "array([0, 1, 0, 1, 0, 0, 0, 1, 0, 1, 1, 0, 1, 0, 0, 1, 0, 1, 0, 0, 0, 1,\n",
              "       1, 0, 1, 1, 0, 0, 0, 1, 1, 0, 0, 0, 0, 0, 0, 0, 0, 1, 0, 1, 1, 0,\n",
              "       0, 0, 1, 0, 0, 0, 1, 1, 1, 0, 0, 0, 0, 1, 1, 0, 0, 1, 0, 1, 0, 0,\n",
              "       1, 1, 0, 0, 0, 0, 0, 0, 0, 0, 0, 1, 1, 1, 1, 0, 1, 0, 1, 0, 0, 1,\n",
              "       0, 0, 0, 1, 0, 0, 1, 0, 1, 0, 0, 0, 1, 0, 1, 0, 1, 1, 1, 0, 0, 0,\n",
              "       1, 1, 0, 0, 0, 0, 0, 1, 1, 0, 1, 0, 0, 0, 0, 0, 0, 1, 0, 0, 1, 0,\n",
              "       1, 0, 0, 1, 0, 0, 1, 0, 1, 0, 0, 0, 0, 0, 0, 1, 1, 1, 0, 0, 0, 0,\n",
              "       0, 0, 0, 0, 1, 0, 1, 1, 0, 1, 0, 0, 0, 0, 0, 0, 1, 1, 0, 0, 0, 0,\n",
              "       0, 1, 0, 0, 0, 0, 0, 1, 0, 1, 1, 1, 1, 0, 0, 1, 0, 0, 0, 0, 1, 0,\n",
              "       1, 1, 0, 0, 0, 0, 0, 0, 1, 1, 0, 0, 0, 0, 0, 0, 0, 0, 0, 0, 1, 0,\n",
              "       0, 0, 1, 1, 0, 0, 1, 1, 0, 1, 1, 0, 0, 0, 0, 0, 0, 0, 1, 0, 1, 0,\n",
              "       1, 0, 0, 1, 0, 1, 0, 1, 1, 1, 0, 0, 0, 1, 1, 0, 0, 1, 1, 1, 0, 0,\n",
              "       0, 0, 1, 0, 0, 0, 0, 0, 1, 0, 0, 0, 1, 1, 1, 0, 0, 1, 1, 0, 0, 1,\n",
              "       0, 1, 0, 1, 0, 1, 1, 1, 0, 0, 1, 0, 0, 1, 0, 0, 0, 0, 0, 1, 0, 1,\n",
              "       1, 0, 1, 0, 0, 1, 0, 0, 1, 0, 0, 1, 0, 0, 0, 1, 1, 0, 1, 1, 1, 0,\n",
              "       1, 1, 1, 1, 1, 1, 0, 0, 0, 0, 0, 1, 1, 0, 0, 1, 1, 1, 0, 0, 0, 1,\n",
              "       0, 0, 0, 0, 0, 0, 0, 0, 1, 1, 0, 1, 0, 0, 0, 0, 1, 1, 1, 0, 1, 1,\n",
              "       0, 1, 0, 0, 0, 1, 0, 0, 0, 0, 0, 0, 0, 0, 1, 0, 0, 0, 0, 0, 1, 0,\n",
              "       1, 1, 0, 0, 0, 0, 0, 0, 0, 1, 1, 0, 0, 1, 1, 1, 1, 0, 0, 1, 1, 0,\n",
              "       1, 0, 0, 1, 0, 1, 1, 1, 0, 0, 1, 0, 1, 0, 1, 0, 0, 1, 1, 0])"
            ]
          },
          "metadata": {},
          "execution_count": 62
        }
      ]
    },
    {
      "cell_type": "code",
      "source": [
        "y_test_pred"
      ],
      "metadata": {
        "colab": {
          "base_uri": "https://localhost:8080/"
        },
        "outputId": "3e33fea3-0024-488a-a673-3212c23018ea",
        "id": "IjImkq8o99Vv"
      },
      "execution_count": 63,
      "outputs": [
        {
          "output_type": "execute_result",
          "data": {
            "text/plain": [
              "array([[0],\n",
              "       [1],\n",
              "       [0],\n",
              "       [0],\n",
              "       [0],\n",
              "       [1],\n",
              "       [0],\n",
              "       [1],\n",
              "       [0],\n",
              "       [1],\n",
              "       [1],\n",
              "       [1],\n",
              "       [0],\n",
              "       [0],\n",
              "       [1],\n",
              "       [0],\n",
              "       [0],\n",
              "       [0],\n",
              "       [0],\n",
              "       [1],\n",
              "       [1],\n",
              "       [0],\n",
              "       [0],\n",
              "       [0],\n",
              "       [0],\n",
              "       [0],\n",
              "       [1],\n",
              "       [0],\n",
              "       [0],\n",
              "       [0],\n",
              "       [1],\n",
              "       [0],\n",
              "       [0],\n",
              "       [0],\n",
              "       [1],\n",
              "       [0],\n",
              "       [0],\n",
              "       [0],\n",
              "       [0],\n",
              "       [0],\n",
              "       [1],\n",
              "       [0],\n",
              "       [0],\n",
              "       [1],\n",
              "       [1],\n",
              "       [1],\n",
              "       [0],\n",
              "       [0],\n",
              "       [1],\n",
              "       [0],\n",
              "       [0],\n",
              "       [0],\n",
              "       [0],\n",
              "       [1],\n",
              "       [1],\n",
              "       [0],\n",
              "       [0],\n",
              "       [1],\n",
              "       [0],\n",
              "       [0],\n",
              "       [1],\n",
              "       [0],\n",
              "       [0],\n",
              "       [1],\n",
              "       [1],\n",
              "       [0],\n",
              "       [0],\n",
              "       [1],\n",
              "       [0],\n",
              "       [1],\n",
              "       [1],\n",
              "       [0],\n",
              "       [0],\n",
              "       [0],\n",
              "       [0],\n",
              "       [0],\n",
              "       [0],\n",
              "       [1],\n",
              "       [1],\n",
              "       [0],\n",
              "       [0],\n",
              "       [0],\n",
              "       [0],\n",
              "       [0],\n",
              "       [0],\n",
              "       [0],\n",
              "       [0],\n",
              "       [0],\n",
              "       [0],\n",
              "       [1],\n",
              "       [1],\n",
              "       [0],\n",
              "       [0],\n",
              "       [0],\n",
              "       [0],\n",
              "       [0],\n",
              "       [0],\n",
              "       [0],\n",
              "       [0],\n",
              "       [0],\n",
              "       [0],\n",
              "       [0],\n",
              "       [1],\n",
              "       [0],\n",
              "       [0],\n",
              "       [0],\n",
              "       [0],\n",
              "       [0],\n",
              "       [1],\n",
              "       [0],\n",
              "       [0],\n",
              "       [1],\n",
              "       [0],\n",
              "       [0],\n",
              "       [0],\n",
              "       [1],\n",
              "       [0],\n",
              "       [1],\n",
              "       [0],\n",
              "       [0],\n",
              "       [0],\n",
              "       [1],\n",
              "       [0],\n",
              "       [0],\n",
              "       [0],\n",
              "       [0],\n",
              "       [1],\n",
              "       [0],\n",
              "       [1],\n",
              "       [1],\n",
              "       [0],\n",
              "       [0],\n",
              "       [1],\n",
              "       [1],\n",
              "       [1],\n",
              "       [1],\n",
              "       [1],\n",
              "       [1],\n",
              "       [1],\n",
              "       [0],\n",
              "       [0],\n",
              "       [0],\n",
              "       [1],\n",
              "       [1],\n",
              "       [1],\n",
              "       [0],\n",
              "       [0],\n",
              "       [1],\n",
              "       [0],\n",
              "       [1],\n",
              "       [1],\n",
              "       [0],\n",
              "       [0],\n",
              "       [1],\n",
              "       [1],\n",
              "       [0],\n",
              "       [0],\n",
              "       [1],\n",
              "       [0],\n",
              "       [0],\n",
              "       [0],\n",
              "       [1],\n",
              "       [0],\n",
              "       [0],\n",
              "       [1],\n",
              "       [0],\n",
              "       [0],\n",
              "       [1],\n",
              "       [0],\n",
              "       [0],\n",
              "       [0],\n",
              "       [0],\n",
              "       [0],\n",
              "       [0],\n",
              "       [0],\n",
              "       [0],\n",
              "       [0],\n",
              "       [1],\n",
              "       [0],\n",
              "       [0],\n",
              "       [1],\n",
              "       [0],\n",
              "       [1],\n",
              "       [1],\n",
              "       [1],\n",
              "       [1],\n",
              "       [0],\n",
              "       [0],\n",
              "       [1],\n",
              "       [1],\n",
              "       [1],\n",
              "       [0],\n",
              "       [0],\n",
              "       [0],\n",
              "       [0],\n",
              "       [0],\n",
              "       [0],\n",
              "       [0],\n",
              "       [0],\n",
              "       [1],\n",
              "       [0],\n",
              "       [0],\n",
              "       [0],\n",
              "       [1],\n",
              "       [1],\n",
              "       [0],\n",
              "       [0],\n",
              "       [0],\n",
              "       [1],\n",
              "       [0],\n",
              "       [0],\n",
              "       [1],\n",
              "       [0],\n",
              "       [1],\n",
              "       [0],\n",
              "       [0],\n",
              "       [1],\n",
              "       [1],\n",
              "       [0],\n",
              "       [0],\n",
              "       [0],\n",
              "       [0],\n",
              "       [0],\n",
              "       [1],\n",
              "       [0],\n",
              "       [0],\n",
              "       [0],\n",
              "       [0],\n",
              "       [1],\n",
              "       [1],\n",
              "       [0],\n",
              "       [1],\n",
              "       [1],\n",
              "       [0],\n",
              "       [1],\n",
              "       [1],\n",
              "       [1],\n",
              "       [0],\n",
              "       [1],\n",
              "       [0],\n",
              "       [0],\n",
              "       [1],\n",
              "       [1],\n",
              "       [1],\n",
              "       [0],\n",
              "       [1],\n",
              "       [0],\n",
              "       [0],\n",
              "       [1],\n",
              "       [1],\n",
              "       [0],\n",
              "       [0],\n",
              "       [0],\n",
              "       [0],\n",
              "       [0],\n",
              "       [0],\n",
              "       [0],\n",
              "       [1],\n",
              "       [1],\n",
              "       [0],\n",
              "       [1],\n",
              "       [0],\n",
              "       [0],\n",
              "       [0],\n",
              "       [0],\n",
              "       [0],\n",
              "       [1],\n",
              "       [1],\n",
              "       [0],\n",
              "       [1],\n",
              "       [0],\n",
              "       [1],\n",
              "       [1],\n",
              "       [1],\n",
              "       [0],\n",
              "       [1],\n",
              "       [1],\n",
              "       [1],\n",
              "       [0],\n",
              "       [1],\n",
              "       [1],\n",
              "       [1],\n",
              "       [0],\n",
              "       [0],\n",
              "       [0],\n",
              "       [0],\n",
              "       [0],\n",
              "       [0],\n",
              "       [1],\n",
              "       [0],\n",
              "       [0],\n",
              "       [1],\n",
              "       [1],\n",
              "       [0],\n",
              "       [1],\n",
              "       [0],\n",
              "       [0],\n",
              "       [0],\n",
              "       [0],\n",
              "       [0],\n",
              "       [0],\n",
              "       [1],\n",
              "       [0],\n",
              "       [1],\n",
              "       [0],\n",
              "       [1],\n",
              "       [0],\n",
              "       [0],\n",
              "       [0],\n",
              "       [1],\n",
              "       [0],\n",
              "       [0],\n",
              "       [1],\n",
              "       [1],\n",
              "       [0],\n",
              "       [1],\n",
              "       [1],\n",
              "       [0],\n",
              "       [1],\n",
              "       [1],\n",
              "       [1],\n",
              "       [0],\n",
              "       [0],\n",
              "       [0],\n",
              "       [0],\n",
              "       [0],\n",
              "       [0],\n",
              "       [0],\n",
              "       [0],\n",
              "       [1],\n",
              "       [1],\n",
              "       [1],\n",
              "       [0],\n",
              "       [0],\n",
              "       [0],\n",
              "       [0],\n",
              "       [0],\n",
              "       [1],\n",
              "       [0],\n",
              "       [0],\n",
              "       [0],\n",
              "       [1],\n",
              "       [1],\n",
              "       [1],\n",
              "       [0],\n",
              "       [1],\n",
              "       [0],\n",
              "       [1],\n",
              "       [1],\n",
              "       [1],\n",
              "       [0],\n",
              "       [1],\n",
              "       [1],\n",
              "       [0],\n",
              "       [0],\n",
              "       [0],\n",
              "       [0],\n",
              "       [1],\n",
              "       [1],\n",
              "       [0],\n",
              "       [0],\n",
              "       [1],\n",
              "       [1],\n",
              "       [1],\n",
              "       [1],\n",
              "       [0],\n",
              "       [0],\n",
              "       [0],\n",
              "       [1],\n",
              "       [1],\n",
              "       [0],\n",
              "       [0],\n",
              "       [0],\n",
              "       [1],\n",
              "       [1],\n",
              "       [1],\n",
              "       [1],\n",
              "       [0],\n",
              "       [0],\n",
              "       [0],\n",
              "       [0],\n",
              "       [0],\n",
              "       [0],\n",
              "       [0],\n",
              "       [0],\n",
              "       [0],\n",
              "       [1],\n",
              "       [0],\n",
              "       [1],\n",
              "       [1],\n",
              "       [0],\n",
              "       [0],\n",
              "       [0],\n",
              "       [1],\n",
              "       [0],\n",
              "       [1],\n",
              "       [0],\n",
              "       [1],\n",
              "       [0],\n",
              "       [0],\n",
              "       [0],\n",
              "       [1],\n",
              "       [0],\n",
              "       [1],\n",
              "       [0],\n",
              "       [0],\n",
              "       [1],\n",
              "       [0],\n",
              "       [0],\n",
              "       [0],\n",
              "       [0],\n",
              "       [0],\n",
              "       [0],\n",
              "       [0],\n",
              "       [0],\n",
              "       [0],\n",
              "       [0],\n",
              "       [0],\n",
              "       [1],\n",
              "       [1],\n",
              "       [1],\n",
              "       [0],\n",
              "       [1],\n",
              "       [0],\n",
              "       [0],\n",
              "       [1],\n",
              "       [0],\n",
              "       [0],\n",
              "       [0],\n",
              "       [1],\n",
              "       [0],\n",
              "       [0],\n",
              "       [0],\n",
              "       [0],\n",
              "       [1],\n",
              "       [0],\n",
              "       [0],\n",
              "       [1]])"
            ]
          },
          "metadata": {},
          "execution_count": 63
        }
      ]
    },
    {
      "cell_type": "markdown",
      "source": [
        "# Evaluation Sentiment"
      ],
      "metadata": {
        "id": "mrVd0A6Tan64"
      }
    },
    {
      "cell_type": "code",
      "execution_count": 64,
      "metadata": {
        "id": "Zq5EG16pOsrQ"
      },
      "outputs": [],
      "source": [
        "from sklearn.metrics import classification_report, accuracy_score, f1_score"
      ]
    },
    {
      "cell_type": "code",
      "execution_count": 65,
      "metadata": {
        "colab": {
          "base_uri": "https://localhost:8080/"
        },
        "id": "T19cSwR8J2DH",
        "outputId": "941e4719-0f4c-4626-bd9c-789f9cada870"
      },
      "outputs": [
        {
          "output_type": "stream",
          "name": "stdout",
          "text": [
            "              precision    recall  f1-score   support\n",
            "\n",
            "           0       0.62      0.63      0.62       273\n",
            "           1       0.37      0.36      0.37       165\n",
            "\n",
            "    accuracy                           0.53       438\n",
            "   macro avg       0.49      0.50      0.49       438\n",
            "weighted avg       0.53      0.53      0.53       438\n",
            "\n"
          ]
        }
      ],
      "source": [
        "print(classification_report(y_test, y_test_pred))"
      ]
    },
    {
      "cell_type": "code",
      "source": [
        "print(accuracy_score(y_test, y_test_pred), f1_score(y_test, y_test_pred, average='weighted'), f1_score(y_test, y_test_pred, average='macro'), f1_score(y_test, y_test_pred, average='micro'))"
      ],
      "metadata": {
        "colab": {
          "base_uri": "https://localhost:8080/"
        },
        "id": "g5YPsiaHdggo",
        "outputId": "a2b22cd7-97ec-4b07-9747-efda11353ad6"
      },
      "execution_count": 66,
      "outputs": [
        {
          "output_type": "stream",
          "name": "stdout",
          "text": [
            "0.5273972602739726 0.5265206221143566 0.4949616483681757 0.5273972602739726\n"
          ]
        }
      ]
    },
    {
      "cell_type": "code",
      "source": [
        "print(accuracy_score(y_test, y_test_pred))\n",
        "print(f1_score(y_test, y_test_pred, average='weighted'))\n",
        "print(f1_score(y_test, y_test_pred, average='macro'))\n",
        "print(f1_score(y_test, y_test_pred, average='micro'))"
      ],
      "metadata": {
        "colab": {
          "base_uri": "https://localhost:8080/"
        },
        "id": "Zs--u4fFaspx",
        "outputId": "9898dfbd-8f8d-454c-bbf3-b8fc4c766d81"
      },
      "execution_count": 67,
      "outputs": [
        {
          "output_type": "stream",
          "name": "stdout",
          "text": [
            "0.5273972602739726\n",
            "0.5265206221143566\n",
            "0.4949616483681757\n",
            "0.5273972602739726\n"
          ]
        }
      ]
    },
    {
      "cell_type": "code",
      "source": [
        "#aaa"
      ],
      "metadata": {
        "id": "SnL6-yXlblXE"
      },
      "execution_count": 68,
      "outputs": []
    },
    {
      "cell_type": "markdown",
      "source": [
        "# Split Postive Emot"
      ],
      "metadata": {
        "id": "VJzgyU5YE-Dl"
      }
    },
    {
      "cell_type": "code",
      "source": [
        "df"
      ],
      "metadata": {
        "colab": {
          "base_uri": "https://localhost:8080/",
          "height": 424
        },
        "outputId": "91cd14ec-cc25-408b-c48b-da46ad81eb0f",
        "id": "b9jz71djE-Dm"
      },
      "execution_count": null,
      "outputs": [
        {
          "output_type": "execute_result",
          "data": {
            "text/plain": [
              "        label                                              tweet sentiment\n",
              "0       anger  jln jatibarupolisi tdk bs gertak gubernur eman...  negative\n",
              "1       anger  cewe lho kayak rasain sibuk jaga rasain sakit ...  negative\n",
              "2       happy  kepingin gudeg mbarek bu hj amad foto google s...  positive\n",
              "3       anger  jln jatibarubagian wilayah tn abangpengaturan ...  negative\n",
              "4       happy  sharing alam kemarin jam batalin tiket stasiun...  positive\n",
              "...       ...                                                ...       ...\n",
              "4368     love  papa mejam tahan gejolak batin papa tapu lagil...  positive\n",
              "4369     fear  sulit calon wapresnya jokowi pilpres salah gem...  negative\n",
              "4370    anger  nggak lha iya gimana coba lulus seni nari nari...  negative\n",
              "4371    happy  beneran mahasiswa teknik ui nembak pacar pas s...  positive\n",
              "4372  sadness               allah engkau sakit hati sembuh allah  negative\n",
              "\n",
              "[4373 rows x 3 columns]"
            ],
            "text/html": [
              "\n",
              "  <div id=\"df-693e53c2-21dc-4ef7-a6b3-9dbb103ad9ed\">\n",
              "    <div class=\"colab-df-container\">\n",
              "      <div>\n",
              "<style scoped>\n",
              "    .dataframe tbody tr th:only-of-type {\n",
              "        vertical-align: middle;\n",
              "    }\n",
              "\n",
              "    .dataframe tbody tr th {\n",
              "        vertical-align: top;\n",
              "    }\n",
              "\n",
              "    .dataframe thead th {\n",
              "        text-align: right;\n",
              "    }\n",
              "</style>\n",
              "<table border=\"1\" class=\"dataframe\">\n",
              "  <thead>\n",
              "    <tr style=\"text-align: right;\">\n",
              "      <th></th>\n",
              "      <th>label</th>\n",
              "      <th>tweet</th>\n",
              "      <th>sentiment</th>\n",
              "    </tr>\n",
              "  </thead>\n",
              "  <tbody>\n",
              "    <tr>\n",
              "      <th>0</th>\n",
              "      <td>anger</td>\n",
              "      <td>jln jatibarupolisi tdk bs gertak gubernur eman...</td>\n",
              "      <td>negative</td>\n",
              "    </tr>\n",
              "    <tr>\n",
              "      <th>1</th>\n",
              "      <td>anger</td>\n",
              "      <td>cewe lho kayak rasain sibuk jaga rasain sakit ...</td>\n",
              "      <td>negative</td>\n",
              "    </tr>\n",
              "    <tr>\n",
              "      <th>2</th>\n",
              "      <td>happy</td>\n",
              "      <td>kepingin gudeg mbarek bu hj amad foto google s...</td>\n",
              "      <td>positive</td>\n",
              "    </tr>\n",
              "    <tr>\n",
              "      <th>3</th>\n",
              "      <td>anger</td>\n",
              "      <td>jln jatibarubagian wilayah tn abangpengaturan ...</td>\n",
              "      <td>negative</td>\n",
              "    </tr>\n",
              "    <tr>\n",
              "      <th>4</th>\n",
              "      <td>happy</td>\n",
              "      <td>sharing alam kemarin jam batalin tiket stasiun...</td>\n",
              "      <td>positive</td>\n",
              "    </tr>\n",
              "    <tr>\n",
              "      <th>...</th>\n",
              "      <td>...</td>\n",
              "      <td>...</td>\n",
              "      <td>...</td>\n",
              "    </tr>\n",
              "    <tr>\n",
              "      <th>4368</th>\n",
              "      <td>love</td>\n",
              "      <td>papa mejam tahan gejolak batin papa tapu lagil...</td>\n",
              "      <td>positive</td>\n",
              "    </tr>\n",
              "    <tr>\n",
              "      <th>4369</th>\n",
              "      <td>fear</td>\n",
              "      <td>sulit calon wapresnya jokowi pilpres salah gem...</td>\n",
              "      <td>negative</td>\n",
              "    </tr>\n",
              "    <tr>\n",
              "      <th>4370</th>\n",
              "      <td>anger</td>\n",
              "      <td>nggak lha iya gimana coba lulus seni nari nari...</td>\n",
              "      <td>negative</td>\n",
              "    </tr>\n",
              "    <tr>\n",
              "      <th>4371</th>\n",
              "      <td>happy</td>\n",
              "      <td>beneran mahasiswa teknik ui nembak pacar pas s...</td>\n",
              "      <td>positive</td>\n",
              "    </tr>\n",
              "    <tr>\n",
              "      <th>4372</th>\n",
              "      <td>sadness</td>\n",
              "      <td>allah engkau sakit hati sembuh allah</td>\n",
              "      <td>negative</td>\n",
              "    </tr>\n",
              "  </tbody>\n",
              "</table>\n",
              "<p>4373 rows × 3 columns</p>\n",
              "</div>\n",
              "      <button class=\"colab-df-convert\" onclick=\"convertToInteractive('df-693e53c2-21dc-4ef7-a6b3-9dbb103ad9ed')\"\n",
              "              title=\"Convert this dataframe to an interactive table.\"\n",
              "              style=\"display:none;\">\n",
              "        \n",
              "  <svg xmlns=\"http://www.w3.org/2000/svg\" height=\"24px\"viewBox=\"0 0 24 24\"\n",
              "       width=\"24px\">\n",
              "    <path d=\"M0 0h24v24H0V0z\" fill=\"none\"/>\n",
              "    <path d=\"M18.56 5.44l.94 2.06.94-2.06 2.06-.94-2.06-.94-.94-2.06-.94 2.06-2.06.94zm-11 1L8.5 8.5l.94-2.06 2.06-.94-2.06-.94L8.5 2.5l-.94 2.06-2.06.94zm10 10l.94 2.06.94-2.06 2.06-.94-2.06-.94-.94-2.06-.94 2.06-2.06.94z\"/><path d=\"M17.41 7.96l-1.37-1.37c-.4-.4-.92-.59-1.43-.59-.52 0-1.04.2-1.43.59L10.3 9.45l-7.72 7.72c-.78.78-.78 2.05 0 2.83L4 21.41c.39.39.9.59 1.41.59.51 0 1.02-.2 1.41-.59l7.78-7.78 2.81-2.81c.8-.78.8-2.07 0-2.86zM5.41 20L4 18.59l7.72-7.72 1.47 1.35L5.41 20z\"/>\n",
              "  </svg>\n",
              "      </button>\n",
              "      \n",
              "  <style>\n",
              "    .colab-df-container {\n",
              "      display:flex;\n",
              "      flex-wrap:wrap;\n",
              "      gap: 12px;\n",
              "    }\n",
              "\n",
              "    .colab-df-convert {\n",
              "      background-color: #E8F0FE;\n",
              "      border: none;\n",
              "      border-radius: 50%;\n",
              "      cursor: pointer;\n",
              "      display: none;\n",
              "      fill: #1967D2;\n",
              "      height: 32px;\n",
              "      padding: 0 0 0 0;\n",
              "      width: 32px;\n",
              "    }\n",
              "\n",
              "    .colab-df-convert:hover {\n",
              "      background-color: #E2EBFA;\n",
              "      box-shadow: 0px 1px 2px rgba(60, 64, 67, 0.3), 0px 1px 3px 1px rgba(60, 64, 67, 0.15);\n",
              "      fill: #174EA6;\n",
              "    }\n",
              "\n",
              "    [theme=dark] .colab-df-convert {\n",
              "      background-color: #3B4455;\n",
              "      fill: #D2E3FC;\n",
              "    }\n",
              "\n",
              "    [theme=dark] .colab-df-convert:hover {\n",
              "      background-color: #434B5C;\n",
              "      box-shadow: 0px 1px 3px 1px rgba(0, 0, 0, 0.15);\n",
              "      filter: drop-shadow(0px 1px 2px rgba(0, 0, 0, 0.3));\n",
              "      fill: #FFFFFF;\n",
              "    }\n",
              "  </style>\n",
              "\n",
              "      <script>\n",
              "        const buttonEl =\n",
              "          document.querySelector('#df-693e53c2-21dc-4ef7-a6b3-9dbb103ad9ed button.colab-df-convert');\n",
              "        buttonEl.style.display =\n",
              "          google.colab.kernel.accessAllowed ? 'block' : 'none';\n",
              "\n",
              "        async function convertToInteractive(key) {\n",
              "          const element = document.querySelector('#df-693e53c2-21dc-4ef7-a6b3-9dbb103ad9ed');\n",
              "          const dataTable =\n",
              "            await google.colab.kernel.invokeFunction('convertToInteractive',\n",
              "                                                     [key], {});\n",
              "          if (!dataTable) return;\n",
              "\n",
              "          const docLinkHtml = 'Like what you see? Visit the ' +\n",
              "            '<a target=\"_blank\" href=https://colab.research.google.com/notebooks/data_table.ipynb>data table notebook</a>'\n",
              "            + ' to learn more about interactive tables.';\n",
              "          element.innerHTML = '';\n",
              "          dataTable['output_type'] = 'display_data';\n",
              "          await google.colab.output.renderOutput(dataTable, element);\n",
              "          const docLink = document.createElement('div');\n",
              "          docLink.innerHTML = docLinkHtml;\n",
              "          element.appendChild(docLink);\n",
              "        }\n",
              "      </script>\n",
              "    </div>\n",
              "  </div>\n",
              "  "
            ]
          },
          "metadata": {},
          "execution_count": 299
        }
      ]
    },
    {
      "cell_type": "code",
      "source": [
        "df_pos = df.loc[df['sentiment']=='positive']"
      ],
      "metadata": {
        "id": "9YHGXv9-FGUV"
      },
      "execution_count": null,
      "outputs": []
    },
    {
      "cell_type": "code",
      "source": [
        "df_pos"
      ],
      "metadata": {
        "colab": {
          "base_uri": "https://localhost:8080/",
          "height": 424
        },
        "id": "3ys0OXWcHyox",
        "outputId": "c455f970-2204-4dd0-fae1-b22af0bff810"
      },
      "execution_count": null,
      "outputs": [
        {
          "output_type": "execute_result",
          "data": {
            "text/plain": [
              "      label                                              tweet sentiment\n",
              "2     happy  kepingin gudeg mbarek bu hj amad foto google s...  positive\n",
              "4     happy  sharing alam kemarin jam batalin tiket stasiun...  positive\n",
              "6     happy  sharing temen tuh emg bgt lu ngerasa lu berat ...  positive\n",
              "12    happy  syukur doa kakek karno anakanak yatim piatu bu...  positive\n",
              "16     love                       hadir tuk aman nyaman hormat  positive\n",
              "...     ...                                                ...       ...\n",
              "4358   love  apaa eh sengaja tu sayang dah baca ku sayang t...  positive\n",
              "4360   love                asa cinta sayang nyaman tenang hati  positive\n",
              "4362   love  sayang skz super talented kaget mas umur motiv...  positive\n",
              "4368   love  papa mejam tahan gejolak batin papa tapu lagil...  positive\n",
              "4371  happy  beneran mahasiswa teknik ui nembak pacar pas s...  positive\n",
              "\n",
              "[1642 rows x 3 columns]"
            ],
            "text/html": [
              "\n",
              "  <div id=\"df-b8d76835-6543-4fbe-ae48-1049b40b178d\">\n",
              "    <div class=\"colab-df-container\">\n",
              "      <div>\n",
              "<style scoped>\n",
              "    .dataframe tbody tr th:only-of-type {\n",
              "        vertical-align: middle;\n",
              "    }\n",
              "\n",
              "    .dataframe tbody tr th {\n",
              "        vertical-align: top;\n",
              "    }\n",
              "\n",
              "    .dataframe thead th {\n",
              "        text-align: right;\n",
              "    }\n",
              "</style>\n",
              "<table border=\"1\" class=\"dataframe\">\n",
              "  <thead>\n",
              "    <tr style=\"text-align: right;\">\n",
              "      <th></th>\n",
              "      <th>label</th>\n",
              "      <th>tweet</th>\n",
              "      <th>sentiment</th>\n",
              "    </tr>\n",
              "  </thead>\n",
              "  <tbody>\n",
              "    <tr>\n",
              "      <th>2</th>\n",
              "      <td>happy</td>\n",
              "      <td>kepingin gudeg mbarek bu hj amad foto google s...</td>\n",
              "      <td>positive</td>\n",
              "    </tr>\n",
              "    <tr>\n",
              "      <th>4</th>\n",
              "      <td>happy</td>\n",
              "      <td>sharing alam kemarin jam batalin tiket stasiun...</td>\n",
              "      <td>positive</td>\n",
              "    </tr>\n",
              "    <tr>\n",
              "      <th>6</th>\n",
              "      <td>happy</td>\n",
              "      <td>sharing temen tuh emg bgt lu ngerasa lu berat ...</td>\n",
              "      <td>positive</td>\n",
              "    </tr>\n",
              "    <tr>\n",
              "      <th>12</th>\n",
              "      <td>happy</td>\n",
              "      <td>syukur doa kakek karno anakanak yatim piatu bu...</td>\n",
              "      <td>positive</td>\n",
              "    </tr>\n",
              "    <tr>\n",
              "      <th>16</th>\n",
              "      <td>love</td>\n",
              "      <td>hadir tuk aman nyaman hormat</td>\n",
              "      <td>positive</td>\n",
              "    </tr>\n",
              "    <tr>\n",
              "      <th>...</th>\n",
              "      <td>...</td>\n",
              "      <td>...</td>\n",
              "      <td>...</td>\n",
              "    </tr>\n",
              "    <tr>\n",
              "      <th>4358</th>\n",
              "      <td>love</td>\n",
              "      <td>apaa eh sengaja tu sayang dah baca ku sayang t...</td>\n",
              "      <td>positive</td>\n",
              "    </tr>\n",
              "    <tr>\n",
              "      <th>4360</th>\n",
              "      <td>love</td>\n",
              "      <td>asa cinta sayang nyaman tenang hati</td>\n",
              "      <td>positive</td>\n",
              "    </tr>\n",
              "    <tr>\n",
              "      <th>4362</th>\n",
              "      <td>love</td>\n",
              "      <td>sayang skz super talented kaget mas umur motiv...</td>\n",
              "      <td>positive</td>\n",
              "    </tr>\n",
              "    <tr>\n",
              "      <th>4368</th>\n",
              "      <td>love</td>\n",
              "      <td>papa mejam tahan gejolak batin papa tapu lagil...</td>\n",
              "      <td>positive</td>\n",
              "    </tr>\n",
              "    <tr>\n",
              "      <th>4371</th>\n",
              "      <td>happy</td>\n",
              "      <td>beneran mahasiswa teknik ui nembak pacar pas s...</td>\n",
              "      <td>positive</td>\n",
              "    </tr>\n",
              "  </tbody>\n",
              "</table>\n",
              "<p>1642 rows × 3 columns</p>\n",
              "</div>\n",
              "      <button class=\"colab-df-convert\" onclick=\"convertToInteractive('df-b8d76835-6543-4fbe-ae48-1049b40b178d')\"\n",
              "              title=\"Convert this dataframe to an interactive table.\"\n",
              "              style=\"display:none;\">\n",
              "        \n",
              "  <svg xmlns=\"http://www.w3.org/2000/svg\" height=\"24px\"viewBox=\"0 0 24 24\"\n",
              "       width=\"24px\">\n",
              "    <path d=\"M0 0h24v24H0V0z\" fill=\"none\"/>\n",
              "    <path d=\"M18.56 5.44l.94 2.06.94-2.06 2.06-.94-2.06-.94-.94-2.06-.94 2.06-2.06.94zm-11 1L8.5 8.5l.94-2.06 2.06-.94-2.06-.94L8.5 2.5l-.94 2.06-2.06.94zm10 10l.94 2.06.94-2.06 2.06-.94-2.06-.94-.94-2.06-.94 2.06-2.06.94z\"/><path d=\"M17.41 7.96l-1.37-1.37c-.4-.4-.92-.59-1.43-.59-.52 0-1.04.2-1.43.59L10.3 9.45l-7.72 7.72c-.78.78-.78 2.05 0 2.83L4 21.41c.39.39.9.59 1.41.59.51 0 1.02-.2 1.41-.59l7.78-7.78 2.81-2.81c.8-.78.8-2.07 0-2.86zM5.41 20L4 18.59l7.72-7.72 1.47 1.35L5.41 20z\"/>\n",
              "  </svg>\n",
              "      </button>\n",
              "      \n",
              "  <style>\n",
              "    .colab-df-container {\n",
              "      display:flex;\n",
              "      flex-wrap:wrap;\n",
              "      gap: 12px;\n",
              "    }\n",
              "\n",
              "    .colab-df-convert {\n",
              "      background-color: #E8F0FE;\n",
              "      border: none;\n",
              "      border-radius: 50%;\n",
              "      cursor: pointer;\n",
              "      display: none;\n",
              "      fill: #1967D2;\n",
              "      height: 32px;\n",
              "      padding: 0 0 0 0;\n",
              "      width: 32px;\n",
              "    }\n",
              "\n",
              "    .colab-df-convert:hover {\n",
              "      background-color: #E2EBFA;\n",
              "      box-shadow: 0px 1px 2px rgba(60, 64, 67, 0.3), 0px 1px 3px 1px rgba(60, 64, 67, 0.15);\n",
              "      fill: #174EA6;\n",
              "    }\n",
              "\n",
              "    [theme=dark] .colab-df-convert {\n",
              "      background-color: #3B4455;\n",
              "      fill: #D2E3FC;\n",
              "    }\n",
              "\n",
              "    [theme=dark] .colab-df-convert:hover {\n",
              "      background-color: #434B5C;\n",
              "      box-shadow: 0px 1px 3px 1px rgba(0, 0, 0, 0.15);\n",
              "      filter: drop-shadow(0px 1px 2px rgba(0, 0, 0, 0.3));\n",
              "      fill: #FFFFFF;\n",
              "    }\n",
              "  </style>\n",
              "\n",
              "      <script>\n",
              "        const buttonEl =\n",
              "          document.querySelector('#df-b8d76835-6543-4fbe-ae48-1049b40b178d button.colab-df-convert');\n",
              "        buttonEl.style.display =\n",
              "          google.colab.kernel.accessAllowed ? 'block' : 'none';\n",
              "\n",
              "        async function convertToInteractive(key) {\n",
              "          const element = document.querySelector('#df-b8d76835-6543-4fbe-ae48-1049b40b178d');\n",
              "          const dataTable =\n",
              "            await google.colab.kernel.invokeFunction('convertToInteractive',\n",
              "                                                     [key], {});\n",
              "          if (!dataTable) return;\n",
              "\n",
              "          const docLinkHtml = 'Like what you see? Visit the ' +\n",
              "            '<a target=\"_blank\" href=https://colab.research.google.com/notebooks/data_table.ipynb>data table notebook</a>'\n",
              "            + ' to learn more about interactive tables.';\n",
              "          element.innerHTML = '';\n",
              "          dataTable['output_type'] = 'display_data';\n",
              "          await google.colab.output.renderOutput(dataTable, element);\n",
              "          const docLink = document.createElement('div');\n",
              "          docLink.innerHTML = docLinkHtml;\n",
              "          element.appendChild(docLink);\n",
              "        }\n",
              "      </script>\n",
              "    </div>\n",
              "  </div>\n",
              "  "
            ]
          },
          "metadata": {},
          "execution_count": 301
        }
      ]
    },
    {
      "cell_type": "code",
      "source": [
        "from sklearn import preprocessing\n",
        "le_pos = preprocessing.LabelEncoder()"
      ],
      "metadata": {
        "id": "yWVQl7XAE-Dm"
      },
      "execution_count": null,
      "outputs": []
    },
    {
      "cell_type": "code",
      "source": [
        "X_pos = df_pos['tweet']\n",
        "y_pos = le_pos.fit_transform(df_pos['label'])\n",
        "\n",
        "from sklearn.model_selection import train_test_split\n",
        "X_train_pos, X_test_pos, y_train_pos, y_test_pos = train_test_split(X_pos, y_pos, stratify=y_pos, test_size=0.2, random_state=2022)\n",
        "X_val_pos, X_test_pos, y_val_pos, y_test_pos = train_test_split(X_test_pos, y_test_pos, stratify=y_test_pos, test_size=0.5, random_state=2022)"
      ],
      "metadata": {
        "id": "jhY8w86ME-Dm"
      },
      "execution_count": null,
      "outputs": []
    },
    {
      "cell_type": "code",
      "source": [
        "X_train_pos"
      ],
      "metadata": {
        "colab": {
          "base_uri": "https://localhost:8080/"
        },
        "outputId": "6782b873-7f83-46e3-86e5-e34de6eefaee",
        "id": "KjvNGiFsE-Dm"
      },
      "execution_count": null,
      "outputs": [
        {
          "output_type": "execute_result",
          "data": {
            "text/plain": [
              "4107    hueee sayang guaaa melow gin sihhh love aaahhh...\n",
              "958     alhamdulillah makan sahur bareng mbah gugel wa...\n",
              "3618    nek sinh mas drumer kui yo cinta indah no kena...\n",
              "721     oldmoneygakngerasain pasang raut pensil cermin...\n",
              "2531    jatuh cinta banget poni samping sayang senyum ...\n",
              "                              ...                        \n",
              "1057    moga tuhan senantiasa langkah hubung kuat uji ...\n",
              "1384    ramadhan malam mulia dr ribu selamat lailatul ...\n",
              "2071    dg menggunakn sistem demokrasi bgtulah jlnnya ...\n",
              "1179    lagu kayak hits sih ensenang just give me reas...\n",
              "480     wozniacki out daria kasatkina lhoomainnya gend...\n",
              "Name: tweet, Length: 1313, dtype: object"
            ]
          },
          "metadata": {},
          "execution_count": 304
        }
      ]
    },
    {
      "cell_type": "code",
      "source": [
        "X_val_pos"
      ],
      "metadata": {
        "colab": {
          "base_uri": "https://localhost:8080/"
        },
        "outputId": "7ee02f19-9e38-4e78-8c84-69883afb9f38",
        "id": "irBESUYrE-Dm"
      },
      "execution_count": null,
      "outputs": [
        {
          "output_type": "execute_result",
          "data": {
            "text/plain": [
              "3420    armyyyyyy bilang sayang kaliannnnnnn huhuhuhu ...\n",
              "2238         sayang cuman km mas nafas oksigen mas sayang\n",
              "3321    yuuuk siap berihtikaf malam terakhirmudah an m...\n",
              "3416    luk adek sayang sabar adek hamil emosi mulu ba...\n",
              "3649    salah kalo joget minum minum cantik kecuali cl...\n",
              "                              ...                        \n",
              "2141    congraduation angela merici akuu sedih sih yaa...\n",
              "1358    alhamdulillah indonesia milik allah moga rahma...\n",
              "3872    hahaha bodo deehhh video frame danielsayang ba...\n",
              "2663    huwawawaaaaaa tanoshimidesuuu pribadi sayang b...\n",
              "3864                           parah wonhee cantik banget\n",
              "Name: tweet, Length: 164, dtype: object"
            ]
          },
          "metadata": {},
          "execution_count": 305
        }
      ]
    },
    {
      "cell_type": "code",
      "source": [
        "X_test_pos"
      ],
      "metadata": {
        "colab": {
          "base_uri": "https://localhost:8080/"
        },
        "outputId": "857e75e0-a11a-49ff-e9f6-329e98b58646",
        "id": "ll0WC4hzE-Dm"
      },
      "execution_count": null,
      "outputs": [
        {
          "output_type": "execute_result",
          "data": {
            "text/plain": [
              "1336    manusia polisi jaga tugas makam mantan preside...\n",
              "3909    terimakasih ajar cinta kasih pandang banding j...\n",
              "258     bangun tidur dapet kabar temen terima sujud sy...\n",
              "4089    sadar kuat emak doa anak emang ken salah anak ...\n",
              "2600    cinta ttg pasanganmujauh cinta tumbuh rumahcin...\n",
              "                              ...                        \n",
              "4315    sejarah indonesia ajar ajar islam indonesia da...\n",
              "809     gin nih klo siluman bukber foto kaga bener uda...\n",
              "2604    surga dunia kamar serasa beneran surga akhirat...\n",
              "1040    hehehee pengepo alhamdulillah da kabar mlika w...\n",
              "3688    yoon jisung asli ganteng drpda foto emang peso...\n",
              "Name: tweet, Length: 165, dtype: object"
            ]
          },
          "metadata": {},
          "execution_count": 306
        }
      ]
    },
    {
      "cell_type": "markdown",
      "source": [
        "# CNN Positive Emot"
      ],
      "metadata": {
        "id": "nkSIkWSOBdOH"
      }
    },
    {
      "cell_type": "code",
      "source": [
        "df_pos"
      ],
      "metadata": {
        "colab": {
          "base_uri": "https://localhost:8080/",
          "height": 424
        },
        "id": "_GeHiqDPNVJa",
        "outputId": "d2f8a33e-cdf6-4c2d-bacb-c068ad6adeb5"
      },
      "execution_count": null,
      "outputs": [
        {
          "output_type": "execute_result",
          "data": {
            "text/plain": [
              "      label                                              tweet sentiment\n",
              "2     happy  kepingin gudeg mbarek bu hj amad foto google s...  positive\n",
              "4     happy  sharing alam kemarin jam batalin tiket stasiun...  positive\n",
              "6     happy  sharing temen tuh emg bgt lu ngerasa lu berat ...  positive\n",
              "12    happy  syukur doa kakek karno anakanak yatim piatu bu...  positive\n",
              "16     love                       hadir tuk aman nyaman hormat  positive\n",
              "...     ...                                                ...       ...\n",
              "4358   love  apaa eh sengaja tu sayang dah baca ku sayang t...  positive\n",
              "4360   love                asa cinta sayang nyaman tenang hati  positive\n",
              "4362   love  sayang skz super talented kaget mas umur motiv...  positive\n",
              "4368   love  papa mejam tahan gejolak batin papa tapu lagil...  positive\n",
              "4371  happy  beneran mahasiswa teknik ui nembak pacar pas s...  positive\n",
              "\n",
              "[1642 rows x 3 columns]"
            ],
            "text/html": [
              "\n",
              "  <div id=\"df-c4efca87-9194-4c82-bd5c-666bd4d6250b\">\n",
              "    <div class=\"colab-df-container\">\n",
              "      <div>\n",
              "<style scoped>\n",
              "    .dataframe tbody tr th:only-of-type {\n",
              "        vertical-align: middle;\n",
              "    }\n",
              "\n",
              "    .dataframe tbody tr th {\n",
              "        vertical-align: top;\n",
              "    }\n",
              "\n",
              "    .dataframe thead th {\n",
              "        text-align: right;\n",
              "    }\n",
              "</style>\n",
              "<table border=\"1\" class=\"dataframe\">\n",
              "  <thead>\n",
              "    <tr style=\"text-align: right;\">\n",
              "      <th></th>\n",
              "      <th>label</th>\n",
              "      <th>tweet</th>\n",
              "      <th>sentiment</th>\n",
              "    </tr>\n",
              "  </thead>\n",
              "  <tbody>\n",
              "    <tr>\n",
              "      <th>2</th>\n",
              "      <td>happy</td>\n",
              "      <td>kepingin gudeg mbarek bu hj amad foto google s...</td>\n",
              "      <td>positive</td>\n",
              "    </tr>\n",
              "    <tr>\n",
              "      <th>4</th>\n",
              "      <td>happy</td>\n",
              "      <td>sharing alam kemarin jam batalin tiket stasiun...</td>\n",
              "      <td>positive</td>\n",
              "    </tr>\n",
              "    <tr>\n",
              "      <th>6</th>\n",
              "      <td>happy</td>\n",
              "      <td>sharing temen tuh emg bgt lu ngerasa lu berat ...</td>\n",
              "      <td>positive</td>\n",
              "    </tr>\n",
              "    <tr>\n",
              "      <th>12</th>\n",
              "      <td>happy</td>\n",
              "      <td>syukur doa kakek karno anakanak yatim piatu bu...</td>\n",
              "      <td>positive</td>\n",
              "    </tr>\n",
              "    <tr>\n",
              "      <th>16</th>\n",
              "      <td>love</td>\n",
              "      <td>hadir tuk aman nyaman hormat</td>\n",
              "      <td>positive</td>\n",
              "    </tr>\n",
              "    <tr>\n",
              "      <th>...</th>\n",
              "      <td>...</td>\n",
              "      <td>...</td>\n",
              "      <td>...</td>\n",
              "    </tr>\n",
              "    <tr>\n",
              "      <th>4358</th>\n",
              "      <td>love</td>\n",
              "      <td>apaa eh sengaja tu sayang dah baca ku sayang t...</td>\n",
              "      <td>positive</td>\n",
              "    </tr>\n",
              "    <tr>\n",
              "      <th>4360</th>\n",
              "      <td>love</td>\n",
              "      <td>asa cinta sayang nyaman tenang hati</td>\n",
              "      <td>positive</td>\n",
              "    </tr>\n",
              "    <tr>\n",
              "      <th>4362</th>\n",
              "      <td>love</td>\n",
              "      <td>sayang skz super talented kaget mas umur motiv...</td>\n",
              "      <td>positive</td>\n",
              "    </tr>\n",
              "    <tr>\n",
              "      <th>4368</th>\n",
              "      <td>love</td>\n",
              "      <td>papa mejam tahan gejolak batin papa tapu lagil...</td>\n",
              "      <td>positive</td>\n",
              "    </tr>\n",
              "    <tr>\n",
              "      <th>4371</th>\n",
              "      <td>happy</td>\n",
              "      <td>beneran mahasiswa teknik ui nembak pacar pas s...</td>\n",
              "      <td>positive</td>\n",
              "    </tr>\n",
              "  </tbody>\n",
              "</table>\n",
              "<p>1642 rows × 3 columns</p>\n",
              "</div>\n",
              "      <button class=\"colab-df-convert\" onclick=\"convertToInteractive('df-c4efca87-9194-4c82-bd5c-666bd4d6250b')\"\n",
              "              title=\"Convert this dataframe to an interactive table.\"\n",
              "              style=\"display:none;\">\n",
              "        \n",
              "  <svg xmlns=\"http://www.w3.org/2000/svg\" height=\"24px\"viewBox=\"0 0 24 24\"\n",
              "       width=\"24px\">\n",
              "    <path d=\"M0 0h24v24H0V0z\" fill=\"none\"/>\n",
              "    <path d=\"M18.56 5.44l.94 2.06.94-2.06 2.06-.94-2.06-.94-.94-2.06-.94 2.06-2.06.94zm-11 1L8.5 8.5l.94-2.06 2.06-.94-2.06-.94L8.5 2.5l-.94 2.06-2.06.94zm10 10l.94 2.06.94-2.06 2.06-.94-2.06-.94-.94-2.06-.94 2.06-2.06.94z\"/><path d=\"M17.41 7.96l-1.37-1.37c-.4-.4-.92-.59-1.43-.59-.52 0-1.04.2-1.43.59L10.3 9.45l-7.72 7.72c-.78.78-.78 2.05 0 2.83L4 21.41c.39.39.9.59 1.41.59.51 0 1.02-.2 1.41-.59l7.78-7.78 2.81-2.81c.8-.78.8-2.07 0-2.86zM5.41 20L4 18.59l7.72-7.72 1.47 1.35L5.41 20z\"/>\n",
              "  </svg>\n",
              "      </button>\n",
              "      \n",
              "  <style>\n",
              "    .colab-df-container {\n",
              "      display:flex;\n",
              "      flex-wrap:wrap;\n",
              "      gap: 12px;\n",
              "    }\n",
              "\n",
              "    .colab-df-convert {\n",
              "      background-color: #E8F0FE;\n",
              "      border: none;\n",
              "      border-radius: 50%;\n",
              "      cursor: pointer;\n",
              "      display: none;\n",
              "      fill: #1967D2;\n",
              "      height: 32px;\n",
              "      padding: 0 0 0 0;\n",
              "      width: 32px;\n",
              "    }\n",
              "\n",
              "    .colab-df-convert:hover {\n",
              "      background-color: #E2EBFA;\n",
              "      box-shadow: 0px 1px 2px rgba(60, 64, 67, 0.3), 0px 1px 3px 1px rgba(60, 64, 67, 0.15);\n",
              "      fill: #174EA6;\n",
              "    }\n",
              "\n",
              "    [theme=dark] .colab-df-convert {\n",
              "      background-color: #3B4455;\n",
              "      fill: #D2E3FC;\n",
              "    }\n",
              "\n",
              "    [theme=dark] .colab-df-convert:hover {\n",
              "      background-color: #434B5C;\n",
              "      box-shadow: 0px 1px 3px 1px rgba(0, 0, 0, 0.15);\n",
              "      filter: drop-shadow(0px 1px 2px rgba(0, 0, 0, 0.3));\n",
              "      fill: #FFFFFF;\n",
              "    }\n",
              "  </style>\n",
              "\n",
              "      <script>\n",
              "        const buttonEl =\n",
              "          document.querySelector('#df-c4efca87-9194-4c82-bd5c-666bd4d6250b button.colab-df-convert');\n",
              "        buttonEl.style.display =\n",
              "          google.colab.kernel.accessAllowed ? 'block' : 'none';\n",
              "\n",
              "        async function convertToInteractive(key) {\n",
              "          const element = document.querySelector('#df-c4efca87-9194-4c82-bd5c-666bd4d6250b');\n",
              "          const dataTable =\n",
              "            await google.colab.kernel.invokeFunction('convertToInteractive',\n",
              "                                                     [key], {});\n",
              "          if (!dataTable) return;\n",
              "\n",
              "          const docLinkHtml = 'Like what you see? Visit the ' +\n",
              "            '<a target=\"_blank\" href=https://colab.research.google.com/notebooks/data_table.ipynb>data table notebook</a>'\n",
              "            + ' to learn more about interactive tables.';\n",
              "          element.innerHTML = '';\n",
              "          dataTable['output_type'] = 'display_data';\n",
              "          await google.colab.output.renderOutput(dataTable, element);\n",
              "          const docLink = document.createElement('div');\n",
              "          docLink.innerHTML = docLinkHtml;\n",
              "          element.appendChild(docLink);\n",
              "        }\n",
              "      </script>\n",
              "    </div>\n",
              "  </div>\n",
              "  "
            ]
          },
          "metadata": {},
          "execution_count": 337
        }
      ]
    },
    {
      "cell_type": "code",
      "execution_count": null,
      "metadata": {
        "id": "qdwHXAlRTTcm"
      },
      "outputs": [],
      "source": [
        "MAX_SEQUENCE_LENGTH = 150\n",
        "MAX_NB_WORDS = 2000\n",
        "EMBEDDING_DIM=300\n",
        "\n",
        "tokenizer_pos = Tokenizer(num_words=MAX_NB_WORDS)\n",
        "tokenizer_pos.fit_on_texts(X_train_pos)\n",
        "sequences_pos = tokenizer_pos.texts_to_sequences(X_train_pos)"
      ]
    },
    {
      "cell_type": "code",
      "execution_count": null,
      "metadata": {
        "colab": {
          "base_uri": "https://localhost:8080/"
        },
        "outputId": "2ef84351-981f-437c-dc6c-f05992bb4be6",
        "id": "Ti8gz-IBTTcn"
      },
      "outputs": [
        {
          "output_type": "stream",
          "name": "stdout",
          "text": [
            "Found 6525 unique tokens.\n",
            "Shape of data tensor: (1313, 150)\n",
            "Shape of label tensor: (1313,)\n"
          ]
        }
      ],
      "source": [
        "word_index_pos = tokenizer_pos.word_index\n",
        "print('Found %s unique tokens.' % len(word_index_pos))\n",
        "X_pos = pad_sequences(sequences_pos, maxlen=MAX_SEQUENCE_LENGTH)\n",
        "y_pos = np.asarray(y_train_pos)\n",
        "print('Shape of data tensor:', X_pos.shape)\n",
        "print('Shape of label tensor:', y_pos.shape)"
      ]
    },
    {
      "cell_type": "code",
      "source": [
        "tokenizer_pos2 = Tokenizer(num_words=MAX_NB_WORDS)\n",
        "tokenizer_pos2.fit_on_texts(X_val_pos)\n",
        "sequences_pos = tokenizer_pos2.texts_to_sequences(X_val_pos)"
      ],
      "metadata": {
        "id": "Cd4N7S2PTTco"
      },
      "execution_count": null,
      "outputs": []
    },
    {
      "cell_type": "code",
      "source": [
        "word_index_pos = tokenizer_pos.word_index\n",
        "print('Found %s unique tokens.' % len(word_index_pos))\n",
        "X_val_seq_pos = pad_sequences(sequences_pos, maxlen=MAX_SEQUENCE_LENGTH)\n",
        "y_val_seq_pos = np.asarray(y_val_pos)\n",
        "print('Shape of data tensor:', X_val_seq_pos.shape)\n",
        "print('Shape of label tensor:', y_val_seq_pos.shape)"
      ],
      "metadata": {
        "colab": {
          "base_uri": "https://localhost:8080/"
        },
        "outputId": "f4dbc710-29d0-4e6c-b63c-aad4e3fbc975",
        "id": "2nn0BQnvTTco"
      },
      "execution_count": null,
      "outputs": [
        {
          "output_type": "stream",
          "name": "stdout",
          "text": [
            "Found 6525 unique tokens.\n",
            "Shape of data tensor: (164, 150)\n",
            "Shape of label tensor: (164,)\n"
          ]
        }
      ]
    },
    {
      "cell_type": "code",
      "execution_count": null,
      "metadata": {
        "id": "0uiBbxfQTTcp"
      },
      "outputs": [],
      "source": [
        "from gensim.models.fasttext import load_facebook_model\n",
        "\n",
        "ft = load_facebook_model(path + 'pretrained_word_embedding/fastext_model_tweet.bin')"
      ]
    },
    {
      "cell_type": "code",
      "source": [
        "ft.vector_size"
      ],
      "metadata": {
        "colab": {
          "base_uri": "https://localhost:8080/"
        },
        "outputId": "ed935b56-2612-4bf2-980e-5ab2418d33f9",
        "id": "4xrwo-NNTTcp"
      },
      "execution_count": null,
      "outputs": [
        {
          "output_type": "execute_result",
          "data": {
            "text/plain": [
              "100"
            ]
          },
          "metadata": {},
          "execution_count": 343
        }
      ]
    },
    {
      "cell_type": "code",
      "execution_count": null,
      "metadata": {
        "id": "tiUlZUMpTTcp"
      },
      "outputs": [],
      "source": [
        "embedding_matrix_ft_pos = np.random.random((len(tokenizer_pos.word_index) + 1, ft.vector_size))"
      ]
    },
    {
      "cell_type": "code",
      "execution_count": null,
      "metadata": {
        "id": "RUAmDhShTTcp"
      },
      "outputs": [],
      "source": [
        "for word,i in tokenizer_pos.word_index.items():\n",
        "    try:\n",
        "        embedding_matrix_ft_pos[i] = ft.wv[word]\n",
        "    except:\n",
        "        pass"
      ]
    },
    {
      "cell_type": "code",
      "source": [
        "embedding_matrix_ft_pos.shape"
      ],
      "metadata": {
        "colab": {
          "base_uri": "https://localhost:8080/"
        },
        "id": "K41yI2IFeaiA",
        "outputId": "4e02ef40-d5e4-4c9c-d42a-29166273f3be"
      },
      "execution_count": null,
      "outputs": [
        {
          "output_type": "execute_result",
          "data": {
            "text/plain": [
              "(6526, 100)"
            ]
          },
          "metadata": {},
          "execution_count": 346
        }
      ]
    },
    {
      "cell_type": "code",
      "source": [
        "embedding_matrix_ft_pos"
      ],
      "metadata": {
        "colab": {
          "base_uri": "https://localhost:8080/"
        },
        "id": "drlBUdGUecng",
        "outputId": "4969bb09-4135-422b-ae37-1acbd8508bf1"
      },
      "execution_count": null,
      "outputs": [
        {
          "output_type": "execute_result",
          "data": {
            "text/plain": [
              "array([[ 0.8349747 ,  0.57884645,  0.67783896, ...,  0.53306474,\n",
              "         0.98590813,  0.3628312 ],\n",
              "       [-0.25671762,  0.1352831 ,  0.2528244 , ..., -0.02192027,\n",
              "         0.29505074, -0.7883265 ],\n",
              "       [ 0.00823545, -0.18591729,  0.1138071 , ...,  0.00780953,\n",
              "         0.19450246, -0.23759556],\n",
              "       ...,\n",
              "       [ 0.20084606, -0.14296155,  0.06375878, ..., -0.01146012,\n",
              "        -0.23777874, -0.41602939],\n",
              "       [ 0.01027974,  0.73587084,  0.32161283, ...,  0.1015126 ,\n",
              "         0.91336185,  0.45722887],\n",
              "       [-0.17897616,  0.36661547, -0.24301994, ..., -0.00524975,\n",
              "         0.15747014,  0.09468712]])"
            ]
          },
          "metadata": {},
          "execution_count": 347
        }
      ]
    },
    {
      "cell_type": "code",
      "execution_count": null,
      "metadata": {
        "id": "UfnK9Z8fTTcq"
      },
      "outputs": [],
      "source": [
        "initial_lr = 0.001\n",
        "epochs = 100\n",
        "decay = initial_lr/epochs\n",
        "batch_size = 32"
      ]
    },
    {
      "cell_type": "code",
      "source": [
        "model_pos = Sequential()\n",
        "#model.add(Embedding(MAX_NB_WORDS, EMBEDDING_DIM, input_length=X.shape[1]))\n",
        "model_pos.add(Embedding(len(tokenizer.word_index)+1, ft.vector_size, weights=[embedding_matrix_ft], input_length=X_pos.shape[1]))\n",
        "#model.add(LSTM(128, dropout=0.2, recurrent_dropout=0.2, return_sequences=False))\n",
        "model_pos.add(Conv1D(128, 3, padding='same'))\n",
        "#model.add(BatchNormalization())\n",
        "#model.add(LSTM(128, dropout=0.2, recurrent_dropout=0.2))\n",
        "model_pos.add(GlobalAvgPool1D())\n",
        "#model.add(Dense(128, activation='relu'))\n",
        "model_pos.add(Dropout(0.2))\n",
        "#model.add(Flatten())\n",
        "model_pos.add(Dense(2, activation='softmax'))\n",
        "opt = tf.keras.optimizers.Adam(clipvalue=1.0)\n",
        "#opt = tf.keras.optimizers.SGD(lr=0.01, momentum=0.9, clipvalue=1.0)\n",
        "model_pos.compile(loss='sparse_categorical_crossentropy', optimizer=opt, metrics=['accuracy'])"
      ],
      "metadata": {
        "id": "uDQAha_zTTcq"
      },
      "execution_count": null,
      "outputs": []
    },
    {
      "cell_type": "code",
      "execution_count": null,
      "metadata": {
        "colab": {
          "base_uri": "https://localhost:8080/"
        },
        "outputId": "46faba23-ac33-4ecd-ee7e-5c433f1adf80",
        "id": "8RlUpVjeTTcr"
      },
      "outputs": [
        {
          "output_type": "stream",
          "name": "stdout",
          "text": [
            "Model: \"sequential_10\"\n",
            "_________________________________________________________________\n",
            " Layer (type)                Output Shape              Param #   \n",
            "=================================================================\n",
            " embedding_9 (Embedding)     (None, 150, 100)          1270200   \n",
            "                                                                 \n",
            " conv1d_9 (Conv1D)           (None, 150, 128)          38528     \n",
            "                                                                 \n",
            " global_average_pooling1d_9   (None, 128)              0         \n",
            " (GlobalAveragePooling1D)                                        \n",
            "                                                                 \n",
            " dropout_9 (Dropout)         (None, 128)               0         \n",
            "                                                                 \n",
            " dense_9 (Dense)             (None, 2)                 258       \n",
            "                                                                 \n",
            "=================================================================\n",
            "Total params: 1,308,986\n",
            "Trainable params: 1,308,986\n",
            "Non-trainable params: 0\n",
            "_________________________________________________________________\n"
          ]
        }
      ],
      "source": [
        "model_pos.summary()"
      ]
    },
    {
      "cell_type": "code",
      "execution_count": null,
      "metadata": {
        "id": "yk5KWSB-TTcr"
      },
      "outputs": [],
      "source": [
        "def lr_time_based_decay(epoch, lr):\n",
        "            return lr * 1 / (1 + decay * epoch)"
      ]
    },
    {
      "cell_type": "code",
      "execution_count": null,
      "metadata": {
        "id": "wT5a_bBFTTcs"
      },
      "outputs": [],
      "source": [
        "es = EarlyStopping(monitor = 'val_loss', mode = \"auto\", patience = 10, restore_best_weights = True)"
      ]
    },
    {
      "cell_type": "code",
      "source": [
        "history_pos = model_pos.fit(X_pos, y_pos, epochs=epochs, validation_data = (X_val_seq_pos, y_val_seq_pos), batch_size=batch_size, callbacks = es)"
      ],
      "metadata": {
        "colab": {
          "base_uri": "https://localhost:8080/"
        },
        "outputId": "030fd7ce-b68a-4be6-b3c4-54d766ae7925",
        "id": "moXW4__2TTcs"
      },
      "execution_count": null,
      "outputs": [
        {
          "output_type": "stream",
          "name": "stdout",
          "text": [
            "Epoch 1/100\n",
            "42/42 [==============================] - 3s 59ms/step - loss: 0.7414 - accuracy: 0.5423 - val_loss: 0.6709 - val_accuracy: 0.6159\n",
            "Epoch 2/100\n",
            "42/42 [==============================] - 4s 92ms/step - loss: 0.7107 - accuracy: 0.5743 - val_loss: 0.6762 - val_accuracy: 0.6159\n",
            "Epoch 3/100\n",
            "42/42 [==============================] - 4s 85ms/step - loss: 0.6723 - accuracy: 0.5994 - val_loss: 0.6650 - val_accuracy: 0.6159\n",
            "Epoch 4/100\n",
            "42/42 [==============================] - 2s 46ms/step - loss: 0.7028 - accuracy: 0.5857 - val_loss: 0.7254 - val_accuracy: 0.6159\n",
            "Epoch 5/100\n",
            "42/42 [==============================] - 2s 46ms/step - loss: 0.7398 - accuracy: 0.5545 - val_loss: 0.7948 - val_accuracy: 0.6159\n",
            "Epoch 6/100\n",
            "42/42 [==============================] - 2s 47ms/step - loss: 0.6568 - accuracy: 0.6245 - val_loss: 0.6610 - val_accuracy: 0.6159\n",
            "Epoch 7/100\n",
            "42/42 [==============================] - 2s 46ms/step - loss: 0.6104 - accuracy: 0.6565 - val_loss: 0.6458 - val_accuracy: 0.6159\n",
            "Epoch 8/100\n",
            "42/42 [==============================] - 2s 46ms/step - loss: 0.5575 - accuracy: 0.7334 - val_loss: 0.6406 - val_accuracy: 0.6159\n",
            "Epoch 9/100\n",
            "42/42 [==============================] - 2s 47ms/step - loss: 0.5235 - accuracy: 0.7616 - val_loss: 0.6373 - val_accuracy: 0.6098\n",
            "Epoch 10/100\n",
            "42/42 [==============================] - 2s 45ms/step - loss: 0.4822 - accuracy: 0.7845 - val_loss: 0.6768 - val_accuracy: 0.6402\n",
            "Epoch 11/100\n",
            "42/42 [==============================] - 3s 64ms/step - loss: 0.4115 - accuracy: 0.8545 - val_loss: 0.6486 - val_accuracy: 0.6280\n",
            "Epoch 12/100\n",
            "42/42 [==============================] - 2s 46ms/step - loss: 0.3697 - accuracy: 0.8530 - val_loss: 0.6329 - val_accuracy: 0.6524\n",
            "Epoch 13/100\n",
            "42/42 [==============================] - 2s 46ms/step - loss: 0.2909 - accuracy: 0.9018 - val_loss: 0.6455 - val_accuracy: 0.6463\n",
            "Epoch 14/100\n",
            "42/42 [==============================] - 2s 46ms/step - loss: 0.2434 - accuracy: 0.9200 - val_loss: 0.6642 - val_accuracy: 0.6524\n",
            "Epoch 15/100\n",
            "42/42 [==============================] - 2s 45ms/step - loss: 0.2254 - accuracy: 0.9299 - val_loss: 0.7081 - val_accuracy: 0.6768\n",
            "Epoch 16/100\n",
            "42/42 [==============================] - 2s 46ms/step - loss: 0.1915 - accuracy: 0.9345 - val_loss: 1.1226 - val_accuracy: 0.5000\n",
            "Epoch 17/100\n",
            "42/42 [==============================] - 2s 46ms/step - loss: 0.2591 - accuracy: 0.8873 - val_loss: 0.7337 - val_accuracy: 0.6829\n",
            "Epoch 18/100\n",
            "42/42 [==============================] - 2s 46ms/step - loss: 0.1565 - accuracy: 0.9490 - val_loss: 0.7489 - val_accuracy: 0.6951\n",
            "Epoch 19/100\n",
            "42/42 [==============================] - 2s 45ms/step - loss: 0.1412 - accuracy: 0.9528 - val_loss: 0.7671 - val_accuracy: 0.6890\n",
            "Epoch 20/100\n",
            "42/42 [==============================] - 2s 45ms/step - loss: 0.1289 - accuracy: 0.9573 - val_loss: 0.7980 - val_accuracy: 0.6585\n",
            "Epoch 21/100\n",
            "42/42 [==============================] - 2s 45ms/step - loss: 0.1216 - accuracy: 0.9627 - val_loss: 1.0596 - val_accuracy: 0.6707\n",
            "Epoch 22/100\n",
            "42/42 [==============================] - 2s 46ms/step - loss: 0.1380 - accuracy: 0.9513 - val_loss: 0.8497 - val_accuracy: 0.6707\n"
          ]
        }
      ]
    },
    {
      "cell_type": "code",
      "source": [
        "plt.title('Loss')\n",
        "plt.plot(history_pos.history['loss'], label='train')\n",
        "plt.plot(history_pos.history['val_loss'], label='test')\n",
        "plt.legend()\n",
        "plt.show()"
      ],
      "metadata": {
        "colab": {
          "base_uri": "https://localhost:8080/",
          "height": 281
        },
        "outputId": "6d8b07a0-78b2-4f91-a3b2-e78403497497",
        "id": "roOv504LTTcs"
      },
      "execution_count": null,
      "outputs": [
        {
          "output_type": "display_data",
          "data": {
            "text/plain": [
              "<Figure size 432x288 with 1 Axes>"
            ],
            "image/png": "[encoded data removed]"
          },
          "metadata": {
            "needs_background": "light"
          }
        }
      ]
    },
    {
      "cell_type": "code",
      "source": [
        "plt.title('Accuracy')\n",
        "plt.plot(history_pos.history['accuracy'], label='train')\n",
        "plt.plot(history_pos.history['val_accuracy'], label='test')\n",
        "plt.legend()\n",
        "plt.show()"
      ],
      "metadata": {
        "colab": {
          "base_uri": "https://localhost:8080/",
          "height": 281
        },
        "outputId": "5549f96e-c723-48ca-ad53-1e575d0ccd7e",
        "id": "KHmmv8TiTTcs"
      },
      "execution_count": null,
      "outputs": [
        {
          "output_type": "display_data",
          "data": {
            "text/plain": [
              "<Figure size 432x288 with 1 Axes>"
            ],
            "image/png": "[encoded data removed]"
          },
          "metadata": {
            "needs_background": "light"
          }
        }
      ]
    },
    {
      "cell_type": "code",
      "source": [
        "X_test_pos"
      ],
      "metadata": {
        "colab": {
          "base_uri": "https://localhost:8080/"
        },
        "outputId": "78bad1f8-0c1a-4d4e-fccd-2537c1c88447",
        "id": "vjfqhKRPghWs"
      },
      "execution_count": null,
      "outputs": [
        {
          "output_type": "execute_result",
          "data": {
            "text/plain": [
              "1336    manusia polisi jaga tugas makam mantan preside...\n",
              "3909    terimakasih ajar cinta kasih pandang banding j...\n",
              "258     bangun tidur dapet kabar temen terima sujud sy...\n",
              "4089    sadar kuat emak doa anak emang ken salah anak ...\n",
              "2600    cinta ttg pasanganmujauh cinta tumbuh rumahcin...\n",
              "                              ...                        \n",
              "4315    sejarah indonesia ajar ajar islam indonesia da...\n",
              "809     gin nih klo siluman bukber foto kaga bener uda...\n",
              "2604    surga dunia kamar serasa beneran surga akhirat...\n",
              "1040    hehehee pengepo alhamdulillah da kabar mlika w...\n",
              "3688    yoon jisung asli ganteng drpda foto emang peso...\n",
              "Name: tweet, Length: 165, dtype: object"
            ]
          },
          "metadata": {},
          "execution_count": 364
        }
      ]
    },
    {
      "cell_type": "code",
      "source": [
        "X_test_pos.to_list()[0]"
      ],
      "metadata": {
        "colab": {
          "base_uri": "https://localhost:8080/",
          "height": 35
        },
        "outputId": "b80e6c1e-4c7f-4361-b667-7bf204b25f93",
        "id": "tkXYuRZrghWt"
      },
      "execution_count": null,
      "outputs": [
        {
          "output_type": "execute_result",
          "data": {
            "text/plain": [
              "'manusia polisi jaga tugas makam mantan presiden mustafa kemal tinggi kek patung tarik foto hahaha'"
            ],
            "application/vnd.google.colaboratory.intrinsic+json": {
              "type": "string"
            }
          },
          "metadata": {},
          "execution_count": 365
        }
      ]
    },
    {
      "cell_type": "code",
      "source": [
        "new_tweet = X_test_pos.to_list()\n",
        "seq = tokenizer.texts_to_sequences(new_tweet)\n",
        "padded = pad_sequences(seq, maxlen=MAX_SEQUENCE_LENGTH)\n",
        "pred = model.predict(padded)\n",
        "labels = ['label']"
      ],
      "metadata": {
        "id": "iQCm7sIVghWt"
      },
      "execution_count": null,
      "outputs": []
    },
    {
      "cell_type": "code",
      "source": [
        "pred.shape"
      ],
      "metadata": {
        "colab": {
          "base_uri": "https://localhost:8080/"
        },
        "outputId": "26cd08ae-ea68-4dfe-e57f-b137daa5d991",
        "id": "C04zjsucghWt"
      },
      "execution_count": null,
      "outputs": [
        {
          "output_type": "execute_result",
          "data": {
            "text/plain": [
              "(165, 1)"
            ]
          },
          "metadata": {},
          "execution_count": 367
        }
      ]
    },
    {
      "cell_type": "code",
      "source": [
        "pred"
      ],
      "metadata": {
        "id": "8PNtNUrThx8I"
      },
      "execution_count": null,
      "outputs": []
    },
    {
      "cell_type": "code",
      "source": [
        "for i, j in enumerate(pred):\n",
        "  pred[i] = np.rint(j)\n",
        "y_test_pred_pos = pred.astype(int)"
      ],
      "metadata": {
        "id": "gjNOEIqhghWt"
      },
      "execution_count": null,
      "outputs": []
    },
    {
      "cell_type": "code",
      "source": [
        "y_test_pred_pos"
      ],
      "metadata": {
        "colab": {
          "base_uri": "https://localhost:8080/"
        },
        "id": "wl0_OhO-h3CG",
        "outputId": "b15019b0-c9c1-4c30-aa25-d2f6f423214d"
      },
      "execution_count": null,
      "outputs": [
        {
          "output_type": "execute_result",
          "data": {
            "text/plain": [
              "array([[0],\n",
              "       [1],\n",
              "       [0],\n",
              "       [0],\n",
              "       [1],\n",
              "       [0],\n",
              "       [1],\n",
              "       [0],\n",
              "       [0],\n",
              "       [0],\n",
              "       [0],\n",
              "       [1],\n",
              "       [0],\n",
              "       [0],\n",
              "       [0],\n",
              "       [1],\n",
              "       [0],\n",
              "       [1],\n",
              "       [0],\n",
              "       [0],\n",
              "       [0],\n",
              "       [1],\n",
              "       [1],\n",
              "       [1],\n",
              "       [0],\n",
              "       [0],\n",
              "       [1],\n",
              "       [1],\n",
              "       [0],\n",
              "       [0],\n",
              "       [1],\n",
              "       [0],\n",
              "       [0],\n",
              "       [0],\n",
              "       [1],\n",
              "       [1],\n",
              "       [0],\n",
              "       [0],\n",
              "       [0],\n",
              "       [1],\n",
              "       [1],\n",
              "       [0],\n",
              "       [0],\n",
              "       [0],\n",
              "       [0],\n",
              "       [1],\n",
              "       [0],\n",
              "       [0],\n",
              "       [0],\n",
              "       [0],\n",
              "       [0],\n",
              "       [1],\n",
              "       [1],\n",
              "       [0],\n",
              "       [1],\n",
              "       [1],\n",
              "       [0],\n",
              "       [0],\n",
              "       [0],\n",
              "       [0],\n",
              "       [0],\n",
              "       [0],\n",
              "       [0],\n",
              "       [0],\n",
              "       [0],\n",
              "       [0],\n",
              "       [0],\n",
              "       [0],\n",
              "       [1],\n",
              "       [1],\n",
              "       [0],\n",
              "       [1],\n",
              "       [0],\n",
              "       [1],\n",
              "       [0],\n",
              "       [1],\n",
              "       [1],\n",
              "       [0],\n",
              "       [1],\n",
              "       [0],\n",
              "       [0],\n",
              "       [1],\n",
              "       [0],\n",
              "       [0],\n",
              "       [0],\n",
              "       [0],\n",
              "       [0],\n",
              "       [0],\n",
              "       [0],\n",
              "       [0],\n",
              "       [0],\n",
              "       [0],\n",
              "       [1],\n",
              "       [0],\n",
              "       [0],\n",
              "       [0],\n",
              "       [0],\n",
              "       [0],\n",
              "       [0],\n",
              "       [0],\n",
              "       [0],\n",
              "       [0],\n",
              "       [1],\n",
              "       [1],\n",
              "       [0],\n",
              "       [0],\n",
              "       [1],\n",
              "       [0],\n",
              "       [0],\n",
              "       [0],\n",
              "       [1],\n",
              "       [0],\n",
              "       [0],\n",
              "       [0],\n",
              "       [0],\n",
              "       [1],\n",
              "       [0],\n",
              "       [1],\n",
              "       [1],\n",
              "       [1],\n",
              "       [1],\n",
              "       [0],\n",
              "       [0],\n",
              "       [0],\n",
              "       [1],\n",
              "       [0],\n",
              "       [0],\n",
              "       [1],\n",
              "       [0],\n",
              "       [1],\n",
              "       [1],\n",
              "       [0],\n",
              "       [0],\n",
              "       [0],\n",
              "       [0],\n",
              "       [1],\n",
              "       [0],\n",
              "       [0],\n",
              "       [0],\n",
              "       [0],\n",
              "       [0],\n",
              "       [1],\n",
              "       [1],\n",
              "       [0],\n",
              "       [0],\n",
              "       [0],\n",
              "       [1],\n",
              "       [0],\n",
              "       [0],\n",
              "       [1],\n",
              "       [1],\n",
              "       [0],\n",
              "       [0],\n",
              "       [0],\n",
              "       [0],\n",
              "       [0],\n",
              "       [0],\n",
              "       [1],\n",
              "       [1],\n",
              "       [0],\n",
              "       [1],\n",
              "       [0],\n",
              "       [0],\n",
              "       [0],\n",
              "       [1]])"
            ]
          },
          "metadata": {},
          "execution_count": 375
        }
      ]
    },
    {
      "cell_type": "code",
      "source": [
        "y_test_pos"
      ],
      "metadata": {
        "colab": {
          "base_uri": "https://localhost:8080/"
        },
        "outputId": "57252f4a-3579-4249-b033-d0b54f5c371e",
        "id": "jSNA843sghWt"
      },
      "execution_count": null,
      "outputs": [
        {
          "output_type": "execute_result",
          "data": {
            "text/plain": [
              "array([0, 1, 0, 0, 1, 0, 1, 0, 0, 1, 0, 1, 1, 0, 0, 1, 1, 0, 1, 0, 0, 1,\n",
              "       1, 0, 1, 0, 1, 1, 0, 0, 0, 0, 0, 0, 1, 0, 0, 0, 1, 0, 0, 0, 0, 1,\n",
              "       0, 0, 0, 0, 1, 1, 0, 0, 0, 0, 0, 0, 1, 0, 1, 1, 0, 0, 1, 0, 1, 1,\n",
              "       0, 0, 1, 0, 1, 1, 1, 1, 0, 1, 1, 0, 1, 0, 0, 1, 0, 1, 0, 0, 1, 0,\n",
              "       1, 1, 1, 0, 0, 0, 0, 1, 0, 0, 0, 0, 1, 0, 1, 0, 0, 0, 0, 0, 0, 1,\n",
              "       0, 0, 0, 0, 0, 0, 0, 1, 1, 0, 1, 1, 0, 0, 0, 1, 0, 1, 0, 0, 1, 0,\n",
              "       1, 0, 1, 1, 1, 0, 1, 0, 1, 1, 0, 0, 0, 0, 0, 0, 0, 1, 0, 0, 0, 1,\n",
              "       1, 1, 0, 1, 1, 0, 0, 0, 0, 0, 1])"
            ]
          },
          "metadata": {},
          "execution_count": 369
        }
      ]
    },
    {
      "cell_type": "markdown",
      "source": [
        "# Evaluation Positive Emot"
      ],
      "metadata": {
        "id": "gY_slZyVgV1H"
      }
    },
    {
      "cell_type": "code",
      "execution_count": null,
      "metadata": {
        "id": "Y2UuHK4agV1H"
      },
      "outputs": [],
      "source": [
        "from sklearn.metrics import classification_report, accuracy_score, f1_score"
      ]
    },
    {
      "cell_type": "code",
      "execution_count": null,
      "metadata": {
        "colab": {
          "base_uri": "https://localhost:8080/"
        },
        "outputId": "b1153fdc-96ad-48b9-8e67-7f821e241335",
        "id": "EKuGE82agV1H"
      },
      "outputs": [
        {
          "output_type": "stream",
          "name": "stdout",
          "text": [
            "              precision    recall  f1-score   support\n",
            "\n",
            "           0       0.69      0.76      0.72       101\n",
            "           1       0.55      0.45      0.50        64\n",
            "\n",
            "    accuracy                           0.64       165\n",
            "   macro avg       0.62      0.61      0.61       165\n",
            "weighted avg       0.63      0.64      0.63       165\n",
            "\n"
          ]
        }
      ],
      "source": [
        "print(classification_report(y_test_pos, y_test_pred_pos))"
      ]
    },
    {
      "cell_type": "code",
      "source": [
        "print(accuracy_score(y_test_pos, y_test_pred_pos), f1_score(y_test_pos, y_test_pred_pos, average='weighted'), f1_score(y_test_pos, y_test_pred_pos, average='macro'), f1_score(y_test_pos, y_test_pred_pos, average='micro'))"
      ],
      "metadata": {
        "colab": {
          "base_uri": "https://localhost:8080/"
        },
        "outputId": "82e8a9be-659c-428c-8fe5-f9a4d2dc713b",
        "id": "9918xx8IgV1I"
      },
      "execution_count": null,
      "outputs": [
        {
          "output_type": "stream",
          "name": "stdout",
          "text": [
            "0.6424242424242425 0.6348483024539362 0.6093655952810881 0.6424242424242425\n"
          ]
        }
      ]
    },
    {
      "cell_type": "code",
      "source": [
        "print(accuracy_score(y_test_pos, y_test_pred_pos))\n",
        "print(f1_score(y_test_pos, y_test_pred_pos, average='weighted'))\n",
        "print(f1_score(y_test_pos, y_test_pred_pos, average='macro'))\n",
        "print(f1_score(y_test_pos, y_test_pred_pos, average='micro'))"
      ],
      "metadata": {
        "colab": {
          "base_uri": "https://localhost:8080/"
        },
        "outputId": "6d05ea17-eaf5-4c0d-bc58-39215ff0242c",
        "id": "VtpU9hQXgV1I"
      },
      "execution_count": null,
      "outputs": [
        {
          "output_type": "stream",
          "name": "stdout",
          "text": [
            "0.6424242424242425\n",
            "0.6348483024539362\n",
            "0.6093655952810881\n",
            "0.6424242424242425\n"
          ]
        }
      ]
    },
    {
      "cell_type": "code",
      "source": [
        ""
      ],
      "metadata": {
        "id": "0J6CFEMwg4HR"
      },
      "execution_count": null,
      "outputs": []
    },
    {
      "cell_type": "markdown",
      "source": [
        "# Split Negative Emot"
      ],
      "metadata": {
        "id": "84fWZUCyiFCe"
      }
    },
    {
      "cell_type": "code",
      "source": [
        "df"
      ],
      "metadata": {
        "colab": {
          "base_uri": "https://localhost:8080/",
          "height": 424
        },
        "outputId": "91cd14ec-cc25-408b-c48b-da46ad81eb0f",
        "id": "-uTITJwhiFCf"
      },
      "execution_count": null,
      "outputs": [
        {
          "output_type": "execute_result",
          "data": {
            "text/plain": [
              "        label                                              tweet sentiment\n",
              "0       anger  jln jatibarupolisi tdk bs gertak gubernur eman...  negative\n",
              "1       anger  cewe lho kayak rasain sibuk jaga rasain sakit ...  negative\n",
              "2       happy  kepingin gudeg mbarek bu hj amad foto google s...  positive\n",
              "3       anger  jln jatibarubagian wilayah tn abangpengaturan ...  negative\n",
              "4       happy  sharing alam kemarin jam batalin tiket stasiun...  positive\n",
              "...       ...                                                ...       ...\n",
              "4368     love  papa mejam tahan gejolak batin papa tapu lagil...  positive\n",
              "4369     fear  sulit calon wapresnya jokowi pilpres salah gem...  negative\n",
              "4370    anger  nggak lha iya gimana coba lulus seni nari nari...  negative\n",
              "4371    happy  beneran mahasiswa teknik ui nembak pacar pas s...  positive\n",
              "4372  sadness               allah engkau sakit hati sembuh allah  negative\n",
              "\n",
              "[4373 rows x 3 columns]"
            ],
            "text/html": [
              "\n",
              "  <div id=\"df-693e53c2-21dc-4ef7-a6b3-9dbb103ad9ed\">\n",
              "    <div class=\"colab-df-container\">\n",
              "      <div>\n",
              "<style scoped>\n",
              "    .dataframe tbody tr th:only-of-type {\n",
              "        vertical-align: middle;\n",
              "    }\n",
              "\n",
              "    .dataframe tbody tr th {\n",
              "        vertical-align: top;\n",
              "    }\n",
              "\n",
              "    .dataframe thead th {\n",
              "        text-align: right;\n",
              "    }\n",
              "</style>\n",
              "<table border=\"1\" class=\"dataframe\">\n",
              "  <thead>\n",
              "    <tr style=\"text-align: right;\">\n",
              "      <th></th>\n",
              "      <th>label</th>\n",
              "      <th>tweet</th>\n",
              "      <th>sentiment</th>\n",
              "    </tr>\n",
              "  </thead>\n",
              "  <tbody>\n",
              "    <tr>\n",
              "      <th>0</th>\n",
              "      <td>anger</td>\n",
              "      <td>jln jatibarupolisi tdk bs gertak gubernur eman...</td>\n",
              "      <td>negative</td>\n",
              "    </tr>\n",
              "    <tr>\n",
              "      <th>1</th>\n",
              "      <td>anger</td>\n",
              "      <td>cewe lho kayak rasain sibuk jaga rasain sakit ...</td>\n",
              "      <td>negative</td>\n",
              "    </tr>\n",
              "    <tr>\n",
              "      <th>2</th>\n",
              "      <td>happy</td>\n",
              "      <td>kepingin gudeg mbarek bu hj amad foto google s...</td>\n",
              "      <td>positive</td>\n",
              "    </tr>\n",
              "    <tr>\n",
              "      <th>3</th>\n",
              "      <td>anger</td>\n",
              "      <td>jln jatibarubagian wilayah tn abangpengaturan ...</td>\n",
              "      <td>negative</td>\n",
              "    </tr>\n",
              "    <tr>\n",
              "      <th>4</th>\n",
              "      <td>happy</td>\n",
              "      <td>sharing alam kemarin jam batalin tiket stasiun...</td>\n",
              "      <td>positive</td>\n",
              "    </tr>\n",
              "    <tr>\n",
              "      <th>...</th>\n",
              "      <td>...</td>\n",
              "      <td>...</td>\n",
              "      <td>...</td>\n",
              "    </tr>\n",
              "    <tr>\n",
              "      <th>4368</th>\n",
              "      <td>love</td>\n",
              "      <td>papa mejam tahan gejolak batin papa tapu lagil...</td>\n",
              "      <td>positive</td>\n",
              "    </tr>\n",
              "    <tr>\n",
              "      <th>4369</th>\n",
              "      <td>fear</td>\n",
              "      <td>sulit calon wapresnya jokowi pilpres salah gem...</td>\n",
              "      <td>negative</td>\n",
              "    </tr>\n",
              "    <tr>\n",
              "      <th>4370</th>\n",
              "      <td>anger</td>\n",
              "      <td>nggak lha iya gimana coba lulus seni nari nari...</td>\n",
              "      <td>negative</td>\n",
              "    </tr>\n",
              "    <tr>\n",
              "      <th>4371</th>\n",
              "      <td>happy</td>\n",
              "      <td>beneran mahasiswa teknik ui nembak pacar pas s...</td>\n",
              "      <td>positive</td>\n",
              "    </tr>\n",
              "    <tr>\n",
              "      <th>4372</th>\n",
              "      <td>sadness</td>\n",
              "      <td>allah engkau sakit hati sembuh allah</td>\n",
              "      <td>negative</td>\n",
              "    </tr>\n",
              "  </tbody>\n",
              "</table>\n",
              "<p>4373 rows × 3 columns</p>\n",
              "</div>\n",
              "      <button class=\"colab-df-convert\" onclick=\"convertToInteractive('df-693e53c2-21dc-4ef7-a6b3-9dbb103ad9ed')\"\n",
              "              title=\"Convert this dataframe to an interactive table.\"\n",
              "              style=\"display:none;\">\n",
              "        \n",
              "  <svg xmlns=\"http://www.w3.org/2000/svg\" height=\"24px\"viewBox=\"0 0 24 24\"\n",
              "       width=\"24px\">\n",
              "    <path d=\"M0 0h24v24H0V0z\" fill=\"none\"/>\n",
              "    <path d=\"M18.56 5.44l.94 2.06.94-2.06 2.06-.94-2.06-.94-.94-2.06-.94 2.06-2.06.94zm-11 1L8.5 8.5l.94-2.06 2.06-.94-2.06-.94L8.5 2.5l-.94 2.06-2.06.94zm10 10l.94 2.06.94-2.06 2.06-.94-2.06-.94-.94-2.06-.94 2.06-2.06.94z\"/><path d=\"M17.41 7.96l-1.37-1.37c-.4-.4-.92-.59-1.43-.59-.52 0-1.04.2-1.43.59L10.3 9.45l-7.72 7.72c-.78.78-.78 2.05 0 2.83L4 21.41c.39.39.9.59 1.41.59.51 0 1.02-.2 1.41-.59l7.78-7.78 2.81-2.81c.8-.78.8-2.07 0-2.86zM5.41 20L4 18.59l7.72-7.72 1.47 1.35L5.41 20z\"/>\n",
              "  </svg>\n",
              "      </button>\n",
              "      \n",
              "  <style>\n",
              "    .colab-df-container {\n",
              "      display:flex;\n",
              "      flex-wrap:wrap;\n",
              "      gap: 12px;\n",
              "    }\n",
              "\n",
              "    .colab-df-convert {\n",
              "      background-color: #E8F0FE;\n",
              "      border: none;\n",
              "      border-radius: 50%;\n",
              "      cursor: pointer;\n",
              "      display: none;\n",
              "      fill: #1967D2;\n",
              "      height: 32px;\n",
              "      padding: 0 0 0 0;\n",
              "      width: 32px;\n",
              "    }\n",
              "\n",
              "    .colab-df-convert:hover {\n",
              "      background-color: #E2EBFA;\n",
              "      box-shadow: 0px 1px 2px rgba(60, 64, 67, 0.3), 0px 1px 3px 1px rgba(60, 64, 67, 0.15);\n",
              "      fill: #174EA6;\n",
              "    }\n",
              "\n",
              "    [theme=dark] .colab-df-convert {\n",
              "      background-color: #3B4455;\n",
              "      fill: #D2E3FC;\n",
              "    }\n",
              "\n",
              "    [theme=dark] .colab-df-convert:hover {\n",
              "      background-color: #434B5C;\n",
              "      box-shadow: 0px 1px 3px 1px rgba(0, 0, 0, 0.15);\n",
              "      filter: drop-shadow(0px 1px 2px rgba(0, 0, 0, 0.3));\n",
              "      fill: #FFFFFF;\n",
              "    }\n",
              "  </style>\n",
              "\n",
              "      <script>\n",
              "        const buttonEl =\n",
              "          document.querySelector('#df-693e53c2-21dc-4ef7-a6b3-9dbb103ad9ed button.colab-df-convert');\n",
              "        buttonEl.style.display =\n",
              "          google.colab.kernel.accessAllowed ? 'block' : 'none';\n",
              "\n",
              "        async function convertToInteractive(key) {\n",
              "          const element = document.querySelector('#df-693e53c2-21dc-4ef7-a6b3-9dbb103ad9ed');\n",
              "          const dataTable =\n",
              "            await google.colab.kernel.invokeFunction('convertToInteractive',\n",
              "                                                     [key], {});\n",
              "          if (!dataTable) return;\n",
              "\n",
              "          const docLinkHtml = 'Like what you see? Visit the ' +\n",
              "            '<a target=\"_blank\" href=https://colab.research.google.com/notebooks/data_table.ipynb>data table notebook</a>'\n",
              "            + ' to learn more about interactive tables.';\n",
              "          element.innerHTML = '';\n",
              "          dataTable['output_type'] = 'display_data';\n",
              "          await google.colab.output.renderOutput(dataTable, element);\n",
              "          const docLink = document.createElement('div');\n",
              "          docLink.innerHTML = docLinkHtml;\n",
              "          element.appendChild(docLink);\n",
              "        }\n",
              "      </script>\n",
              "    </div>\n",
              "  </div>\n",
              "  "
            ]
          },
          "metadata": {},
          "execution_count": 299
        }
      ]
    },
    {
      "cell_type": "code",
      "source": [
        "df_pos = df.loc[df['sentiment']=='positive']"
      ],
      "metadata": {
        "id": "AjzbWUreiFCf"
      },
      "execution_count": null,
      "outputs": []
    },
    {
      "cell_type": "code",
      "source": [
        "df_pos"
      ],
      "metadata": {
        "colab": {
          "base_uri": "https://localhost:8080/",
          "height": 424
        },
        "outputId": "c455f970-2204-4dd0-fae1-b22af0bff810",
        "id": "pabiH_RaiFCg"
      },
      "execution_count": null,
      "outputs": [
        {
          "output_type": "execute_result",
          "data": {
            "text/plain": [
              "      label                                              tweet sentiment\n",
              "2     happy  kepingin gudeg mbarek bu hj amad foto google s...  positive\n",
              "4     happy  sharing alam kemarin jam batalin tiket stasiun...  positive\n",
              "6     happy  sharing temen tuh emg bgt lu ngerasa lu berat ...  positive\n",
              "12    happy  syukur doa kakek karno anakanak yatim piatu bu...  positive\n",
              "16     love                       hadir tuk aman nyaman hormat  positive\n",
              "...     ...                                                ...       ...\n",
              "4358   love  apaa eh sengaja tu sayang dah baca ku sayang t...  positive\n",
              "4360   love                asa cinta sayang nyaman tenang hati  positive\n",
              "4362   love  sayang skz super talented kaget mas umur motiv...  positive\n",
              "4368   love  papa mejam tahan gejolak batin papa tapu lagil...  positive\n",
              "4371  happy  beneran mahasiswa teknik ui nembak pacar pas s...  positive\n",
              "\n",
              "[1642 rows x 3 columns]"
            ],
            "text/html": [
              "\n",
              "  <div id=\"df-b8d76835-6543-4fbe-ae48-1049b40b178d\">\n",
              "    <div class=\"colab-df-container\">\n",
              "      <div>\n",
              "<style scoped>\n",
              "    .dataframe tbody tr th:only-of-type {\n",
              "        vertical-align: middle;\n",
              "    }\n",
              "\n",
              "    .dataframe tbody tr th {\n",
              "        vertical-align: top;\n",
              "    }\n",
              "\n",
              "    .dataframe thead th {\n",
              "        text-align: right;\n",
              "    }\n",
              "</style>\n",
              "<table border=\"1\" class=\"dataframe\">\n",
              "  <thead>\n",
              "    <tr style=\"text-align: right;\">\n",
              "      <th></th>\n",
              "      <th>label</th>\n",
              "      <th>tweet</th>\n",
              "      <th>sentiment</th>\n",
              "    </tr>\n",
              "  </thead>\n",
              "  <tbody>\n",
              "    <tr>\n",
              "      <th>2</th>\n",
              "      <td>happy</td>\n",
              "      <td>kepingin gudeg mbarek bu hj amad foto google s...</td>\n",
              "      <td>positive</td>\n",
              "    </tr>\n",
              "    <tr>\n",
              "      <th>4</th>\n",
              "      <td>happy</td>\n",
              "      <td>sharing alam kemarin jam batalin tiket stasiun...</td>\n",
              "      <td>positive</td>\n",
              "    </tr>\n",
              "    <tr>\n",
              "      <th>6</th>\n",
              "      <td>happy</td>\n",
              "      <td>sharing temen tuh emg bgt lu ngerasa lu berat ...</td>\n",
              "      <td>positive</td>\n",
              "    </tr>\n",
              "    <tr>\n",
              "      <th>12</th>\n",
              "      <td>happy</td>\n",
              "      <td>syukur doa kakek karno anakanak yatim piatu bu...</td>\n",
              "      <td>positive</td>\n",
              "    </tr>\n",
              "    <tr>\n",
              "      <th>16</th>\n",
              "      <td>love</td>\n",
              "      <td>hadir tuk aman nyaman hormat</td>\n",
              "      <td>positive</td>\n",
              "    </tr>\n",
              "    <tr>\n",
              "      <th>...</th>\n",
              "      <td>...</td>\n",
              "      <td>...</td>\n",
              "      <td>...</td>\n",
              "    </tr>\n",
              "    <tr>\n",
              "      <th>4358</th>\n",
              "      <td>love</td>\n",
              "      <td>apaa eh sengaja tu sayang dah baca ku sayang t...</td>\n",
              "      <td>positive</td>\n",
              "    </tr>\n",
              "    <tr>\n",
              "      <th>4360</th>\n",
              "      <td>love</td>\n",
              "      <td>asa cinta sayang nyaman tenang hati</td>\n",
              "      <td>positive</td>\n",
              "    </tr>\n",
              "    <tr>\n",
              "      <th>4362</th>\n",
              "      <td>love</td>\n",
              "      <td>sayang skz super talented kaget mas umur motiv...</td>\n",
              "      <td>positive</td>\n",
              "    </tr>\n",
              "    <tr>\n",
              "      <th>4368</th>\n",
              "      <td>love</td>\n",
              "      <td>papa mejam tahan gejolak batin papa tapu lagil...</td>\n",
              "      <td>positive</td>\n",
              "    </tr>\n",
              "    <tr>\n",
              "      <th>4371</th>\n",
              "      <td>happy</td>\n",
              "      <td>beneran mahasiswa teknik ui nembak pacar pas s...</td>\n",
              "      <td>positive</td>\n",
              "    </tr>\n",
              "  </tbody>\n",
              "</table>\n",
              "<p>1642 rows × 3 columns</p>\n",
              "</div>\n",
              "      <button class=\"colab-df-convert\" onclick=\"convertToInteractive('df-b8d76835-6543-4fbe-ae48-1049b40b178d')\"\n",
              "              title=\"Convert this dataframe to an interactive table.\"\n",
              "              style=\"display:none;\">\n",
              "        \n",
              "  <svg xmlns=\"http://www.w3.org/2000/svg\" height=\"24px\"viewBox=\"0 0 24 24\"\n",
              "       width=\"24px\">\n",
              "    <path d=\"M0 0h24v24H0V0z\" fill=\"none\"/>\n",
              "    <path d=\"M18.56 5.44l.94 2.06.94-2.06 2.06-.94-2.06-.94-.94-2.06-.94 2.06-2.06.94zm-11 1L8.5 8.5l.94-2.06 2.06-.94-2.06-.94L8.5 2.5l-.94 2.06-2.06.94zm10 10l.94 2.06.94-2.06 2.06-.94-2.06-.94-.94-2.06-.94 2.06-2.06.94z\"/><path d=\"M17.41 7.96l-1.37-1.37c-.4-.4-.92-.59-1.43-.59-.52 0-1.04.2-1.43.59L10.3 9.45l-7.72 7.72c-.78.78-.78 2.05 0 2.83L4 21.41c.39.39.9.59 1.41.59.51 0 1.02-.2 1.41-.59l7.78-7.78 2.81-2.81c.8-.78.8-2.07 0-2.86zM5.41 20L4 18.59l7.72-7.72 1.47 1.35L5.41 20z\"/>\n",
              "  </svg>\n",
              "      </button>\n",
              "      \n",
              "  <style>\n",
              "    .colab-df-container {\n",
              "      display:flex;\n",
              "      flex-wrap:wrap;\n",
              "      gap: 12px;\n",
              "    }\n",
              "\n",
              "    .colab-df-convert {\n",
              "      background-color: #E8F0FE;\n",
              "      border: none;\n",
              "      border-radius: 50%;\n",
              "      cursor: pointer;\n",
              "      display: none;\n",
              "      fill: #1967D2;\n",
              "      height: 32px;\n",
              "      padding: 0 0 0 0;\n",
              "      width: 32px;\n",
              "    }\n",
              "\n",
              "    .colab-df-convert:hover {\n",
              "      background-color: #E2EBFA;\n",
              "      box-shadow: 0px 1px 2px rgba(60, 64, 67, 0.3), 0px 1px 3px 1px rgba(60, 64, 67, 0.15);\n",
              "      fill: #174EA6;\n",
              "    }\n",
              "\n",
              "    [theme=dark] .colab-df-convert {\n",
              "      background-color: #3B4455;\n",
              "      fill: #D2E3FC;\n",
              "    }\n",
              "\n",
              "    [theme=dark] .colab-df-convert:hover {\n",
              "      background-color: #434B5C;\n",
              "      box-shadow: 0px 1px 3px 1px rgba(0, 0, 0, 0.15);\n",
              "      filter: drop-shadow(0px 1px 2px rgba(0, 0, 0, 0.3));\n",
              "      fill: #FFFFFF;\n",
              "    }\n",
              "  </style>\n",
              "\n",
              "      <script>\n",
              "        const buttonEl =\n",
              "          document.querySelector('#df-b8d76835-6543-4fbe-ae48-1049b40b178d button.colab-df-convert');\n",
              "        buttonEl.style.display =\n",
              "          google.colab.kernel.accessAllowed ? 'block' : 'none';\n",
              "\n",
              "        async function convertToInteractive(key) {\n",
              "          const element = document.querySelector('#df-b8d76835-6543-4fbe-ae48-1049b40b178d');\n",
              "          const dataTable =\n",
              "            await google.colab.kernel.invokeFunction('convertToInteractive',\n",
              "                                                     [key], {});\n",
              "          if (!dataTable) return;\n",
              "\n",
              "          const docLinkHtml = 'Like what you see? Visit the ' +\n",
              "            '<a target=\"_blank\" href=https://colab.research.google.com/notebooks/data_table.ipynb>data table notebook</a>'\n",
              "            + ' to learn more about interactive tables.';\n",
              "          element.innerHTML = '';\n",
              "          dataTable['output_type'] = 'display_data';\n",
              "          await google.colab.output.renderOutput(dataTable, element);\n",
              "          const docLink = document.createElement('div');\n",
              "          docLink.innerHTML = docLinkHtml;\n",
              "          element.appendChild(docLink);\n",
              "        }\n",
              "      </script>\n",
              "    </div>\n",
              "  </div>\n",
              "  "
            ]
          },
          "metadata": {},
          "execution_count": 301
        }
      ]
    },
    {
      "cell_type": "code",
      "source": [
        "from sklearn import preprocessing\n",
        "le_pos = preprocessing.LabelEncoder()"
      ],
      "metadata": {
        "id": "O5NzI4uSiFCg"
      },
      "execution_count": null,
      "outputs": []
    },
    {
      "cell_type": "code",
      "source": [
        "X_pos = df_pos['tweet']\n",
        "y_pos = le_pos.fit_transform(df_pos['label'])\n",
        "\n",
        "from sklearn.model_selection import train_test_split\n",
        "X_train_pos, X_test_pos, y_train_pos, y_test_pos = train_test_split(X_pos, y_pos, stratify=y_pos, test_size=0.2, random_state=2022)\n",
        "X_val_pos, X_test_pos, y_val_pos, y_test_pos = train_test_split(X_test_pos, y_test_pos, stratify=y_test_pos, test_size=0.5, random_state=2022)"
      ],
      "metadata": {
        "id": "bRCDhOZ_iFCg"
      },
      "execution_count": null,
      "outputs": []
    },
    {
      "cell_type": "code",
      "source": [
        "X_train_pos"
      ],
      "metadata": {
        "colab": {
          "base_uri": "https://localhost:8080/"
        },
        "outputId": "6782b873-7f83-46e3-86e5-e34de6eefaee",
        "id": "E7rTJlmyiFCg"
      },
      "execution_count": null,
      "outputs": [
        {
          "output_type": "execute_result",
          "data": {
            "text/plain": [
              "4107    hueee sayang guaaa melow gin sihhh love aaahhh...\n",
              "958     alhamdulillah makan sahur bareng mbah gugel wa...\n",
              "3618    nek sinh mas drumer kui yo cinta indah no kena...\n",
              "721     oldmoneygakngerasain pasang raut pensil cermin...\n",
              "2531    jatuh cinta banget poni samping sayang senyum ...\n",
              "                              ...                        \n",
              "1057    moga tuhan senantiasa langkah hubung kuat uji ...\n",
              "1384    ramadhan malam mulia dr ribu selamat lailatul ...\n",
              "2071    dg menggunakn sistem demokrasi bgtulah jlnnya ...\n",
              "1179    lagu kayak hits sih ensenang just give me reas...\n",
              "480     wozniacki out daria kasatkina lhoomainnya gend...\n",
              "Name: tweet, Length: 1313, dtype: object"
            ]
          },
          "metadata": {},
          "execution_count": 304
        }
      ]
    },
    {
      "cell_type": "code",
      "source": [
        "X_val_pos"
      ],
      "metadata": {
        "colab": {
          "base_uri": "https://localhost:8080/"
        },
        "outputId": "7ee02f19-9e38-4e78-8c84-69883afb9f38",
        "id": "s7CeRaT_iFCg"
      },
      "execution_count": null,
      "outputs": [
        {
          "output_type": "execute_result",
          "data": {
            "text/plain": [
              "3420    armyyyyyy bilang sayang kaliannnnnnn huhuhuhu ...\n",
              "2238         sayang cuman km mas nafas oksigen mas sayang\n",
              "3321    yuuuk siap berihtikaf malam terakhirmudah an m...\n",
              "3416    luk adek sayang sabar adek hamil emosi mulu ba...\n",
              "3649    salah kalo joget minum minum cantik kecuali cl...\n",
              "                              ...                        \n",
              "2141    congraduation angela merici akuu sedih sih yaa...\n",
              "1358    alhamdulillah indonesia milik allah moga rahma...\n",
              "3872    hahaha bodo deehhh video frame danielsayang ba...\n",
              "2663    huwawawaaaaaa tanoshimidesuuu pribadi sayang b...\n",
              "3864                           parah wonhee cantik banget\n",
              "Name: tweet, Length: 164, dtype: object"
            ]
          },
          "metadata": {},
          "execution_count": 305
        }
      ]
    },
    {
      "cell_type": "code",
      "source": [
        "X_test_pos"
      ],
      "metadata": {
        "colab": {
          "base_uri": "https://localhost:8080/"
        },
        "outputId": "857e75e0-a11a-49ff-e9f6-329e98b58646",
        "id": "6ARJ2rGCiFCh"
      },
      "execution_count": null,
      "outputs": [
        {
          "output_type": "execute_result",
          "data": {
            "text/plain": [
              "1336    manusia polisi jaga tugas makam mantan preside...\n",
              "3909    terimakasih ajar cinta kasih pandang banding j...\n",
              "258     bangun tidur dapet kabar temen terima sujud sy...\n",
              "4089    sadar kuat emak doa anak emang ken salah anak ...\n",
              "2600    cinta ttg pasanganmujauh cinta tumbuh rumahcin...\n",
              "                              ...                        \n",
              "4315    sejarah indonesia ajar ajar islam indonesia da...\n",
              "809     gin nih klo siluman bukber foto kaga bener uda...\n",
              "2604    surga dunia kamar serasa beneran surga akhirat...\n",
              "1040    hehehee pengepo alhamdulillah da kabar mlika w...\n",
              "3688    yoon jisung asli ganteng drpda foto emang peso...\n",
              "Name: tweet, Length: 165, dtype: object"
            ]
          },
          "metadata": {},
          "execution_count": 306
        }
      ]
    },
    {
      "cell_type": "markdown",
      "source": [
        ""
      ],
      "metadata": {
        "id": "9aNOBTzqzkGd"
      }
    },
    {
      "cell_type": "markdown",
      "source": [
        "# DRAFT ALL LINUS"
      ],
      "metadata": {
        "id": "3bawPPK_zl_L"
      }
    },
    {
      "cell_type": "markdown",
      "source": [
        "## CNN GlobalAvgPool (Linus)"
      ],
      "metadata": {
        "id": "giusMp7V41in"
      }
    },
    {
      "cell_type": "code",
      "source": [
        "y_train"
      ],
      "metadata": {
        "colab": {
          "base_uri": "https://localhost:8080/"
        },
        "id": "2GnCznUJcnvB",
        "outputId": "f67a3567-a375-4e3a-bc72-f037d1a63078"
      },
      "execution_count": null,
      "outputs": [
        {
          "output_type": "execute_result",
          "data": {
            "text/plain": [
              "array([1, 1, 0, ..., 1, 0, 1])"
            ]
          },
          "metadata": {},
          "execution_count": 268
        }
      ]
    },
    {
      "cell_type": "code",
      "execution_count": null,
      "metadata": {
        "id": "MHjxdsoR41iu"
      },
      "outputs": [],
      "source": [
        "MAX_SEQUENCE_LENGTH = 150\n",
        "MAX_NB_WORDS = 2000\n",
        "EMBEDDING_DIM=300\n",
        "\n",
        "tokenizer = Tokenizer(num_words=MAX_NB_WORDS)\n",
        "tokenizer.fit_on_texts(X_train)\n",
        "sequences = tokenizer.texts_to_sequences(X_train)"
      ]
    },
    {
      "cell_type": "code",
      "execution_count": null,
      "metadata": {
        "colab": {
          "base_uri": "https://localhost:8080/"
        },
        "outputId": "5847c26d-7977-4dcd-d179-b3b47dbd17e1",
        "id": "fe3GOmUb41iv"
      },
      "outputs": [
        {
          "output_type": "stream",
          "name": "stdout",
          "text": [
            "Found 12701 unique tokens.\n",
            "Shape of data tensor: (3498, 150)\n",
            "Shape of label tensor: (3498,)\n"
          ]
        }
      ],
      "source": [
        "word_index = tokenizer.word_index\n",
        "print('Found %s unique tokens.' % len(word_index))\n",
        "X = pad_sequences(sequences, maxlen=MAX_SEQUENCE_LENGTH)\n",
        "y = np.asarray(y_train)\n",
        "print('Shape of data tensor:', X.shape)\n",
        "print('Shape of label tensor:', y.shape)"
      ]
    },
    {
      "cell_type": "code",
      "source": [
        "X_val"
      ],
      "metadata": {
        "colab": {
          "base_uri": "https://localhost:8080/"
        },
        "outputId": "30167424-a3ba-4448-bc49-d2fd812f9402",
        "id": "VcfNkrmU41iv"
      },
      "execution_count": null,
      "outputs": [
        {
          "output_type": "execute_result",
          "data": {
            "text/plain": [
              "935     marah lampias hati ku hati kecewa moshing suru...\n",
              "489     neng banget refreshing neng banget gitu cari u...\n",
              "3016    sop dr bank bang sasar gak org langgan bank in...\n",
              "2502    pengin bilang heiiii lo tuh nyaplok duit hak l...\n",
              "3661    beli mobil harga sampe juta doi ganti head uni...\n",
              "                              ...                        \n",
              "1260    bodo bonek the jak gak akur kalo model jijik k...\n",
              "653     elah gw jg kog hidup tngh kelilingin sodara ma...\n",
              "1286    lepas krim dokter alias krim klinik alhamdulil...\n",
              "2249    bundling tawar weekdays momentum hargaharga ho...\n",
              "1906                yo yo wes sampean bener gak awas kalo\n",
              "Name: tweet, Length: 437, dtype: object"
            ]
          },
          "metadata": {},
          "execution_count": 271
        }
      ]
    },
    {
      "cell_type": "code",
      "source": [
        "tokenizer2 = Tokenizer(num_words=MAX_NB_WORDS)\n",
        "tokenizer2.fit_on_texts(X_val)\n",
        "sequences = tokenizer2.texts_to_sequences(X_val)"
      ],
      "metadata": {
        "id": "NWHIyKvn41iv"
      },
      "execution_count": null,
      "outputs": []
    },
    {
      "cell_type": "code",
      "source": [
        "word_index = tokenizer2.word_index\n",
        "print('Found %s unique tokens.' % len(word_index))\n",
        "X_val_seq = pad_sequences(sequences, maxlen=MAX_SEQUENCE_LENGTH)\n",
        "y_val_seq = np.asarray(y_val)\n",
        "print('Shape of data tensor:', X_val_seq.shape)\n",
        "print('Shape of label tensor:', y_val_seq.shape)"
      ],
      "metadata": {
        "colab": {
          "base_uri": "https://localhost:8080/"
        },
        "outputId": "0dc20e32-0bbc-4b70-9077-2f9bdf107d45",
        "id": "Bmre1jQq41iv"
      },
      "execution_count": null,
      "outputs": [
        {
          "output_type": "stream",
          "name": "stdout",
          "text": [
            "Found 3213 unique tokens.\n",
            "Shape of data tensor: (437, 150)\n",
            "Shape of label tensor: (437,)\n"
          ]
        }
      ]
    },
    {
      "cell_type": "code",
      "execution_count": null,
      "metadata": {
        "id": "yvSPdrQj41iv"
      },
      "outputs": [],
      "source": [
        "from gensim.models.fasttext import load_facebook_model\n",
        "\n",
        "ft = load_facebook_model(path + 'pretrained_word_embedding/fastext_model_tweet.bin')"
      ]
    },
    {
      "cell_type": "code",
      "source": [
        "ft.vector_size"
      ],
      "metadata": {
        "colab": {
          "base_uri": "https://localhost:8080/"
        },
        "outputId": "6d2ec75e-16c6-489e-cffc-1f5fdb40e901",
        "id": "7xHNEA2B41iw"
      },
      "execution_count": null,
      "outputs": [
        {
          "output_type": "execute_result",
          "data": {
            "text/plain": [
              "100"
            ]
          },
          "metadata": {},
          "execution_count": 275
        }
      ]
    },
    {
      "cell_type": "code",
      "execution_count": null,
      "metadata": {
        "id": "AzLPuNsa41iw"
      },
      "outputs": [],
      "source": [
        "embedding_matrix_ft = np.random.random((len(tokenizer.word_index) + 1, ft.vector_size))"
      ]
    },
    {
      "cell_type": "code",
      "execution_count": null,
      "metadata": {
        "id": "9zspEAL741iw"
      },
      "outputs": [],
      "source": [
        "for word,i in tokenizer.word_index.items():\n",
        "    try:\n",
        "        embedding_matrix_ft[i] = ft.wv[word]\n",
        "    except:\n",
        "        pass"
      ]
    },
    {
      "cell_type": "code",
      "source": [
        "embedding_matrix_ft.shape"
      ],
      "metadata": {
        "colab": {
          "base_uri": "https://localhost:8080/"
        },
        "outputId": "5d888f6e-75e8-409c-b21c-5941109a9eac",
        "id": "kzSaaM0m41iw"
      },
      "execution_count": null,
      "outputs": [
        {
          "output_type": "execute_result",
          "data": {
            "text/plain": [
              "(12702, 100)"
            ]
          },
          "metadata": {},
          "execution_count": 278
        }
      ]
    },
    {
      "cell_type": "code",
      "source": [
        "embedding_matrix_ft"
      ],
      "metadata": {
        "colab": {
          "base_uri": "https://localhost:8080/"
        },
        "id": "dTfuyQtbeUtr",
        "outputId": "d6957066-8687-41ce-8053-4497df4c1be2"
      },
      "execution_count": null,
      "outputs": [
        {
          "output_type": "execute_result",
          "data": {
            "text/plain": [
              "array([[ 0.0091234 ,  0.64839253,  0.04000237, ...,  0.3287069 ,\n",
              "         0.04207159,  0.30939994],\n",
              "       [ 0.26909387, -0.17004867, -0.21591057, ...,  0.27169502,\n",
              "         0.30696163, -0.1610582 ],\n",
              "       [-0.25671762,  0.1352831 ,  0.2528244 , ..., -0.02192027,\n",
              "         0.29505074, -0.7883265 ],\n",
              "       ...,\n",
              "       [ 0.14794658, -0.09843659, -0.26208964, ..., -0.17383234,\n",
              "         0.19704889, -0.20497386],\n",
              "       [ 0.04582234, -0.33538395, -0.01034909, ..., -0.3437404 ,\n",
              "         0.10030973,  0.00766423],\n",
              "       [ 0.00478703, -0.21181297, -0.0870865 , ..., -0.17781439,\n",
              "        -0.25780275, -0.01787653]])"
            ]
          },
          "metadata": {},
          "execution_count": 279
        }
      ]
    },
    {
      "cell_type": "code",
      "execution_count": null,
      "metadata": {
        "id": "dbsd4W0G41iw"
      },
      "outputs": [],
      "source": [
        "initial_lr = 0.001\n",
        "epochs = 100\n",
        "decay = initial_lr/epochs\n",
        "batch_size = 32"
      ]
    },
    {
      "cell_type": "code",
      "source": [
        "model = Sequential()\n",
        "#model.add(Embedding(MAX_NB_WORDS, EMBEDDING_DIM, input_length=X.shape[1]))\n",
        "model.add(Embedding(len(tokenizer.word_index)+1, ft.vector_size, weights=[embedding_matrix_ft], input_length=X.shape[1]))\n",
        "#model.add(LSTM(128, dropout=0.2, recurrent_dropout=0.2, return_sequences=False))\n",
        "model.add(Conv1D(128, 3, padding='same'))\n",
        "#model.add(BatchNormalization())\n",
        "#model.add(LSTM(128, dropout=0.2, recurrent_dropout=0.2))\n",
        "model.add(GlobalAvgPool1D())\n",
        "#model.add(Dense(128, activation='relu'))\n",
        "model.add(Dropout(0.2))\n",
        "#model.add(Flatten())\n",
        "model.add(Dense(1, activation='sigmoid'))\n",
        "opt = tf.keras.optimizers.Adam(clipvalue=1.0)\n",
        "#opt = tf.keras.optimizers.SGD(lr=0.01, momentum=0.9, clipvalue=1.0)\n",
        "model.compile(loss='binary_crossentropy', optimizer=opt, metrics=['accuracy'])"
      ],
      "metadata": {
        "id": "WXGeqbvD41iw"
      },
      "execution_count": null,
      "outputs": []
    },
    {
      "cell_type": "code",
      "execution_count": null,
      "metadata": {
        "colab": {
          "base_uri": "https://localhost:8080/"
        },
        "outputId": "2003df5a-f6c1-483c-d6e1-11630db2a3be",
        "id": "bvZvK1mr41iw"
      },
      "outputs": [
        {
          "output_type": "stream",
          "name": "stdout",
          "text": [
            "Model: \"sequential_8\"\n",
            "_________________________________________________________________\n",
            " Layer (type)                Output Shape              Param #   \n",
            "=================================================================\n",
            " embedding_7 (Embedding)     (None, 150, 100)          1270200   \n",
            "                                                                 \n",
            " conv1d_7 (Conv1D)           (None, 150, 128)          38528     \n",
            "                                                                 \n",
            " global_average_pooling1d_7   (None, 128)              0         \n",
            " (GlobalAveragePooling1D)                                        \n",
            "                                                                 \n",
            " dropout_7 (Dropout)         (None, 128)               0         \n",
            "                                                                 \n",
            " dense_7 (Dense)             (None, 1)                 129       \n",
            "                                                                 \n",
            "=================================================================\n",
            "Total params: 1,308,857\n",
            "Trainable params: 1,308,857\n",
            "Non-trainable params: 0\n",
            "_________________________________________________________________\n"
          ]
        }
      ],
      "source": [
        "model.summary()"
      ]
    },
    {
      "cell_type": "code",
      "execution_count": null,
      "metadata": {
        "id": "pYjKlDrT41iw"
      },
      "outputs": [],
      "source": [
        "def lr_time_based_decay(epoch, lr):\n",
        "            return lr * 1 / (1 + decay * epoch)"
      ]
    },
    {
      "cell_type": "code",
      "execution_count": null,
      "metadata": {
        "id": "JgvEYQvO41iw"
      },
      "outputs": [],
      "source": [
        "es = EarlyStopping(monitor = 'val_loss', mode = \"auto\", patience = 10, restore_best_weights = True)"
      ]
    },
    {
      "cell_type": "code",
      "source": [
        "history = model.fit(X, y, epochs=epochs, validation_data = (X_val_seq, y_val_seq), batch_size=batch_size, callbacks = es)"
      ],
      "metadata": {
        "colab": {
          "base_uri": "https://localhost:8080/"
        },
        "outputId": "50932102-d9e7-4529-c92e-9b482e4af0c7",
        "id": "t_76wHrs41ix"
      },
      "execution_count": null,
      "outputs": [
        {
          "output_type": "stream",
          "name": "stdout",
          "text": [
            "Epoch 1/100\n",
            "110/110 [==============================] - 6s 47ms/step - loss: 0.7062 - accuracy: 0.5800 - val_loss: 0.7161 - val_accuracy: 0.3753\n",
            "Epoch 2/100\n",
            "110/110 [==============================] - 5s 45ms/step - loss: 0.6647 - accuracy: 0.6121 - val_loss: 0.6656 - val_accuracy: 0.6247\n",
            "Epoch 3/100\n",
            "110/110 [==============================] - 5s 45ms/step - loss: 0.6089 - accuracy: 0.6747 - val_loss: 0.6624 - val_accuracy: 0.6316\n",
            "Epoch 4/100\n",
            "110/110 [==============================] - 5s 45ms/step - loss: 0.5585 - accuracy: 0.7138 - val_loss: 0.6850 - val_accuracy: 0.5767\n",
            "Epoch 5/100\n",
            "110/110 [==============================] - 5s 45ms/step - loss: 0.4978 - accuracy: 0.7653 - val_loss: 0.7191 - val_accuracy: 0.6087\n",
            "Epoch 6/100\n",
            "110/110 [==============================] - 7s 66ms/step - loss: 0.4316 - accuracy: 0.8099 - val_loss: 0.8752 - val_accuracy: 0.4668\n",
            "Epoch 7/100\n",
            "110/110 [==============================] - 7s 67ms/step - loss: 0.3996 - accuracy: 0.8285 - val_loss: 0.8483 - val_accuracy: 0.5378\n",
            "Epoch 8/100\n",
            "110/110 [==============================] - 5s 46ms/step - loss: 0.3590 - accuracy: 0.8439 - val_loss: 0.9101 - val_accuracy: 0.5378\n",
            "Epoch 9/100\n",
            "110/110 [==============================] - 5s 46ms/step - loss: 0.3574 - accuracy: 0.8496 - val_loss: 0.9553 - val_accuracy: 0.5584\n",
            "Epoch 10/100\n",
            "110/110 [==============================] - 5s 46ms/step - loss: 0.3225 - accuracy: 0.8556 - val_loss: 1.0207 - val_accuracy: 0.5995\n",
            "Epoch 11/100\n",
            "110/110 [==============================] - 7s 59ms/step - loss: 0.2802 - accuracy: 0.8856 - val_loss: 1.2162 - val_accuracy: 0.6064\n",
            "Epoch 12/100\n",
            "110/110 [==============================] - 5s 46ms/step - loss: 0.2741 - accuracy: 0.8834 - val_loss: 1.1716 - val_accuracy: 0.5995\n",
            "Epoch 13/100\n",
            "110/110 [==============================] - 5s 46ms/step - loss: 0.2523 - accuracy: 0.9011 - val_loss: 1.2290 - val_accuracy: 0.5950\n"
          ]
        }
      ]
    },
    {
      "cell_type": "code",
      "source": [
        "plt.title('Loss')\n",
        "plt.plot(history.history['loss'], label='train')\n",
        "plt.plot(history.history['val_loss'], label='test')\n",
        "plt.legend()\n",
        "plt.show()"
      ],
      "metadata": {
        "colab": {
          "base_uri": "https://localhost:8080/",
          "height": 281
        },
        "outputId": "1eab9b55-7b2d-43ac-83fe-d7cd56e12f2d",
        "id": "PFjPigj741ix"
      },
      "execution_count": null,
      "outputs": [
        {
          "output_type": "display_data",
          "data": {
            "text/plain": [
              "<Figure size 432x288 with 1 Axes>"
            ],
            "image/png": "[encoded data removed]"
          },
          "metadata": {
            "needs_background": "light"
          }
        }
      ]
    },
    {
      "cell_type": "code",
      "source": [
        "plt.title('Accuracy')\n",
        "plt.plot(history.history['accuracy'], label='train')\n",
        "plt.plot(history.history['val_accuracy'], label='test')\n",
        "plt.legend()\n",
        "plt.show()"
      ],
      "metadata": {
        "colab": {
          "base_uri": "https://localhost:8080/",
          "height": 281
        },
        "outputId": "ab6c4d86-867b-45d0-d5b1-18db3fded582",
        "id": "_u2gGN7v41ix"
      },
      "execution_count": null,
      "outputs": [
        {
          "output_type": "display_data",
          "data": {
            "text/plain": [
              "<Figure size 432x288 with 1 Axes>"
            ],
            "image/png": "[encoded data removed]"
          },
          "metadata": {
            "needs_background": "light"
          }
        }
      ]
    },
    {
      "cell_type": "code",
      "source": [
        "X_test"
      ],
      "metadata": {
        "colab": {
          "base_uri": "https://localhost:8080/"
        },
        "outputId": "4c765f6c-12ee-4337-d9c3-351171dd7d7e",
        "id": "pPCi3fV741ix"
      },
      "execution_count": null,
      "outputs": [
        {
          "output_type": "execute_result",
          "data": {
            "text/plain": [
              "1243                            kasihan nungu yah resulta\n",
              "3154    berani lakilaki berani rumah gadis suka duduk ...\n",
              "4323    malam pojok pilih jalan dapet dm kalo udah nia...\n",
              "3864                           parah wonhee cantik banget\n",
              "28      gimana nilai dr jilbabsyaringgak kadang gemez ...\n",
              "                              ...                        \n",
              "1761    gw sh sbnrnya susah banget nih lepas dr sedot ...\n",
              "32      sungguh cinta berat pisah hadiahperasaan bikin...\n",
              "3894    giat kantor pusat rencana tgl pulang tiket pul...\n",
              "218     terima kasih tertawa moga amal soleh mulia ham...\n",
              "3555    kadang suka gak terima kalo liat hidup we gak ...\n",
              "Name: tweet, Length: 438, dtype: object"
            ]
          },
          "metadata": {},
          "execution_count": 288
        }
      ]
    },
    {
      "cell_type": "code",
      "source": [
        "X_test.to_list()[0]"
      ],
      "metadata": {
        "colab": {
          "base_uri": "https://localhost:8080/",
          "height": 35
        },
        "outputId": "bcb792b7-e542-4ce0-f38c-da74ed4baef1",
        "id": "J8Nvm1jw41ix"
      },
      "execution_count": null,
      "outputs": [
        {
          "output_type": "execute_result",
          "data": {
            "text/plain": [
              "'kasihan nungu yah resulta'"
            ],
            "application/vnd.google.colaboratory.intrinsic+json": {
              "type": "string"
            }
          },
          "metadata": {},
          "execution_count": 289
        }
      ]
    },
    {
      "cell_type": "code",
      "source": [
        "new_tweet = X_test.to_list()\n",
        "seq = tokenizer.texts_to_sequences(new_tweet)\n",
        "padded = pad_sequences(seq, maxlen=MAX_SEQUENCE_LENGTH)\n",
        "pred = model.predict(padded)\n",
        "labels = ['sentiment']"
      ],
      "metadata": {
        "id": "lnFQr0UI41ix"
      },
      "execution_count": null,
      "outputs": []
    },
    {
      "cell_type": "code",
      "source": [
        "pred.shape"
      ],
      "metadata": {
        "colab": {
          "base_uri": "https://localhost:8080/"
        },
        "outputId": "2c90ac11-0e6f-4462-b585-053e53949523",
        "id": "xhtaXNmi41ix"
      },
      "execution_count": null,
      "outputs": [
        {
          "output_type": "execute_result",
          "data": {
            "text/plain": [
              "(438, 1)"
            ]
          },
          "metadata": {},
          "execution_count": 291
        }
      ]
    },
    {
      "cell_type": "code",
      "source": [
        "for i, j in enumerate(pred):\n",
        "  pred[i] = np.rint(j)\n",
        "y_test_pred = pred.astype(int)"
      ],
      "metadata": {
        "id": "Xo0AilK141iy"
      },
      "execution_count": null,
      "outputs": []
    },
    {
      "cell_type": "code",
      "source": [
        "y_test"
      ],
      "metadata": {
        "colab": {
          "base_uri": "https://localhost:8080/"
        },
        "outputId": "7dc4f1b6-1b1d-4fae-fcc9-93bba6912eef",
        "id": "LQQrueTs41iy"
      },
      "execution_count": null,
      "outputs": [
        {
          "output_type": "execute_result",
          "data": {
            "text/plain": [
              "array([0, 1, 0, 1, 0, 0, 0, 1, 0, 1, 1, 0, 1, 0, 0, 1, 0, 1, 0, 0, 0, 1,\n",
              "       1, 0, 1, 1, 0, 0, 0, 1, 1, 0, 0, 0, 0, 0, 0, 0, 0, 1, 0, 1, 1, 0,\n",
              "       0, 0, 1, 0, 0, 0, 1, 1, 1, 0, 0, 0, 0, 1, 1, 0, 0, 1, 0, 1, 0, 0,\n",
              "       1, 1, 0, 0, 0, 0, 0, 0, 0, 0, 0, 1, 1, 1, 1, 0, 1, 0, 1, 0, 0, 1,\n",
              "       0, 0, 0, 1, 0, 0, 1, 0, 1, 0, 0, 0, 1, 0, 1, 0, 1, 1, 1, 0, 0, 0,\n",
              "       1, 1, 0, 0, 0, 0, 0, 1, 1, 0, 1, 0, 0, 0, 0, 0, 0, 1, 0, 0, 1, 0,\n",
              "       1, 0, 0, 1, 0, 0, 1, 0, 1, 0, 0, 0, 0, 0, 0, 1, 1, 1, 0, 0, 0, 0,\n",
              "       0, 0, 0, 0, 1, 0, 1, 1, 0, 1, 0, 0, 0, 0, 0, 0, 1, 1, 0, 0, 0, 0,\n",
              "       0, 1, 0, 0, 0, 0, 0, 1, 0, 1, 1, 1, 1, 0, 0, 1, 0, 0, 0, 0, 1, 0,\n",
              "       1, 1, 0, 0, 0, 0, 0, 0, 1, 1, 0, 0, 0, 0, 0, 0, 0, 0, 0, 0, 1, 0,\n",
              "       0, 0, 1, 1, 0, 0, 1, 1, 0, 1, 1, 0, 0, 0, 0, 0, 0, 0, 1, 0, 1, 0,\n",
              "       1, 0, 0, 1, 0, 1, 0, 1, 1, 1, 0, 0, 0, 1, 1, 0, 0, 1, 1, 1, 0, 0,\n",
              "       0, 0, 1, 0, 0, 0, 0, 0, 1, 0, 0, 0, 1, 1, 1, 0, 0, 1, 1, 0, 0, 1,\n",
              "       0, 1, 0, 1, 0, 1, 1, 1, 0, 0, 1, 0, 0, 1, 0, 0, 0, 0, 0, 1, 0, 1,\n",
              "       1, 0, 1, 0, 0, 1, 0, 0, 1, 0, 0, 1, 0, 0, 0, 1, 1, 0, 1, 1, 1, 0,\n",
              "       1, 1, 1, 1, 1, 1, 0, 0, 0, 0, 0, 1, 1, 0, 0, 1, 1, 1, 0, 0, 0, 1,\n",
              "       0, 0, 0, 0, 0, 0, 0, 0, 1, 1, 0, 1, 0, 0, 0, 0, 1, 1, 1, 0, 1, 1,\n",
              "       0, 1, 0, 0, 0, 1, 0, 0, 0, 0, 0, 0, 0, 0, 1, 0, 0, 0, 0, 0, 1, 0,\n",
              "       1, 1, 0, 0, 0, 0, 0, 0, 0, 1, 1, 0, 0, 1, 1, 1, 1, 0, 0, 1, 1, 0,\n",
              "       1, 0, 0, 1, 0, 1, 1, 1, 0, 0, 1, 0, 1, 0, 1, 0, 0, 1, 1, 0])"
            ]
          },
          "metadata": {},
          "execution_count": 293
        }
      ]
    }
  ]
}